{
 "cells": [
  {
   "cell_type": "code",
   "execution_count": 124,
   "metadata": {
    "collapsed": false
   },
   "outputs": [
    {
     "name": "stdout",
     "output_type": "stream",
     "text": [
      "The autoreload extension is already loaded. To reload it, use:\n",
      "  %reload_ext autoreload\n"
     ]
    }
   ],
   "source": [
    "import pandas as pd\n",
    "import matplotlib.pyplot as plt\n",
    "import seaborn as sns\n",
    "import numpy as np\n",
    "%matplotlib inline\n",
    "%load_ext autoreload\n",
    "%autoreload 2\n",
    "from creation_functions import *"
   ]
  },
  {
   "cell_type": "code",
   "execution_count": 125,
   "metadata": {
    "collapsed": false
   },
   "outputs": [
    {
     "name": "stdout",
     "output_type": "stream",
     "text": [
      "                       O3_ppb      UnixTime      e2v03     Temp         Rh  \\\n",
      "DATE (MM/DD/YYYY)_MST                                                        \n",
      "2014-07-11 07:40:00        41  1.405064e+09  35.440000  25.6000  43.688000   \n",
      "2014-07-11 07:41:00        42  1.405064e+09  34.840000  25.5160  43.852000   \n",
      "2014-07-11 07:42:00        40  1.405065e+09  35.958333  25.4875  43.945833   \n",
      "2014-07-11 07:43:00        35  1.405065e+09  40.400000  25.4760  44.080000   \n",
      "2014-07-11 07:44:00        33  1.405065e+09  39.440000  25.4960  44.272000   \n",
      "\n",
      "                       Zenith Angle [degrees]  days from start  ref_o3_smooth  \n",
      "DATE (MM/DD/YYYY)_MST                                                          \n",
      "2014-07-11 07:40:00                  58.40762                0             41  \n",
      "2014-07-11 07:41:00                  58.21597                0             42  \n",
      "2014-07-11 07:42:00                  58.02430                0             40  \n",
      "2014-07-11 07:43:00                  57.83260                0             35  \n",
      "2014-07-11 07:44:00                  57.64086                0             33  \n"
     ]
    }
   ],
   "source": [
    "df_P = pd.io.parsers.read_csv(filepath_or_buffer = 'data/F7_filt_10mino3.csv',index_col = 0)\n",
    "print df_P[:5]"
   ]
  },
  {
   "cell_type": "code",
   "execution_count": null,
   "metadata": {
    "collapsed": false
   },
   "outputs": [
    {
     "name": "stdout",
     "output_type": "stream",
     "text": [
      "                       O3_ppb      UnixTime      e2v03     Temp         Rh  \\\n",
      "DATE (MM/DD/YYYY)_MST                                                        \n",
      "2014-07-11 07:40:00        41  1.405064e+09  35.440000  25.6000  43.688000   \n",
      "2014-07-11 07:41:00        42  1.405064e+09  34.840000  25.5160  43.852000   \n",
      "2014-07-11 07:42:00        40  1.405065e+09  35.958333  25.4875  43.945833   \n",
      "2014-07-11 07:43:00        35  1.405065e+09  40.400000  25.4760  44.080000   \n",
      "2014-07-11 07:44:00        33  1.405065e+09  39.440000  25.4960  44.272000   \n",
      "\n",
      "                       days from start  ref_o3_smooth  \n",
      "DATE (MM/DD/YYYY)_MST                                  \n",
      "2014-07-11 07:40:00                  0             41  \n",
      "2014-07-11 07:41:00                  0             42  \n",
      "2014-07-11 07:42:00                  0             40  \n",
      "2014-07-11 07:43:00                  0             35  \n",
      "2014-07-11 07:44:00                  0             33  \n"
     ]
    }
   ],
   "source": [
    "df_P.drop(df_P.columns[[5]], axis=1, inplace=True)\n",
    "print df_P[:5]"
   ]
  },
  {
   "cell_type": "code",
   "execution_count": null,
   "metadata": {
    "collapsed": false,
    "scrolled": true
   },
   "outputs": [],
   "source": [
    "#ozone terms\n",
    "df_P['O3_sqrt'] = np.sqrt(df_P['e2v03'].astype(float))\n",
    "df_P['O3_sq'] = df_P['e2v03']**2\n",
    "df_P['O3_cu'] = df_P['e2v03']**3\n",
    "df_P['ln_O3'] = np.log(df_P['e2v03'])\n",
    "\n",
    "#temp terms\n",
    "df_P['temp_sqrt'] = np.sqrt(df_P['Temp'].astype(float))\n",
    "df_P['temp_sq'] = df_P['Temp']**2\n",
    "df_P['temp_cu'] = df_P['Temp']**3\n",
    "df_P['ln_temp'] =np.log(df_P['Temp'])\n",
    "\n",
    "#rh terms\n",
    "df_P['rh_sqrt'] = np.sqrt(df_P['Rh'].astype(float))\n",
    "df_P['rh_sq'] = df_P['Rh']**2\n",
    "df_P['rh_cu'] = df_P['Rh']**3\n",
    "df_P['ln_rh'] = np.log(df_P['Rh'])\n",
    "\n",
    "#ozone/temp interactions\n",
    "df_P['03_mult_temp'] = df_P['e2v03']*df_P['Temp']\n",
    "df_P['03_sq_mult_temp_sq'] = ((df_P['e2v03'])**2)*df_P['Temp']**2\n",
    "df_P['ln_03_mult_ln_temp'] = np.log(df_P['Temp'])*np.log(df_P['e2v03'])\n",
    "\n",
    "#ozone/rh interactions\n",
    "df_P['03_mult_rh'] = df_P['e2v03']*df_P['Rh']\n",
    "df_P['03_sq_mult_rh_sq'] = (df_P['e2v03']**2)*df_P['Rh']**2\n",
    "df_P['ln_03_mult_ln_rh'] = np.log(df_P['Rh'])*np.log(df_P['e2v03'])\n",
    "\n",
    "#temp/rh interactions\n",
    "df_P['temp_mult_rh'] = df_P['Temp']*df_P['Rh']\n",
    "df_P['temp_sq_mult_rh_sq'] = (df_P['Temp']**2)*df_P['Rh']**2\n",
    "df_P['ln_temp_mult_ln_rh'] = np.log(df_P['Temp'])*np.log(df_P['Rh'])\n",
    "\n",
    "#ozone/rh/temp interactions\n",
    "df_P['03_mult_rh_&_temp'] = df_P['e2v03']*df_P['Rh']*df_P['Temp']\n",
    "df_P['03_sq_mult_rh_sq_&_temp_sq'] = (df_P['e2v03']**2)*(df_P['Rh']**2)*df_P['Temp']**2\n",
    "df_P['ln_03_mult_ln_rh_&_ln_temp'] = np.log(df_P['Temp'])*np.log(df_P['Rh'])*np.log(df_P['e2v03'])\n",
    "\n",
    "feature_list = ['e2v03', 'ln_O3', 'Temp', 'ln_temp', 'Rh', 'ln_rh']\n",
    "\n",
    "for i in range(0,len(feature_list)):\n",
    "    make_func_caller_find_lag_integral(df_P, 15, 90, 15, feature_list[i])\n",
    "    make_func_caller_find_lead_integral(df_P, 15, 90, 15, feature_list[i])\n",
    "    make_func_caller_find_lag_slope(df_P, 15, 90, 15, feature_list[i])\n",
    "    make_func_caller_find_lead_slope(df_P, 15, 90, 15, feature_list[i])\n",
    "    make_func_caller_find_lag_integral(df_P, 5, 5, 15, feature_list[i])\n",
    "    make_func_caller_find_lead_integral(df_P, 5, 5, 15, feature_list[i])\n",
    "    make_func_caller_find_lag_slope(df_P, 5, 5, 15, feature_list[i])\n",
    "    make_func_caller_find_lead_slope(df_P, 5, 5, 15, feature_list[i])\n",
    "\n",
    "features = list(df_P.columns)\n",
    "print features"
   ]
  },
  {
   "cell_type": "code",
   "execution_count": null,
   "metadata": {
    "collapsed": false,
    "scrolled": true
   },
   "outputs": [],
   "source": [
    "#Delete the first and last 90 rows of the dataframe to remove all NaNs.\n",
    "df_P = df_P.ix[90:len(df_P['e2v03'])-90]"
   ]
  },
  {
   "cell_type": "code",
   "execution_count": null,
   "metadata": {
    "collapsed": false
   },
   "outputs": [],
   "source": [
    "#ozone/temp\n",
    "df_P['o3_temp_int_lag_30'] = df_P['e2v03_int_lag_30'] * df_P['Temp_int_lag_30'] \n",
    "df_P['o3_temp_slope_lag_30'] = df_P['e2v03_slope_lag_30'] * df_P['Temp_slope_lag_30']\n",
    "df_P['o3_temp_int_lag_60'] = df_P['e2v03_int_lag_60'] * df_P['Temp_int_lag_60'] \n",
    "df_P['o3_temp_slope_lag_60'] = df_P['e2v03_slope_lag_60'] * df_P['Temp_slope_lag_60'] \n",
    "df_P['o3_temp_int_lag_90'] = df_P['e2v03_int_lag_90'] * df_P['Temp_int_lag_90'] \n",
    "df_P['o3_temp_slope_lag_90'] = df_P['e2v03_slope_lag_90'] * df_P['Temp_slope_lag_90']\n",
    "df_P['o3_temp_int_lag_5'] = df_P['e2v03_int_lag_5'] * df_P['Temp_int_lag_5'] \n",
    "df_P['o3_temp_slope_lag_5'] = df_P['e2v03_slope_lag_5'] * df_P['Temp_slope_lag_5']\n",
    "\n",
    "df_P['ln_o3_temp_int_lag_30'] = df_P['ln_O3_int_lag_30'] * df_P['ln_temp_int_lag_30'] \n",
    "df_P['ln_o3_temp_slope_lag_30'] = df_P['ln_O3_slope_lag_30'] * df_P['ln_temp_slope_lag_30']\n",
    "df_P['ln_o3_temp_int_lag_60'] = df_P['ln_O3_int_lag_60'] * df_P['ln_temp_int_lag_60'] \n",
    "df_P['ln_o3_temp_slope_lag_60'] = df_P['ln_O3_slope_lag_60'] * df_P['ln_temp_slope_lag_60'] \n",
    "df_P['ln_o3_temp_int_lag_90'] = df_P['ln_O3_int_lag_90'] * df_P['ln_temp_int_lag_90'] \n",
    "df_P['ln_o3_temp_slope_lag_90'] = df_P['ln_O3_slope_lag_90'] * df_P['ln_temp_slope_lag_90']\n",
    "df_P['ln_o3_temp_int_lag_5'] = df_P['ln_O3_int_lag_5'] * df_P['ln_temp_int_lag_5'] \n",
    "df_P['ln_o3_temp_slope_lag_5'] = df_P['ln_O3_slope_lag_5'] * df_P['ln_temp_slope_lag_5']\n",
    "\n",
    "df_P['o3_temp_int_lead_30'] = df_P['e2v03_int_lead_30'] * df_P['Temp_int_lead_30'] \n",
    "df_P['o3_temp_slope_lead_30'] = df_P['e2v03_slope_lead_30'] * df_P['Temp_slope_lead_30'] \n",
    "df_P['o3_temp_int_lead_60'] = df_P['e2v03_int_lead_60'] * df_P['Temp_int_lead_60'] \n",
    "df_P['o3_temp_slope_lead_60'] = df_P['e2v03_slope_lead_60'] * df_P['Temp_slope_lead_60'] \n",
    "df_P['o3_temp_int_lead_90'] = df_P['e2v03_int_lead_90'] * df_P['Temp_int_lead_90'] \n",
    "df_P['o3_temp_slope_lead_90'] = df_P['e2v03_slope_lead_90'] * df_P['Temp_slope_lead_90']\n",
    "df_P['o3_temp_int_lead_5'] = df_P['e2v03_int_lead_5'] * df_P['Temp_int_lead_5'] \n",
    "df_P['o3_temp_slope_lead_5'] = df_P['e2v03_slope_lead_5'] * df_P['Temp_slope_lead_5']\n",
    "\n",
    "df_P['ln_o3_temp_int_lead_30'] = df_P['ln_O3_int_lead_30'] * df_P['ln_temp_int_lead_30'] \n",
    "df_P['ln_o3_temp_slope_lead_30'] = df_P['ln_O3_slope_lead_30'] * df_P['ln_temp_slope_lead_30'] \n",
    "df_P['ln_o3_temp_int_lead_60'] = df_P['ln_O3_int_lead_60'] * df_P['ln_temp_int_lead_60'] \n",
    "df_P['ln_o3_temp_slope_lead_60'] = df_P['ln_O3_slope_lead_60'] * df_P['ln_temp_slope_lead_60'] \n",
    "df_P['ln_o3_temp_int_lead_90'] = df_P['ln_O3_int_lead_90'] * df_P['ln_temp_int_lead_90'] \n",
    "df_P['ln_o3_temp_slope_lead_90'] = df_P['ln_O3_slope_lead_90'] * df_P['ln_temp_slope_lead_90']\n",
    "df_P['ln_o3_temp_int_lead_5'] = df_P['ln_O3_int_lead_5'] * df_P['ln_temp_int_lead_5'] \n",
    "df_P['ln_o3_temp_slope_lead_5'] = df_P['ln_O3_slope_lead_5'] * df_P['ln_temp_slope_lead_5']\n",
    "\n",
    "#temp/rh\n",
    "df_P['temp_rh_int_lag_30'] = df_P['Temp_int_lag_30'] * df_P['Rh_int_lag_30'] \n",
    "df_P['temp_rh_slope_lag_30'] = df_P['Temp_slope_lag_30'] * df_P['Rh_slope_lag_30'] \n",
    "df_P['temp_rh_int_lag_60'] = df_P['Temp_int_lag_60'] * df_P['Rh_int_lag_60'] \n",
    "df_P['temp_rh_slope_lag_60'] = df_P['Temp_slope_lag_60'] * df_P['Rh_slope_lag_60'] \n",
    "df_P['temp_rh_int_lag_90'] = df_P['Temp_int_lag_90'] * df_P['Rh_int_lag_90'] \n",
    "df_P['temp_rh_slope_lag_90'] = df_P['Temp_slope_lag_90'] * df_P['Rh_slope_lag_90'] \n",
    "df_P['temp_rh_int_lag_5'] = df_P['Temp_int_lag_5'] * df_P['Rh_int_lag_5'] \n",
    "df_P['temp_rh_slope_lag_5'] = df_P['Temp_slope_lag_5'] * df_P['Rh_slope_lag_5']\n",
    "\n",
    "df_P['ln_temp_rh_int_lag_30'] = df_P['ln_temp_int_lag_30'] * df_P['ln_rh_int_lag_30'] \n",
    "df_P['ln_temp_rh_slope_lag_30'] = df_P['ln_temp_slope_lag_30'] * df_P['ln_rh_slope_lag_30'] \n",
    "df_P['ln_temp_rh_int_lag_60'] = df_P['ln_temp_int_lag_60'] * df_P['ln_rh_int_lag_60'] \n",
    "df_P['ln_temp_rh_slope_lag_60'] = df_P['ln_temp_slope_lag_60'] * df_P['ln_rh_slope_lag_60'] \n",
    "df_P['ln_temp_rh_int_lag_90'] = df_P['ln_temp_int_lag_90'] * df_P['ln_rh_int_lag_90'] \n",
    "df_P['ln_temp_rh_slope_lag_90'] = df_P['ln_temp_slope_lag_90'] * df_P['ln_rh_slope_lag_90'] \n",
    "df_P['ln_temp_rh_int_lag_5'] = df_P['ln_temp_int_lag_5'] * df_P['ln_rh_int_lag_5'] \n",
    "df_P['ln_temp_rh_slope_lag_5'] = df_P['ln_temp_slope_lag_5'] * df_P['ln_rh_slope_lag_5']\n",
    "\n",
    "df_P['temp_rh_int_lead_30'] = df_P['Temp_int_lead_30'] * df_P['Rh_int_lead_30'] \n",
    "df_P['temp_rh_slope_lead_30'] = df_P['Temp_slope_lead_30'] * df_P['Rh_slope_lead_30'] \n",
    "df_P['temp_rh_int_lead_60'] = df_P['Temp_int_lead_60'] * df_P['Rh_int_lead_60'] \n",
    "df_P['temp_rh_slope_lead_60'] = df_P['Temp_slope_lead_60'] * df_P['Rh_slope_lead_60'] \n",
    "df_P['temp_rh_int_lead_90'] = df_P['Temp_int_lead_90'] * df_P['Rh_int_lead_90'] \n",
    "df_P['temp_rh_slope_lead_90'] = df_P['Temp_slope_lead_90'] * df_P['Rh_slope_lead_90']\n",
    "df_P['temp_rh_int_lead_5'] = df_P['Temp_int_lead_5'] * df_P['Rh_int_lead_5'] \n",
    "df_P['temp_rh_slope_lead_5'] = df_P['Temp_slope_lead_5'] * df_P['Rh_slope_lead_5']\n",
    "\n",
    "df_P['ln_temp_rh_int_lead_30'] = df_P['ln_temp_int_lead_30'] * df_P['ln_rh_int_lead_30'] \n",
    "df_P['ln_temp_rh_slope_lead_30'] = df_P['ln_temp_slope_lead_30'] * df_P['ln_rh_slope_lead_30'] \n",
    "df_P['ln_temp_rh_int_lead_60'] = df_P['ln_temp_int_lead_60'] * df_P['ln_rh_int_lead_60'] \n",
    "df_P['ln_temp_rh_slope_lead_60'] = df_P['ln_temp_slope_lead_60'] * df_P['ln_rh_slope_lead_60'] \n",
    "df_P['ln_temp_rh_int_lead_90'] = df_P['ln_temp_int_lead_90'] * df_P['ln_rh_int_lead_90'] \n",
    "df_P['ln_temp_rh_slope_lead_5'] = df_P['ln_temp_slope_lead_5'] * df_P['ln_rh_slope_lead_5']\n",
    "df_P['ln_temp_rh_int_lead_5'] = df_P['ln_temp_slope_lead_5'] * df_P['ln_rh_slope_lead_5']\n",
    "\n",
    "#ozone/rh\n",
    "df_P['o3_rh_int_lag_30'] = df_P['e2v03_int_lag_30'] * df_P['Rh_int_lag_30'] \n",
    "df_P['o3_rh_slope_lag_30'] = df_P['e2v03_slope_lag_30'] * df_P['Rh_slope_lag_30'] \n",
    "df_P['o3_rh_int_lag_60'] = df_P['e2v03_int_lag_60'] * df_P['Rh_int_lag_60'] \n",
    "df_P['o3_rh_slope_lag_60'] = df_P['e2v03_slope_lag_60'] * df_P['Rh_slope_lag_60'] \n",
    "df_P['o3_rh_int_lag_90'] = df_P['e2v03_int_lag_90'] * df_P['Rh_int_lag_90'] \n",
    "df_P['o3_rh_slope_lag_90'] = df_P['e2v03_slope_lag_90'] * df_P['Rh_slope_lag_90'] \n",
    "df_P['o3_rh_int_lag_5'] = df_P['e2v03_int_lag_5'] * df_P['Rh_int_lag_5'] \n",
    "df_P['o3_rh_slope_lag_5'] = df_P['e2v03_slope_lag_5'] * df_P['Rh_slope_lag_5'] \n",
    "\n",
    "df_P['ln_o3_rh_int_lag_30'] = df_P['ln_O3_int_lag_30'] * df_P['ln_rh_int_lag_30'] \n",
    "df_P['ln_o3_rh_slope_lag_30'] = df_P['ln_O3_slope_lag_30'] * df_P['ln_rh_slope_lag_30'] \n",
    "df_P['ln_o3_rh_int_lag_60'] = df_P['ln_O3_int_lag_60'] * df_P['ln_rh_int_lag_60'] \n",
    "df_P['ln_o3_rh_slope_lag_60'] = df_P['ln_O3_slope_lag_60'] * df_P['ln_rh_slope_lag_60'] \n",
    "df_P['ln_o3_rh_int_lag_90'] = df_P['ln_O3_int_lag_90'] * df_P['ln_rh_int_lag_90'] \n",
    "df_P['ln_o3_rh_slope_lag_90'] = df_P['ln_O3_slope_lag_90'] * df_P['ln_rh_slope_lag_90'] \n",
    "df_P['ln_o3_rh_int_lag_5'] = df_P['ln_O3_int_lag_5'] * df_P['ln_rh_int_lag_5'] \n",
    "df_P['ln_o3_rh_slope_lag_5'] = df_P['ln_O3_slope_lag_5'] * df_P['ln_rh_slope_lag_5'] \n",
    "\n",
    "df_P['o3_rh_int_lead_30'] = df_P['e2v03_int_lead_30'] * df_P['Rh_int_lead_30'] \n",
    "df_P['o3_rh_slope_lead_30'] = df_P['e2v03_slope_lead_30'] * df_P['Rh_slope_lead_30'] \n",
    "df_P['o3_rh_int_lead_60'] = df_P['e2v03_int_lead_60'] * df_P['Rh_int_lead_60'] \n",
    "df_P['o3_rh_slope_lead_60'] = df_P['e2v03_slope_lead_60'] * df_P['Rh_slope_lead_60'] \n",
    "df_P['o3_rh_int_lead_90'] = df_P['e2v03_int_lead_90'] * df_P['Rh_int_lead_90'] \n",
    "df_P['o3_rh_slope_lead_90'] = df_P['e2v03_slope_lead_90'] * df_P['Rh_slope_lead_90']\n",
    "df_P['o3_rh_int_lead_5'] = df_P['e2v03_int_lead_5'] * df_P['Rh_int_lead_5'] \n",
    "df_P['o3_rh_slope_lead_5'] = df_P['e2v03_slope_lead_5'] * df_P['Rh_slope_lead_5']\n",
    "\n",
    "df_P['ln_o3_rh_int_lead_30'] = df_P['ln_O3_int_lead_30'] * df_P['ln_rh_int_lead_30'] \n",
    "df_P['ln_o3_rh_slope_lead_30'] = df_P['ln_O3_slope_lead_30'] * df_P['ln_rh_slope_lead_30'] \n",
    "df_P['ln_o3_rh_int_lead_60'] = df_P['ln_O3_int_lead_60'] * df_P['ln_rh_int_lead_60'] \n",
    "df_P['ln_o3_rh_slope_lead_60'] = df_P['ln_O3_slope_lead_60'] * df_P['ln_rh_slope_lead_60'] \n",
    "df_P['ln_o3_rh_int_lead_90'] = df_P['ln_O3_int_lead_90'] * df_P['ln_rh_int_lead_90'] \n",
    "df_P['ln_o3_rh_slope_lead_90'] = df_P['ln_O3_slope_lead_90'] * df_P['ln_rh_slope_lead_90']\n",
    "df_P['ln_o3_rh_int_lead_5'] = df_P['ln_O3_int_lead_5'] * df_P['ln_rh_int_lead_5'] \n",
    "df_P['ln_o3_rh_slope_lead_5'] = df_P['ln_O3_slope_lead_5'] * df_P['ln_rh_slope_lead_5']\n",
    "\n",
    "#ozone/temp/rh\n",
    "df_P['o3_temp_rh_int_lag_30'] = df_P['Temp_int_lag_30'] * df_P['Rh_int_lag_30']*df_P['e2v03_int_lag_30'] \n",
    "df_P['o3_temp_rh_slope_lag_30'] = df_P['Temp_slope_lag_30'] * df_P['Rh_slope_lag_30'] * df_P['e2v03_slope_lag_30'] \n",
    "df_P['o3_temp_rh_int_lag_60'] = df_P['Temp_int_lag_60'] * df_P['Rh_int_lag_60']*df_P['e2v03_int_lag_60'] \n",
    "df_P['o3_temp_rh_slope_lag_60'] = df_P['Temp_slope_lag_60'] * df_P['Rh_slope_lag_60'] * df_P['e2v03_slope_lag_60'] \n",
    "df_P['o3_temp_rh_int_lag_90'] = df_P['Temp_int_lag_90'] * df_P['Rh_int_lag_90'] * df_P['e2v03_int_lag_90']\n",
    "df_P['o3_temp_rh_slope_lag_90'] = df_P['Temp_slope_lag_90'] * df_P['Rh_slope_lag_90'] * df_P['e2v03_slope_lag_90'] \n",
    "df_P['o3_temp_rh_int_lag_5'] = df_P['Temp_int_lag_5'] * df_P['Rh_int_lag_5'] * df_P['e2v03_int_lag_5']\n",
    "df_P['o3_temp_rh_slope_lag_5'] = df_P['Temp_slope_lag_5'] * df_P['Rh_slope_lag_5'] * df_P['e2v03_slope_lag_5'] \n",
    "\n",
    "df_P['ln_o3_temp_rh_int_lag_30'] = df_P['ln_temp_int_lag_30'] * df_P['ln_rh_int_lag_30']*df_P['ln_O3_int_lag_30'] \n",
    "df_P['ln_o3_temp_rh_slope_lag_30'] = df_P['ln_temp_slope_lag_30'] * df_P['ln_rh_slope_lag_30'] * df_P['ln_O3_slope_lag_30'] \n",
    "df_P['ln_o3_temp_rh_int_lag_60'] = df_P['ln_temp_int_lag_60'] * df_P['ln_rh_int_lag_60']*df_P['ln_O3_int_lag_60'] \n",
    "df_P['ln_o3_temp_rh_slope_lag_60'] = df_P['ln_temp_slope_lag_60'] * df_P['ln_rh_slope_lag_60'] * df_P['ln_O3_slope_lag_60'] \n",
    "df_P['ln_o3_temp_rh_int_lag_90'] = df_P['ln_temp_int_lag_90'] * df_P['ln_rh_int_lag_90'] * df_P['ln_O3_int_lag_90']\n",
    "df_P['ln_o3_temp_rh_slope_lag_90'] = df_P['ln_temp_slope_lag_90'] * df_P['ln_rh_slope_lag_90'] * df_P['ln_O3_slope_lag_90'] \n",
    "df_P['ln_o3_temp_rh_int_lag_5'] = df_P['ln_temp_int_lag_5'] * df_P['ln_rh_int_lag_5'] * df_P['ln_O3_int_lag_5']\n",
    "df_P['ln_o3_temp_rh_slope_lag_5'] = df_P['ln_temp_slope_lag_5'] * df_P['ln_rh_slope_lag_5'] * df_P['ln_O3_slope_lag_5'] \n",
    "\n",
    "df_P['o3_temp_rh_int_lead_30'] = df_P['Temp_int_lead_30'] * df_P['Rh_int_lead_30'] * df_P['e2v03_int_lead_30'] \n",
    "df_P['o3_temp_rh_slope_lead_30'] = df_P['Temp_slope_lead_30'] * df_P['Rh_slope_lead_30'] * df_P['e2v03_slope_lead_30']\n",
    "df_P['o3_temp_rh_int_lead_60'] = df_P['Temp_int_lead_60'] * df_P['Rh_int_lead_60'] * df_P['e2v03_int_lead_60'] \n",
    "df_P['o3_temp_rh_slope_lead_60'] = df_P['Temp_slope_lead_60'] * df_P['Rh_slope_lead_60'] * df_P['e2v03_slope_lead_60'] \n",
    "df_P['o3_temp_rh_int_lead_90'] = df_P['Temp_int_lead_90'] * df_P['Rh_int_lead_90'] * df_P['e2v03_int_lead_90']\n",
    "df_P['o3_temp_rh_slope_lead_90'] = df_P['Temp_slope_lead_90'] * df_P['Rh_slope_lead_90'] * df_P['e2v03_slope_lead_90']\n",
    "df_P['o3_temp_rh_int_lead_5'] = df_P['Temp_int_lead_5'] * df_P['Rh_int_lead_5'] * df_P['e2v03_int_lead_5']\n",
    "df_P['o3_temp_rh_slope_lead_5'] = df_P['Temp_slope_lead_5'] * df_P['Rh_slope_lead_5'] * df_P['e2v03_slope_lead_5']\n",
    "\n",
    "df_P['ln_o3_temp_rh_int_lead_30'] = df_P['ln_temp_int_lead_30'] * df_P['ln_rh_int_lead_30'] * df_P['ln_O3_int_lead_30'] \n",
    "df_P['ln_o3_temp_rh_slope_lead_30'] = df_P['ln_temp_slope_lead_30'] * df_P['ln_rh_slope_lead_30'] * df_P['ln_O3_slope_lead_30']\n",
    "df_P['ln_o3_temp_rh_int_lead_60'] = df_P['ln_temp_int_lead_60'] * df_P['ln_rh_int_lead_60'] * df_P['ln_O3_int_lead_60'] \n",
    "df_P['ln_o3_temp_rh_slope_lead_60'] = df_P['ln_temp_slope_lead_60'] * df_P['ln_rh_slope_lead_60'] * df_P['ln_O3_slope_lead_60']\n",
    "df_P['ln_o3_temp_rh_int_lead_90'] = df_P['ln_temp_int_lead_90'] * df_P['ln_rh_int_lead_90'] * df_P['ln_O3_int_lead_90']\n",
    "df_P['ln_o3_temp_rh_slope_lead_90'] = df_P['ln_temp_slope_lead_90'] * df_P['ln_rh_slope_lead_90'] * df_P['ln_O3_slope_lead_90']\n",
    "df_P['ln_o3_temp_rh_int_lead_5'] = df_P['ln_temp_int_lead_5'] * df_P['ln_rh_int_lead_5'] * df_P['ln_O3_int_lead_5']\n",
    "df_P['ln_o3_temp_rh_slope_lead_5'] = df_P['ln_temp_slope_lead_5'] * df_P['ln_rh_slope_lead_5'] * df_P['ln_O3_slope_lead_5']"
   ]
  },
  {
   "cell_type": "code",
   "execution_count": null,
   "metadata": {
    "collapsed": false
   },
   "outputs": [],
   "source": [
    "df_P.to_csv(path_or_buf = 'data/F7_raw_features.csv')"
   ]
  },
  {
   "cell_type": "code",
   "execution_count": null,
   "metadata": {
    "collapsed": false
   },
   "outputs": [],
   "source": []
  }
 ],
 "metadata": {
  "kernelspec": {
   "display_name": "Python 2",
   "language": "python",
   "name": "python2"
  },
  "language_info": {
   "codemirror_mode": {
    "name": "ipython",
    "version": 2
   },
   "file_extension": ".py",
   "mimetype": "text/x-python",
   "name": "python",
   "nbconvert_exporter": "python",
   "pygments_lexer": "ipython2",
   "version": "2.7.10"
  }
 },
 "nbformat": 4,
 "nbformat_minor": 0
}
