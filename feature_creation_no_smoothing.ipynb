{
 "cells": [
  {
   "cell_type": "code",
   "execution_count": 47,
   "metadata": {
    "collapsed": false
   },
   "outputs": [],
   "source": [
    "import pandas as pd\n",
    "import matplotlib.pyplot as plt\n",
    "import seaborn as sns\n",
    "import numpy as np\n",
    "%matplotlib inline"
   ]
  },
  {
   "cell_type": "code",
   "execution_count": 48,
   "metadata": {
    "collapsed": false
   },
   "outputs": [
    {
     "name": "stdout",
     "output_type": "stream",
     "text": [
      "                       O3_ppb      UnixTime      e2v03       Temp         Rh  \\\n",
      "DATE (MM/DD/YYYY)_MST                                                          \n",
      "2014-07-07 22:48:00        45  1.404773e+09  93.333333  42.600000  10.166667   \n",
      "2014-07-07 22:49:00        55  1.404773e+09  87.500000  42.600000  10.150000   \n",
      "2014-07-07 22:50:00        55  1.404773e+09  87.000000  42.533333  10.200000   \n",
      "2014-07-07 22:51:00        39  1.404773e+09  97.000000  42.500000  10.300000   \n",
      "2014-07-07 22:52:00        51  1.404774e+09  95.333333  42.466667  10.300000   \n",
      "\n",
      "                       Zenith Angle [degrees]  days from start  ref_o3_smooth  \\\n",
      "DATE (MM/DD/YYYY)_MST                                                           \n",
      "2014-07-07 22:48:00                 115.19125                0             45   \n",
      "2014-07-07 22:49:00                 115.25626                0             55   \n",
      "2014-07-07 22:50:00                 115.32050                0             55   \n",
      "2014-07-07 22:51:00                 115.38396                0             39   \n",
      "2014-07-07 22:52:00                 115.44664                0             51   \n",
      "\n",
      "                       pod_o3_smooth  \n",
      "DATE (MM/DD/YYYY)_MST                 \n",
      "2014-07-07 22:48:00        93.333333  \n",
      "2014-07-07 22:49:00        87.500000  \n",
      "2014-07-07 22:50:00        87.000000  \n",
      "2014-07-07 22:51:00        97.000000  \n",
      "2014-07-07 22:52:00        95.333333  \n"
     ]
    }
   ],
   "source": [
    "#df_P = pd.read_csv(filepath_or_buffer = 'D3_pre.csv', parse_dates = [[1,2]], index_col = False)  \n",
    "#df_P = df_P.set_index('YYYY/MM/DD_HH:MM:SS')\n",
    "#df_P.drop(df_P.columns[[0,2,3,4,5,6,9,10,11,12,15,16,17,18,19,20,21,22,23,24,25,26,27,28,29,30,31,32,33,34,35,36,37,38,39,40]], axis=1, inplace=True)\n",
    "df_P = pd.io.parsers.read_csv(filepath_or_buffer = 'data/D3_filt_10mino3.csv',index_col = 0)\n",
    "print df_P[:5]"
   ]
  },
  {
   "cell_type": "code",
   "execution_count": 49,
   "metadata": {
    "collapsed": false
   },
   "outputs": [
    {
     "name": "stdout",
     "output_type": "stream",
     "text": [
      "                       O3_ppb      UnixTime      e2v03       Temp         Rh  \\\n",
      "DATE (MM/DD/YYYY)_MST                                                          \n",
      "2014-07-07 22:48:00        45  1.404773e+09  93.333333  42.600000  10.166667   \n",
      "2014-07-07 22:49:00        55  1.404773e+09  87.500000  42.600000  10.150000   \n",
      "2014-07-07 22:50:00        55  1.404773e+09  87.000000  42.533333  10.200000   \n",
      "2014-07-07 22:51:00        39  1.404773e+09  97.000000  42.500000  10.300000   \n",
      "2014-07-07 22:52:00        51  1.404774e+09  95.333333  42.466667  10.300000   \n",
      "\n",
      "                       Zenith Angle [degrees]  days from start  \n",
      "DATE (MM/DD/YYYY)_MST                                           \n",
      "2014-07-07 22:48:00                 115.19125                0  \n",
      "2014-07-07 22:49:00                 115.25626                0  \n",
      "2014-07-07 22:50:00                 115.32050                0  \n",
      "2014-07-07 22:51:00                 115.38396                0  \n",
      "2014-07-07 22:52:00                 115.44664                0  \n"
     ]
    }
   ],
   "source": [
    "df_P.drop(df_P.columns[[7,8]], axis=1, inplace=True)\n",
    "print df_P[:5]"
   ]
  },
  {
   "cell_type": "markdown",
   "metadata": {},
   "source": [
    "####Define the slope function."
   ]
  },
  {
   "cell_type": "code",
   "execution_count": 50,
   "metadata": {
    "collapsed": true
   },
   "outputs": [],
   "source": [
    "def find_mean_slope_over_time(df_P, int_min, data_col):\n",
    "    df_P['diff'] = df_P[data_col].diff()\n",
    "    \n",
    "    slope = []\n",
    "    for i in range(int_min,len(df_P['diff'])):\n",
    "        top = i-int_min\n",
    "        slope.append(df_P['diff'][top:i].mean())\n",
    "    \n",
    "    for i in range(0,int_min):\n",
    "        slope.insert(i, 'NaN')\n",
    "\n",
    "    return slope"
   ]
  },
  {
   "cell_type": "markdown",
   "metadata": {},
   "source": [
    "####Define functions that create features that represent the area under the temp and humidity curves."
   ]
  },
  {
   "cell_type": "code",
   "execution_count": 51,
   "metadata": {
    "collapsed": false
   },
   "outputs": [],
   "source": [
    "def make_time_integral_features(df_P,int_min, data_col):\n",
    "    int_min = 90\n",
    "    area_curve = []\n",
    "\n",
    "    for i in range(int_min,len(df_P[data_col])):\n",
    "        top = i-int_min\n",
    "        area_curve.append(np.trapz(df_P[data_col][top:i]))\n",
    "    \n",
    "    for i in range(0,int_min):\n",
    "        area_curve.insert(i, 'NaN')\n",
    "    \n",
    "    return area_curve"
   ]
  },
  {
   "cell_type": "markdown",
   "metadata": {},
   "source": [
    "###Call the slope functions and add them to the dataframe."
   ]
  },
  {
   "cell_type": "code",
   "execution_count": 52,
   "metadata": {
    "collapsed": false
   },
   "outputs": [],
   "source": [
    "df_P['o3_slope_90'] = find_mean_slope_over_time(df_P, 90,'e2v03')\n",
    "df_P['o3_slope_75'] = find_mean_slope_over_time(df_P, 75,'e2v03')\n",
    "df_P['o3_slope_60'] = find_mean_slope_over_time(df_P, 60,'e2v03')\n",
    "df_P['o3_slope_45'] = find_mean_slope_over_time(df_P, 45,'e2v03')\n",
    "df_P['o3_slope_30'] = find_mean_slope_over_time(df_P, 30,'e2v03')\n",
    "df_P['o3_slope_15'] = find_mean_slope_over_time(df_P, 15,'e2v03')\n",
    "df_P['o3_slope_5'] = find_mean_slope_over_time(df_P, 5,'e2v03')\n",
    "\n",
    "df_P['temp_slope_90'] = find_mean_slope_over_time(df_P, 90,'Temp')\n",
    "df_P['temp_slope_75'] = find_mean_slope_over_time(df_P, 75,'Temp')\n",
    "df_P['temp_slope_60'] = find_mean_slope_over_time(df_P, 60,'Temp')\n",
    "df_P['temp_slope_45'] = find_mean_slope_over_time(df_P, 45,'Temp')\n",
    "df_P['temp_slope_30'] = find_mean_slope_over_time(df_P, 30,'Temp')\n",
    "df_P['temp_slope_15'] = find_mean_slope_over_time(df_P, 15,'Temp')\n",
    "df_P['temp_slope_5'] = find_mean_slope_over_time(df_P, 5,'Temp')\n",
    "\n",
    "df_P['rh_slope_90'] = find_mean_slope_over_time(df_P, 90,'Rh')\n",
    "df_P['rh_slope_75'] = find_mean_slope_over_time(df_P, 75,'Rh')\n",
    "df_P['rh_slope_60'] = find_mean_slope_over_time(df_P, 60,'Rh')\n",
    "df_P['rh_slope_45'] = find_mean_slope_over_time(df_P, 45,'Rh')\n",
    "df_P['rh_slope_30'] = find_mean_slope_over_time(df_P, 30,'Rh')\n",
    "df_P['rh_slope_15'] = find_mean_slope_over_time(df_P, 15,'Rh')\n",
    "df_P['rh_slope_5'] = find_mean_slope_over_time(df_P, 5,'Rh')"
   ]
  },
  {
   "cell_type": "markdown",
   "metadata": {},
   "source": [
    "###Call the integration functions and add them to the dataframe."
   ]
  },
  {
   "cell_type": "code",
   "execution_count": 53,
   "metadata": {
    "collapsed": false,
    "scrolled": true
   },
   "outputs": [],
   "source": [
    "#df_P['rh_int_105'] = make_time_integral_features(df_P,105,'Rh')\n",
    "df_P['rh_int_90'] = make_time_integral_features(df_P,90,'Rh')\n",
    "df_P['rh_int_75'] = make_time_integral_features(df_P,75,'Rh')\n",
    "df_P['rh_int_60'] = make_time_integral_features(df_P,60,'Rh')\n",
    "df_P['rh_int_45'] = make_time_integral_features(df_P,45,'Rh')\n",
    "df_P['rh_int_30'] = make_time_integral_features(df_P,30,'Rh')\n",
    "\n",
    "#df_P['temp_int_105'] = make_time_integral_features(df_P,105,'Temp')\n",
    "df_P['temp_int_90'] = make_time_integral_features(df_P,90,'Temp')\n",
    "df_P['temp_int_75'] = make_time_integral_features(df_P,75,'Temp')\n",
    "df_P['temp_int_60'] = make_time_integral_features(df_P,60,'Temp')\n",
    "df_P['temp_int_45'] = make_time_integral_features(df_P,45,'Temp')\n",
    "df_P['temp_int_30'] = make_time_integral_features(df_P,30,'Temp')\n",
    "\n",
    "df_P['o3_int_90'] = make_time_integral_features(df_P,90,'e2v03')\n",
    "df_P['o3_int_75'] = make_time_integral_features(df_P,75,'e2v03')\n",
    "df_P['o3_int_60'] = make_time_integral_features(df_P,60,'e2v03')\n",
    "df_P['o3_int_45'] = make_time_integral_features(df_P,45,'e2v03')\n",
    "df_P['o3_int_30'] = make_time_integral_features(df_P,30,'e2v03')"
   ]
  },
  {
   "cell_type": "code",
   "execution_count": 54,
   "metadata": {
    "collapsed": false
   },
   "outputs": [],
   "source": [
    "#Delete the first 90 rows of the dataframe to remove all NaNs.\n",
    "df_P = df_P.ix[90:]\n"
   ]
  },
  {
   "cell_type": "code",
   "execution_count": 55,
   "metadata": {
    "collapsed": false
   },
   "outputs": [],
   "source": [
    "#df_P.drop(df_P.columns[[9]], axis=1, inplace=True)\n",
    "#print df_P[:5]"
   ]
  },
  {
   "cell_type": "code",
   "execution_count": 56,
   "metadata": {
    "collapsed": false
   },
   "outputs": [
    {
     "name": "stdout",
     "output_type": "stream",
     "text": [
      "                       O3_ppb      UnixTime       e2v03       Temp         Rh  \\\n",
      "DATE (MM/DD/YYYY)_MST                                                           \n",
      "2014-07-08 01:15:00        55  1.404782e+09  106.666667  37.900000  17.400000   \n",
      "2014-07-08 01:16:00        54  1.404782e+09  108.333333  37.900000  18.200000   \n",
      "2014-07-08 01:17:00        56  1.404782e+09  102.666667  37.900000  17.933333   \n",
      "2014-07-08 01:18:00        56  1.404782e+09   98.666667  37.866667  17.300000   \n",
      "2014-07-08 01:19:00        56  1.404782e+09   94.000000  37.800000  16.633333   \n",
      "\n",
      "                       Zenith Angle [degrees]  days from start      diff  \\\n",
      "DATE (MM/DD/YYYY)_MST                                                      \n",
      "2014-07-08 01:15:00                 115.73188                0  0.066667   \n",
      "2014-07-08 01:16:00                 115.67291                0  0.800000   \n",
      "2014-07-08 01:17:00                 115.61315                0 -0.266667   \n",
      "2014-07-08 01:18:00                 115.55260                0 -0.633333   \n",
      "2014-07-08 01:19:00                 115.49126                0 -0.666667   \n",
      "\n",
      "                      o3_slope_90 o3_slope_75           ...            \\\n",
      "DATE (MM/DD/YYYY)_MST                                   ...             \n",
      "2014-07-08 01:15:00     0.1535581   0.1377778           ...             \n",
      "2014-07-08 01:16:00     0.1481481   0.1155556           ...             \n",
      "2014-07-08 01:17:00     0.2314815   0.1466667           ...             \n",
      "2014-07-08 01:18:00     0.1740741        0.12           ...             \n",
      "2014-07-08 01:19:00    0.01851852        0.08           ...             \n",
      "\n",
      "                      03_mult_rh_cu ln_03_mult_rh temp_mult_rh  \\\n",
      "DATE (MM/DD/YYYY)_MST                                            \n",
      "2014-07-08 01:15:00    6.393430e+09      7.526179   659.460000   \n",
      "2014-07-08 01:16:00    7.664794e+09      7.586634   689.780000   \n",
      "2014-07-08 01:17:00    6.241248e+09      7.518149   679.673333   \n",
      "2014-07-08 01:18:00    4.973357e+09      7.442454   655.093333   \n",
      "2014-07-08 01:19:00    3.822271e+09      7.354703   628.740000   \n",
      "\n",
      "                      temp_mult_rh_sq temp_mult_rh_cu ln_temp_mult_rh  \\\n",
      "DATE (MM/DD/YYYY)_MST                                                   \n",
      "2014-07-08 01:15:00     434887.491600    2.867909e+08        6.491421   \n",
      "2014-07-08 01:16:00     475796.448400    3.281949e+08        6.536373   \n",
      "2014-07-08 01:17:00     461955.840044    3.139791e+08        6.521612   \n",
      "2014-07-08 01:18:00     429147.275378    2.811315e+08        6.484778   \n",
      "2014-07-08 01:19:00     395313.987600    2.485497e+08        6.443718   \n",
      "\n",
      "                      03_mult_rh_&_temp 03_mult_rh_&_temp_sq  \\\n",
      "DATE (MM/DD/YYYY)_MST                                          \n",
      "2014-07-08 01:15:00        70342.400000         4.948053e+09   \n",
      "2014-07-08 01:16:00        74726.166667         5.584000e+09   \n",
      "2014-07-08 01:17:00        69779.795556         4.869220e+09   \n",
      "2014-07-08 01:18:00        64635.875556         4.177796e+09   \n",
      "2014-07-08 01:19:00        59101.560000         3.492994e+09   \n",
      "\n",
      "                      03_mult_rh_&_temp_cu ln_03_mult_rh_&_temp_cu  \n",
      "DATE (MM/DD/YYYY)_MST                                               \n",
      "2014-07-08 01:15:00           3.480579e+14               33.483390  \n",
      "2014-07-08 01:16:00           4.172709e+14               33.664757  \n",
      "2014-07-08 01:17:00           3.397732e+14               33.459299  \n",
      "2014-07-08 01:18:00           2.700355e+14               33.229575  \n",
      "2014-07-08 01:19:00           2.064414e+14               32.961038  \n",
      "\n",
      "[5 rows x 84 columns]\n"
     ]
    }
   ],
   "source": [
    "#ozone terms\n",
    "df_P['O3_sq'] = df_P['e2v03']**2\n",
    "df_P['O3_cu'] = df_P['e2v03']**3\n",
    "df_P['ln_O3'] = np.log(df_P['e2v03'])\n",
    "df_P['ln_o3_int_90'] = np.log(df_P['o3_int_90'].astype(int))\n",
    "df_P['ln_o3_int_75'] = np.log(df_P['o3_int_75'].astype(int))\n",
    "df_P['ln_o3_int_60'] = np.log(df_P['o3_int_60'].astype(int))\n",
    "df_P['ln_o3_int_45'] = np.log(df_P['o3_int_45'].astype(int))\n",
    "df_P['ln_o3_int_30'] = np.log(df_P['o3_int_30'].astype(int))\n",
    "\n",
    "#temp terms\n",
    "df_P['temp_sq'] = df_P['Temp']**2\n",
    "df_P['temp_cu'] = df_P['Temp']**3\n",
    "df_P['ln_temp'] = np.log(df_P['Temp'])\n",
    "df_P['ln_temp_int_90'] = np.log(df_P['temp_int_90'].astype(int))\n",
    "df_P['ln_temp_int_75'] = np.log(df_P['temp_int_75'].astype(int))\n",
    "df_P['ln_temp_int_60'] = np.log(df_P['temp_int_60'].astype(int))\n",
    "df_P['ln_temp_int_45'] = np.log(df_P['temp_int_45'].astype(int))\n",
    "df_P['ln_temp_int_30'] = np.log(df_P['temp_int_30'].astype(int))\n",
    "\n",
    "#rh terms\n",
    "df_P['rh_sq'] = df_P['Rh']**2\n",
    "df_P['rh_cu'] = df_P['Rh']**3\n",
    "df_P['ln_rh'] = np.log(df_P['Rh'])\n",
    "df_P['ln_rh_int_90'] = np.log(df_P['rh_int_90'].astype(int))\n",
    "df_P['ln_rh_int_75'] = np.log(df_P['rh_int_75'].astype(int))\n",
    "df_P['ln_rh_int_60'] = np.log(df_P['rh_int_60'].astype(int))\n",
    "df_P['ln_rh_int_45'] = np.log(df_P['rh_int_45'].astype(int))\n",
    "df_P['ln_rh_int_30'] = np.log(df_P['rh_int_30'].astype(int))\n",
    "\n",
    "#ozone/temp interactions\n",
    "df_P['03_mult_temp'] = df_P['e2v03']*df_P['Temp']\n",
    "df_P['03_mult_temp_sq'] = (df_P['e2v03']*df_P['Temp'])**2\n",
    "df_P['03_mult_temp_cu'] = (df_P['e2v03']*df_P['Temp'])**3\n",
    "df_P['ln_03_mult_temp'] = np.log(df_P['03_mult_temp'])\n",
    "\n",
    "\n",
    "#ozone/rh interactions\n",
    "df_P['03_mult_rh'] = df_P['e2v03']*df_P['Rh']\n",
    "df_P['03_mult_rh_sq'] = (df_P['e2v03']*df_P['Rh'])**2\n",
    "df_P['03_mult_rh_cu'] = (df_P['e2v03']*df_P['Rh'])**3\n",
    "df_P['ln_03_mult_rh'] = np.log(df_P['03_mult_rh'])\n",
    "\n",
    "#temp/rh interactions\n",
    "df_P['temp_mult_rh'] = df_P['Temp']*df_P['Rh']\n",
    "df_P['temp_mult_rh_sq'] = (df_P['Temp']*df_P['Rh'])**2\n",
    "df_P['temp_mult_rh_cu'] = (df_P['Temp']*df_P['Rh'])**3\n",
    "df_P['ln_temp_mult_rh'] = np.log(df_P['temp_mult_rh'])\n",
    "\n",
    "\n",
    "#ozone/rh/temp interactions\n",
    "df_P['03_mult_rh_&_temp'] = df_P['e2v03']*df_P['Rh']*df_P['Temp']\n",
    "df_P['03_mult_rh_&_temp_sq'] = (df_P['e2v03']*df_P['Rh']*df_P['Temp'])**2\n",
    "df_P['03_mult_rh_&_temp_cu'] = (df_P['e2v03']*df_P['Rh']*df_P['Temp'])**3\n",
    "df_P['ln_03_mult_rh_&_temp_cu'] = np.log(df_P['03_mult_rh_&_temp_cu'])\n",
    "\n",
    "print df_P[:5]"
   ]
  },
  {
   "cell_type": "code",
   "execution_count": 57,
   "metadata": {
    "collapsed": false
   },
   "outputs": [],
   "source": [
    "df_P.to_csv(path_or_buf = 'data/D3_raw_features.csv')"
   ]
  },
  {
   "cell_type": "code",
   "execution_count": null,
   "metadata": {
    "collapsed": false
   },
   "outputs": [],
   "source": []
  }
 ],
 "metadata": {
  "kernelspec": {
   "display_name": "Python 2",
   "language": "python",
   "name": "python2"
  },
  "language_info": {
   "codemirror_mode": {
    "name": "ipython",
    "version": 2
   },
   "file_extension": ".py",
   "mimetype": "text/x-python",
   "name": "python",
   "nbconvert_exporter": "python",
   "pygments_lexer": "ipython2",
   "version": "2.7.8"
  }
 },
 "nbformat": 4,
 "nbformat_minor": 0
}
