{
 "cells": [
  {
   "cell_type": "code",
   "execution_count": 4,
   "metadata": {
    "collapsed": false
   },
   "outputs": [],
   "source": [
    "import pandas as pd\n",
    "import matplotlib.pyplot as plt\n",
    "import seaborn as sns\n",
    "import numpy as np\n",
    "%matplotlib inline"
   ]
  },
  {
   "cell_type": "code",
   "execution_count": 5,
   "metadata": {
    "collapsed": false
   },
   "outputs": [
    {
     "ename": "IOError",
     "evalue": "File D3_filt_10mino3.csv does not exist",
     "output_type": "error",
     "traceback": [
      "\u001b[0;31m---------------------------------------------------------------------------\u001b[0m",
      "\u001b[0;31mIOError\u001b[0m                                   Traceback (most recent call last)",
      "\u001b[0;32m<ipython-input-5-38ce550d5018>\u001b[0m in \u001b[0;36m<module>\u001b[0;34m()\u001b[0m\n\u001b[1;32m      2\u001b[0m \u001b[0;31m#df_P = df_P.set_index('YYYY/MM/DD_HH:MM:SS')\u001b[0m\u001b[0;34m\u001b[0m\u001b[0;34m\u001b[0m\u001b[0m\n\u001b[1;32m      3\u001b[0m \u001b[0;31m#df_P.drop(df_P.columns[[0,2,3,4,5,6,9,10,11,12,15,16,17,18,19,20,21,22,23,24,25,26,27,28,29,30,31,32,33,34,35,36,37,38,39,40]], axis=1, inplace=True)\u001b[0m\u001b[0;34m\u001b[0m\u001b[0;34m\u001b[0m\u001b[0m\n\u001b[0;32m----> 4\u001b[0;31m \u001b[0mdf_P\u001b[0m \u001b[0;34m=\u001b[0m \u001b[0mpd\u001b[0m\u001b[0;34m.\u001b[0m\u001b[0mio\u001b[0m\u001b[0;34m.\u001b[0m\u001b[0mparsers\u001b[0m\u001b[0;34m.\u001b[0m\u001b[0mread_csv\u001b[0m\u001b[0;34m(\u001b[0m\u001b[0mfilepath_or_buffer\u001b[0m \u001b[0;34m=\u001b[0m \u001b[0;34m'D3_filt_10mino3.csv'\u001b[0m\u001b[0;34m,\u001b[0m\u001b[0mindex_col\u001b[0m \u001b[0;34m=\u001b[0m \u001b[0;36m0\u001b[0m\u001b[0;34m)\u001b[0m\u001b[0;34m\u001b[0m\u001b[0m\n\u001b[0m\u001b[1;32m      5\u001b[0m \u001b[0;32mprint\u001b[0m \u001b[0mdf_P\u001b[0m\u001b[0;34m[\u001b[0m\u001b[0;34m:\u001b[0m\u001b[0;36m5\u001b[0m\u001b[0;34m]\u001b[0m\u001b[0;34m\u001b[0m\u001b[0m\n",
      "\u001b[0;32m/Applications/anaconda/lib/python2.7/site-packages/pandas/io/parsers.pyc\u001b[0m in \u001b[0;36mparser_f\u001b[0;34m(filepath_or_buffer, sep, dialect, compression, doublequote, escapechar, quotechar, quoting, skipinitialspace, lineterminator, header, index_col, names, prefix, skiprows, skipfooter, skip_footer, na_values, na_fvalues, true_values, false_values, delimiter, converters, dtype, usecols, engine, delim_whitespace, as_recarray, na_filter, compact_ints, use_unsigned, low_memory, buffer_lines, warn_bad_lines, error_bad_lines, keep_default_na, thousands, comment, decimal, parse_dates, keep_date_col, dayfirst, date_parser, memory_map, float_precision, nrows, iterator, chunksize, verbose, encoding, squeeze, mangle_dupe_cols, tupleize_cols, infer_datetime_format, skip_blank_lines)\u001b[0m\n\u001b[1;32m    463\u001b[0m                     skip_blank_lines=skip_blank_lines)\n\u001b[1;32m    464\u001b[0m \u001b[0;34m\u001b[0m\u001b[0m\n\u001b[0;32m--> 465\u001b[0;31m         \u001b[0;32mreturn\u001b[0m \u001b[0m_read\u001b[0m\u001b[0;34m(\u001b[0m\u001b[0mfilepath_or_buffer\u001b[0m\u001b[0;34m,\u001b[0m \u001b[0mkwds\u001b[0m\u001b[0;34m)\u001b[0m\u001b[0;34m\u001b[0m\u001b[0m\n\u001b[0m\u001b[1;32m    466\u001b[0m \u001b[0;34m\u001b[0m\u001b[0m\n\u001b[1;32m    467\u001b[0m     \u001b[0mparser_f\u001b[0m\u001b[0;34m.\u001b[0m\u001b[0m__name__\u001b[0m \u001b[0;34m=\u001b[0m \u001b[0mname\u001b[0m\u001b[0;34m\u001b[0m\u001b[0m\n",
      "\u001b[0;32m/Applications/anaconda/lib/python2.7/site-packages/pandas/io/parsers.pyc\u001b[0m in \u001b[0;36m_read\u001b[0;34m(filepath_or_buffer, kwds)\u001b[0m\n\u001b[1;32m    239\u001b[0m \u001b[0;34m\u001b[0m\u001b[0m\n\u001b[1;32m    240\u001b[0m     \u001b[0;31m# Create the parser.\u001b[0m\u001b[0;34m\u001b[0m\u001b[0;34m\u001b[0m\u001b[0m\n\u001b[0;32m--> 241\u001b[0;31m     \u001b[0mparser\u001b[0m \u001b[0;34m=\u001b[0m \u001b[0mTextFileReader\u001b[0m\u001b[0;34m(\u001b[0m\u001b[0mfilepath_or_buffer\u001b[0m\u001b[0;34m,\u001b[0m \u001b[0;34m**\u001b[0m\u001b[0mkwds\u001b[0m\u001b[0;34m)\u001b[0m\u001b[0;34m\u001b[0m\u001b[0m\n\u001b[0m\u001b[1;32m    242\u001b[0m \u001b[0;34m\u001b[0m\u001b[0m\n\u001b[1;32m    243\u001b[0m     \u001b[0;32mif\u001b[0m \u001b[0;34m(\u001b[0m\u001b[0mnrows\u001b[0m \u001b[0;32mis\u001b[0m \u001b[0;32mnot\u001b[0m \u001b[0mNone\u001b[0m\u001b[0;34m)\u001b[0m \u001b[0;32mand\u001b[0m \u001b[0;34m(\u001b[0m\u001b[0mchunksize\u001b[0m \u001b[0;32mis\u001b[0m \u001b[0;32mnot\u001b[0m \u001b[0mNone\u001b[0m\u001b[0;34m)\u001b[0m\u001b[0;34m:\u001b[0m\u001b[0;34m\u001b[0m\u001b[0m\n",
      "\u001b[0;32m/Applications/anaconda/lib/python2.7/site-packages/pandas/io/parsers.pyc\u001b[0m in \u001b[0;36m__init__\u001b[0;34m(self, f, engine, **kwds)\u001b[0m\n\u001b[1;32m    555\u001b[0m             \u001b[0mself\u001b[0m\u001b[0;34m.\u001b[0m\u001b[0moptions\u001b[0m\u001b[0;34m[\u001b[0m\u001b[0;34m'has_index_names'\u001b[0m\u001b[0;34m]\u001b[0m \u001b[0;34m=\u001b[0m \u001b[0mkwds\u001b[0m\u001b[0;34m[\u001b[0m\u001b[0;34m'has_index_names'\u001b[0m\u001b[0;34m]\u001b[0m\u001b[0;34m\u001b[0m\u001b[0m\n\u001b[1;32m    556\u001b[0m \u001b[0;34m\u001b[0m\u001b[0m\n\u001b[0;32m--> 557\u001b[0;31m         \u001b[0mself\u001b[0m\u001b[0;34m.\u001b[0m\u001b[0m_make_engine\u001b[0m\u001b[0;34m(\u001b[0m\u001b[0mself\u001b[0m\u001b[0;34m.\u001b[0m\u001b[0mengine\u001b[0m\u001b[0;34m)\u001b[0m\u001b[0;34m\u001b[0m\u001b[0m\n\u001b[0m\u001b[1;32m    558\u001b[0m \u001b[0;34m\u001b[0m\u001b[0m\n\u001b[1;32m    559\u001b[0m     \u001b[0;32mdef\u001b[0m \u001b[0m_get_options_with_defaults\u001b[0m\u001b[0;34m(\u001b[0m\u001b[0mself\u001b[0m\u001b[0;34m,\u001b[0m \u001b[0mengine\u001b[0m\u001b[0;34m)\u001b[0m\u001b[0;34m:\u001b[0m\u001b[0;34m\u001b[0m\u001b[0m\n",
      "\u001b[0;32m/Applications/anaconda/lib/python2.7/site-packages/pandas/io/parsers.pyc\u001b[0m in \u001b[0;36m_make_engine\u001b[0;34m(self, engine)\u001b[0m\n\u001b[1;32m    692\u001b[0m     \u001b[0;32mdef\u001b[0m \u001b[0m_make_engine\u001b[0m\u001b[0;34m(\u001b[0m\u001b[0mself\u001b[0m\u001b[0;34m,\u001b[0m \u001b[0mengine\u001b[0m\u001b[0;34m=\u001b[0m\u001b[0;34m'c'\u001b[0m\u001b[0;34m)\u001b[0m\u001b[0;34m:\u001b[0m\u001b[0;34m\u001b[0m\u001b[0m\n\u001b[1;32m    693\u001b[0m         \u001b[0;32mif\u001b[0m \u001b[0mengine\u001b[0m \u001b[0;34m==\u001b[0m \u001b[0;34m'c'\u001b[0m\u001b[0;34m:\u001b[0m\u001b[0;34m\u001b[0m\u001b[0m\n\u001b[0;32m--> 694\u001b[0;31m             \u001b[0mself\u001b[0m\u001b[0;34m.\u001b[0m\u001b[0m_engine\u001b[0m \u001b[0;34m=\u001b[0m \u001b[0mCParserWrapper\u001b[0m\u001b[0;34m(\u001b[0m\u001b[0mself\u001b[0m\u001b[0;34m.\u001b[0m\u001b[0mf\u001b[0m\u001b[0;34m,\u001b[0m \u001b[0;34m**\u001b[0m\u001b[0mself\u001b[0m\u001b[0;34m.\u001b[0m\u001b[0moptions\u001b[0m\u001b[0;34m)\u001b[0m\u001b[0;34m\u001b[0m\u001b[0m\n\u001b[0m\u001b[1;32m    695\u001b[0m         \u001b[0;32melse\u001b[0m\u001b[0;34m:\u001b[0m\u001b[0;34m\u001b[0m\u001b[0m\n\u001b[1;32m    696\u001b[0m             \u001b[0;32mif\u001b[0m \u001b[0mengine\u001b[0m \u001b[0;34m==\u001b[0m \u001b[0;34m'python'\u001b[0m\u001b[0;34m:\u001b[0m\u001b[0;34m\u001b[0m\u001b[0m\n",
      "\u001b[0;32m/Applications/anaconda/lib/python2.7/site-packages/pandas/io/parsers.pyc\u001b[0m in \u001b[0;36m__init__\u001b[0;34m(self, src, **kwds)\u001b[0m\n\u001b[1;32m   1059\u001b[0m         \u001b[0mkwds\u001b[0m\u001b[0;34m[\u001b[0m\u001b[0;34m'allow_leading_cols'\u001b[0m\u001b[0;34m]\u001b[0m \u001b[0;34m=\u001b[0m \u001b[0mself\u001b[0m\u001b[0;34m.\u001b[0m\u001b[0mindex_col\u001b[0m \u001b[0;32mis\u001b[0m \u001b[0;32mnot\u001b[0m \u001b[0mFalse\u001b[0m\u001b[0;34m\u001b[0m\u001b[0m\n\u001b[1;32m   1060\u001b[0m \u001b[0;34m\u001b[0m\u001b[0m\n\u001b[0;32m-> 1061\u001b[0;31m         \u001b[0mself\u001b[0m\u001b[0;34m.\u001b[0m\u001b[0m_reader\u001b[0m \u001b[0;34m=\u001b[0m \u001b[0m_parser\u001b[0m\u001b[0;34m.\u001b[0m\u001b[0mTextReader\u001b[0m\u001b[0;34m(\u001b[0m\u001b[0msrc\u001b[0m\u001b[0;34m,\u001b[0m \u001b[0;34m**\u001b[0m\u001b[0mkwds\u001b[0m\u001b[0;34m)\u001b[0m\u001b[0;34m\u001b[0m\u001b[0m\n\u001b[0m\u001b[1;32m   1062\u001b[0m \u001b[0;34m\u001b[0m\u001b[0m\n\u001b[1;32m   1063\u001b[0m         \u001b[0;31m# XXX\u001b[0m\u001b[0;34m\u001b[0m\u001b[0;34m\u001b[0m\u001b[0m\n",
      "\u001b[0;32mpandas/parser.pyx\u001b[0m in \u001b[0;36mpandas.parser.TextReader.__cinit__ (pandas/parser.c:3143)\u001b[0;34m()\u001b[0m\n",
      "\u001b[0;32mpandas/parser.pyx\u001b[0m in \u001b[0;36mpandas.parser.TextReader._setup_parser_source (pandas/parser.c:5765)\u001b[0;34m()\u001b[0m\n",
      "\u001b[0;31mIOError\u001b[0m: File D3_filt_10mino3.csv does not exist"
     ]
    }
   ],
   "source": [
    "#df_P = pd.read_csv(filepath_or_buffer = 'D3_pre.csv', parse_dates = [[1,2]], index_col = False)  \n",
    "#df_P = df_P.set_index('YYYY/MM/DD_HH:MM:SS')\n",
    "#df_P.drop(df_P.columns[[0,2,3,4,5,6,9,10,11,12,15,16,17,18,19,20,21,22,23,24,25,26,27,28,29,30,31,32,33,34,35,36,37,38,39,40]], axis=1, inplace=True)\n",
    "df_P = pd.io.parsers.read_csv(filepath_or_buffer = 'D3_filt_10mino3.csv',index_col = 0)\n",
    "print df_P[:5]"
   ]
  },
  {
   "cell_type": "code",
   "execution_count": null,
   "metadata": {
    "collapsed": false
   },
   "outputs": [],
   "source": [
    "df_P.drop(df_P.columns[[7,8]], axis=1, inplace=True)\n",
    "print df_P[:5]"
   ]
  },
  {
   "cell_type": "markdown",
   "metadata": {},
   "source": [
    "####Define the slope function."
   ]
  },
  {
   "cell_type": "code",
   "execution_count": null,
   "metadata": {
    "collapsed": true
   },
   "outputs": [],
   "source": [
    "def find_mean_slope_over_time(df_P, int_min, data_col):\n",
    "    df_P['diff'] = df_P[data_col].diff()\n",
    "    \n",
    "    slope = []\n",
    "    for i in range(int_min,len(df_P['diff'])):\n",
    "        top = i-int_min\n",
    "        slope.append(df_P['diff'][top:i].mean())\n",
    "    \n",
    "    for i in range(0,int_min):\n",
    "        slope.insert(i, 'NaN')\n",
    "\n",
    "    return slope"
   ]
  },
  {
   "cell_type": "markdown",
   "metadata": {},
   "source": [
    "####Define functions that create features that represent the area under the temp and humidity curves."
   ]
  },
  {
   "cell_type": "code",
   "execution_count": null,
   "metadata": {
    "collapsed": false
   },
   "outputs": [],
   "source": [
    "def make_time_integral_features(df_P,int_min, data_col):\n",
    "    int_min = 90\n",
    "    area_curve = []\n",
    "\n",
    "    for i in range(int_min,len(df_P[data_col])):\n",
    "        top = i-int_min\n",
    "        area_curve.append(np.trapz(df_P[data_col][top:i]))\n",
    "    \n",
    "    for i in range(0,int_min):\n",
    "        area_curve.insert(i, 'NaN')\n",
    "    \n",
    "    return area_curve"
   ]
  },
  {
   "cell_type": "markdown",
   "metadata": {},
   "source": [
    "###Call the slope functions and add them to the dataframe."
   ]
  },
  {
   "cell_type": "code",
   "execution_count": null,
   "metadata": {
    "collapsed": false
   },
   "outputs": [],
   "source": [
    "df_P['o3_slope_90'] = find_mean_slope_over_time(df_P, 90,'e2v03')\n",
    "df_P['o3_slope_75'] = find_mean_slope_over_time(df_P, 75,'e2v03')\n",
    "df_P['o3_slope_60'] = find_mean_slope_over_time(df_P, 60,'e2v03')\n",
    "df_P['o3_slope_45'] = find_mean_slope_over_time(df_P, 45,'e2v03')\n",
    "df_P['o3_slope_30'] = find_mean_slope_over_time(df_P, 30,'e2v03')\n",
    "df_P['o3_slope_15'] = find_mean_slope_over_time(df_P, 15,'e2v03')\n",
    "df_P['o3_slope_5'] = find_mean_slope_over_time(df_P, 5,'e2v03')\n",
    "\n",
    "df_P['temp_slope_90'] = find_mean_slope_over_time(df_P, 90,'Temp')\n",
    "df_P['temp_slope_75'] = find_mean_slope_over_time(df_P, 75,'Temp')\n",
    "df_P['temp_slope_60'] = find_mean_slope_over_time(df_P, 60,'Temp')\n",
    "df_P['temp_slope_45'] = find_mean_slope_over_time(df_P, 45,'Temp')\n",
    "df_P['temp_slope_30'] = find_mean_slope_over_time(df_P, 30,'Temp')\n",
    "df_P['temp_slope_15'] = find_mean_slope_over_time(df_P, 15,'Temp')\n",
    "df_P['temp_slope_5'] = find_mean_slope_over_time(df_P, 5,'Temp')\n",
    "\n",
    "df_P['rh_slope_90'] = find_mean_slope_over_time(df_P, 90,'Rh')\n",
    "df_P['rh_slope_75'] = find_mean_slope_over_time(df_P, 75,'Rh')\n",
    "df_P['rh_slope_60'] = find_mean_slope_over_time(df_P, 60,'Rh')\n",
    "df_P['rh_slope_45'] = find_mean_slope_over_time(df_P, 45,'Rh')\n",
    "df_P['rh_slope_30'] = find_mean_slope_over_time(df_P, 30,'Rh')\n",
    "df_P['rh_slope_15'] = find_mean_slope_over_time(df_P, 15,'Rh')\n",
    "df_P['rh_slope_5'] = find_mean_slope_over_time(df_P, 5,'Rh')"
   ]
  },
  {
   "cell_type": "markdown",
   "metadata": {},
   "source": [
    "###Call the integration functions and add them to the dataframe."
   ]
  },
  {
   "cell_type": "code",
   "execution_count": null,
   "metadata": {
    "collapsed": false,
    "scrolled": true
   },
   "outputs": [],
   "source": [
    "#df_P['rh_int_105'] = make_time_integral_features(df_P,105,'Rh')\n",
    "df_P['rh_int_90'] = make_time_integral_features(df_P,90,'Rh')\n",
    "df_P['rh_int_75'] = make_time_integral_features(df_P,75,'Rh')\n",
    "df_P['rh_int_60'] = make_time_integral_features(df_P,60,'Rh')\n",
    "df_P['rh_int_45'] = make_time_integral_features(df_P,45,'Rh')\n",
    "df_P['rh_int_30'] = make_time_integral_features(df_P,30,'Rh')\n",
    "\n",
    "#df_P['temp_int_105'] = make_time_integral_features(df_P,105,'Temp')\n",
    "df_P['temp_int_90'] = make_time_integral_features(df_P,90,'Temp')\n",
    "df_P['temp_int_75'] = make_time_integral_features(df_P,75,'Temp')\n",
    "df_P['temp_int_60'] = make_time_integral_features(df_P,60,'Temp')\n",
    "df_P['temp_int_45'] = make_time_integral_features(df_P,45,'Temp')\n",
    "df_P['temp_int_30'] = make_time_integral_features(df_P,30,'Temp')\n",
    "\n",
    "df_P['o3_int_90'] = make_time_integral_features(df_P,90,'e2v03')\n",
    "df_P['o3_int_75'] = make_time_integral_features(df_P,75,'e2v03')\n",
    "df_P['o3_int_60'] = make_time_integral_features(df_P,60,'e2v03')\n",
    "df_P['o3_int_45'] = make_time_integral_features(df_P,45,'e2v03')\n",
    "df_P['o3_int_30'] = make_time_integral_features(df_P,30,'e2v03')"
   ]
  },
  {
   "cell_type": "code",
   "execution_count": null,
   "metadata": {
    "collapsed": false
   },
   "outputs": [],
   "source": [
    "#Delete the first 90 rows of the dataframe to remove all NaNs.\n",
    "df_P = df_P.ix[90:]\n"
   ]
  },
  {
   "cell_type": "code",
   "execution_count": null,
   "metadata": {
    "collapsed": false
   },
   "outputs": [],
   "source": [
    "#df_P.drop(df_P.columns[[9]], axis=1, inplace=True)\n",
    "#print df_P[:5]"
   ]
  },
  {
   "cell_type": "code",
   "execution_count": null,
   "metadata": {
    "collapsed": false
   },
   "outputs": [],
   "source": [
    "#ozone terms\n",
    "df_P['O3_sq'] = df_P['e2v03']**2\n",
    "df_P['O3_cu'] = df_P['e2v03']**3\n",
    "df_P['ln_O3'] = np.log(df_P['e2v03'])\n",
    "df_P['ln_o3_int_90'] = np.log(df_P['o3_int_90'].astype(int))\n",
    "df_P['ln_o3_int_75'] = np.log(df_P['o3_int_75'].astype(int))\n",
    "df_P['ln_o3_int_60'] = np.log(df_P['o3_int_60'].astype(int))\n",
    "df_P['ln_o3_int_45'] = np.log(df_P['o3_int_45'].astype(int))\n",
    "df_P['ln_o3_int_30'] = np.log(df_P['o3_int_30'].astype(int))\n",
    "df_P['ln_o3_slope_90'] = np.log(df_P['o3_int_90'].astype(int))\n",
    "df_P['ln_o3_slope_75'] = np.log(df_P['o3_int_75'].astype(int))\n",
    "df_P['ln_o3_slope_60'] = np.log(df_P['o3_int_60'].astype(int))\n",
    "df_P['ln_o3_slope_45'] = np.log(df_P['o3_int_45'].astype(int))\n",
    "df_P['ln_o3_slope_30'] = np.log(df_P['o3_int_30'].astype(int))\n",
    "df_P['ln_o3_slope_15'] = np.log(df_P['o3_int_15'].astype(int))\n",
    "df_P['ln_o3_slope_5'] = np.log(df_P['o3_int_5'].astype(int))\n",
    "\n",
    "#temp terms\n",
    "df_P['temp_sq'] = df_P['Temp']**2\n",
    "df_P['temp_cu'] = df_P['Temp']**3\n",
    "df_P['ln_temp'] = np.log(df_P['Temp'])\n",
    "df_P['ln_temp_int_90'] = np.log(df_P['temp_int_90'].astype(int))\n",
    "df_P['ln_temp_int_75'] = np.log(df_P['temp_int_75'].astype(int))\n",
    "df_P['ln_temp_int_60'] = np.log(df_P['temp_int_60'].astype(int))\n",
    "df_P['ln_temp_int_45'] = np.log(df_P['temp_int_45'].astype(int))\n",
    "df_P['ln_temp_int_30'] = np.log(df_P['temp_int_30'].astype(int))\n",
    "df_P['ln_temp_slope_90'] = np.log(df_P['temp_int_90'].astype(int))\n",
    "df_P['ln_temp_slope_75'] = np.log(df_P['temp_int_75'].astype(int))\n",
    "df_P['ln_temp_slope_60'] = np.log(df_P['temp_int_60'].astype(int))\n",
    "df_P['ln_temp_slope_45'] = np.log(df_P['temp_int_45'].astype(int))\n",
    "df_P['ln_temp_slope_30'] = np.log(df_P['temp_int_30'].astype(int))\n",
    "df_P['ln_temp_slope_15'] = np.log(df_P['temp_int_15'].astype(int))\n",
    "df_P['ln_temp_slope_5'] = np.log(df_P['temp_int_5'].astype(int))\n",
    "\n",
    "#rh terms\n",
    "df_P['rh_sq'] = df_P['Rh']**2\n",
    "df_P['rh_cu'] = df_P['Rh']**3\n",
    "df_P['ln_rh'] = np.log(df_P['Rh'])\n",
    "df_P['ln_rh_int_90'] = np.log(df_P['rh_int_90'].astype(int))\n",
    "df_P['ln_rh_int_75'] = np.log(df_P['rh_int_75'].astype(int))\n",
    "df_P['ln_rh_int_60'] = np.log(df_P['rh_int_60'].astype(int))\n",
    "df_P['ln_rh_int_45'] = np.log(df_P['rh_int_45'].astype(int))\n",
    "df_P['ln_rh_int_30'] = np.log(df_P['rh_int_30'].astype(int))\n",
    "df_P['ln_rh_slope_90'] = np.log(df_P['rh_int_90'].astype(int))\n",
    "df_P['ln_rh_slope_75'] = np.log(df_P['rh_int_75'].astype(int))\n",
    "df_P['ln_rh_slope_60'] = np.log(df_P['rh_int_60'].astype(int))\n",
    "df_P['ln_rh_slope_45'] = np.log(df_P['rh_int_45'].astype(int))\n",
    "df_P['ln_rh_slope_30'] = np.log(df_P['rh_int_30'].astype(int))\n",
    "df_P['ln_rh_slope_15'] = np.log(df_P['rh_int_15'].astype(int))\n",
    "df_P['ln_rh_slope_5'] = np.log(df_P['rh_int_5'].astype(int))\n",
    "\n",
    "#ozone/temp interactions\n",
    "df_P['03_mult_temp'] = df_P['e2v03']*df_P['Temp']\n",
    "df_P['03_mult_temp_sq'] = (df_P['e2v03']*df_P['Temp'])**2\n",
    "df_P['03_mult_temp_cu'] = (df_P['e2v03']*df_P['Temp'])**3\n",
    "df_P['ln_03_mult_temp'] = np.log(df_P['03_mult_temp'])\n",
    "\n",
    "\n",
    "#ozone/rh interactions\n",
    "df_P['03_mult_rh'] = df_P['e2v03']*df_P['Rh']\n",
    "df_P['03_mult_rh_sq'] = (df_P['e2v03']*df_P['Rh'])**2\n",
    "df_P['03_mult_rh_cu'] = (df_P['e2v03']*df_P['Rh'])**3\n",
    "df_P['ln_03_mult_rh'] = np.log(df_P['03_mult_rh'])\n",
    "\n",
    "#temp/rh interactions\n",
    "df_P['temp_mult_rh'] = df_P['Temp']*df_P['Rh']\n",
    "df_P['temp_mult_rh_sq'] = (df_P['Temp']*df_P['Rh'])**2\n",
    "df_P['temp_mult_rh_cu'] = (df_P['Temp']*df_P['Rh'])**3\n",
    "df_P['ln_temp_mult_rh'] = np.log(df_P['temp_mult_rh'])\n",
    "\n",
    "\n",
    "#ozone/rh/temp interactions\n",
    "df_P['03_mult_rh_&_temp'] = df_P['e2v03']*df_P['Rh']*df_P['Temp']\n",
    "df_P['03_mult_rh_&_temp_sq'] = (df_P['e2v03']*df_P['Rh']*df_P['Temp'])**2\n",
    "df_P['03_mult_rh_&_temp_cu'] = (df_P['e2v03']*df_P['Rh']*df_P['Temp'])**3\n",
    "df_P['ln_03_mult_rh_&_temp_cu'] = np.log(df_P['03_mult_rh_&_temp_cu'])\n",
    "\n",
    "print df_P[:5]"
   ]
  },
  {
   "cell_type": "code",
   "execution_count": null,
   "metadata": {
    "collapsed": false
   },
   "outputs": [],
   "source": [
    "df_P.to_csv(path_or_buf = 'D3_raw_features.csv')"
   ]
  },
  {
   "cell_type": "code",
   "execution_count": null,
   "metadata": {
    "collapsed": false
   },
   "outputs": [],
   "source": []
  }
 ],
 "metadata": {
  "kernelspec": {
   "display_name": "Python 2",
   "language": "python",
   "name": "python2"
  },
  "language_info": {
   "codemirror_mode": {
    "name": "ipython",
    "version": 2
   },
   "file_extension": ".py",
   "mimetype": "text/x-python",
   "name": "python",
   "nbconvert_exporter": "python",
   "pygments_lexer": "ipython2",
   "version": "2.7.8"
  }
 },
 "nbformat": 4,
 "nbformat_minor": 0
}
