{
 "cells": [
  {
   "cell_type": "code",
   "execution_count": 173,
   "metadata": {
    "collapsed": false
   },
   "outputs": [
    {
     "name": "stdout",
     "output_type": "stream",
     "text": [
      "The autoreload extension is already loaded. To reload it, use:\n",
      "  %reload_ext autoreload\n"
     ]
    }
   ],
   "source": [
    "import pandas as pd\n",
    "import matplotlib.pyplot as plt\n",
    "import seaborn as sns\n",
    "import numpy as np\n",
    "%matplotlib inline\n",
    "%load_ext autoreload\n",
    "%autoreload 2\n",
    "from creation_functions import *"
   ]
  },
  {
   "cell_type": "code",
   "execution_count": 174,
   "metadata": {
    "collapsed": false
   },
   "outputs": [
    {
     "name": "stdout",
     "output_type": "stream",
     "text": [
      "                       O3_ppb      UnixTime      e2v03  Temp         Rh  \\\n",
      "DATE (MM/DD/YYYY)_MST                                                     \n",
      "2014-07-13 03:40:00        30  1.405223e+09  95.714286  23.6  56.885714   \n",
      "2014-07-13 03:41:00        32  1.405223e+09  95.857143  23.6  56.757143   \n",
      "2014-07-13 03:42:00        33  1.405223e+09  93.285714  23.6  56.871429   \n",
      "2014-07-13 03:43:00        32  1.405223e+09  93.142857  23.6  56.957143   \n",
      "2014-07-13 03:44:00        28  1.405223e+09  96.714286  23.6  57.042857   \n",
      "\n",
      "                       Zenith Angle [degrees]  days from start  ref_o3_smooth  \n",
      "DATE (MM/DD/YYYY)_MST                                                          \n",
      "2014-07-13 03:40:00                 100.86232                0             30  \n",
      "2014-07-13 03:41:00                 100.71634                0             32  \n",
      "2014-07-13 03:42:00                 100.56996                0             33  \n",
      "2014-07-13 03:43:00                 100.42319                0             32  \n",
      "2014-07-13 03:44:00                 100.27602                0             28  \n"
     ]
    }
   ],
   "source": [
    "df_P = pd.io.parsers.read_csv(filepath_or_buffer = 'data/N8_filt_10mino3.csv',index_col = 0)\n",
    "print df_P[:5]"
   ]
  },
  {
   "cell_type": "code",
   "execution_count": 175,
   "metadata": {
    "collapsed": false
   },
   "outputs": [
    {
     "name": "stdout",
     "output_type": "stream",
     "text": [
      "                       O3_ppb      UnixTime      e2v03  Temp         Rh  \\\n",
      "DATE (MM/DD/YYYY)_MST                                                     \n",
      "2014-07-13 03:40:00        30  1.405223e+09  95.714286  23.6  56.885714   \n",
      "2014-07-13 03:41:00        32  1.405223e+09  95.857143  23.6  56.757143   \n",
      "2014-07-13 03:42:00        33  1.405223e+09  93.285714  23.6  56.871429   \n",
      "2014-07-13 03:43:00        32  1.405223e+09  93.142857  23.6  56.957143   \n",
      "2014-07-13 03:44:00        28  1.405223e+09  96.714286  23.6  57.042857   \n",
      "\n",
      "                       days from start  ref_o3_smooth  \n",
      "DATE (MM/DD/YYYY)_MST                                  \n",
      "2014-07-13 03:40:00                  0             30  \n",
      "2014-07-13 03:41:00                  0             32  \n",
      "2014-07-13 03:42:00                  0             33  \n",
      "2014-07-13 03:43:00                  0             32  \n",
      "2014-07-13 03:44:00                  0             28  \n"
     ]
    }
   ],
   "source": [
    "df_P.drop(df_P.columns[[5]], axis=1, inplace=True)\n",
    "print df_P[:5]"
   ]
  },
  {
   "cell_type": "code",
   "execution_count": 176,
   "metadata": {
    "collapsed": false,
    "scrolled": true
   },
   "outputs": [
    {
     "name": "stdout",
     "output_type": "stream",
     "text": [
      "['O3_ppb', 'UnixTime', 'e2v03', 'Temp', 'Rh', 'days from start', 'ref_o3_smooth', 'O3_sqrt', 'O3_sq', 'O3_cu', 'ln_O3', 'temp_sqrt', 'temp_sq', 'temp_cu', 'ln_temp', 'rh_sqrt', 'rh_sq', 'rh_cu', 'ln_rh', '03_mult_temp', '03_sq_mult_temp_sq', 'ln_03_mult_ln_temp', '03_mult_rh', '03_sq_mult_rh_sq', 'ln_03_mult_ln_rh', 'temp_mult_rh', 'temp_sq_mult_rh_sq', 'ln_temp_mult_ln_rh', '03_mult_rh_&_temp', '03_sq_mult_rh_sq_&_temp_sq', 'ln_03_mult_ln_rh_&_ln_temp', 'e2v03_int_lag_15', 'e2v03_int_lag_30', 'e2v03_int_lag_45', 'e2v03_int_lag_60', 'e2v03_int_lag_75', 'e2v03_int_lag_90', 'e2v03_int_lead_15', 'e2v03_int_lead_30', 'e2v03_int_lead_45', 'e2v03_int_lead_60', 'e2v03_int_lead_75', 'e2v03_int_lead_90', 'diff', 'e2v03_slope_lag_15', 'e2v03_slope_lag_30', 'e2v03_slope_lag_45', 'e2v03_slope_lag_60', 'e2v03_slope_lag_75', 'e2v03_slope_lag_90', 'e2v03_slope_lead_15', 'e2v03_slope_lead_30', 'e2v03_slope_lead_45', 'e2v03_slope_lead_60', 'e2v03_slope_lead_75', 'e2v03_slope_lead_90', 'e2v03_int_lag_5', 'e2v03_int_lead_5', 'e2v03_slope_lag_5', 'e2v03_slope_lead_5', 'ln_O3_int_lag_15', 'ln_O3_int_lag_30', 'ln_O3_int_lag_45', 'ln_O3_int_lag_60', 'ln_O3_int_lag_75', 'ln_O3_int_lag_90', 'ln_O3_int_lead_15', 'ln_O3_int_lead_30', 'ln_O3_int_lead_45', 'ln_O3_int_lead_60', 'ln_O3_int_lead_75', 'ln_O3_int_lead_90', 'ln_O3_slope_lag_15', 'ln_O3_slope_lag_30', 'ln_O3_slope_lag_45', 'ln_O3_slope_lag_60', 'ln_O3_slope_lag_75', 'ln_O3_slope_lag_90', 'ln_O3_slope_lead_15', 'ln_O3_slope_lead_30', 'ln_O3_slope_lead_45', 'ln_O3_slope_lead_60', 'ln_O3_slope_lead_75', 'ln_O3_slope_lead_90', 'ln_O3_int_lag_5', 'ln_O3_int_lead_5', 'ln_O3_slope_lag_5', 'ln_O3_slope_lead_5', 'Temp_int_lag_15', 'Temp_int_lag_30', 'Temp_int_lag_45', 'Temp_int_lag_60', 'Temp_int_lag_75', 'Temp_int_lag_90', 'Temp_int_lead_15', 'Temp_int_lead_30', 'Temp_int_lead_45', 'Temp_int_lead_60', 'Temp_int_lead_75', 'Temp_int_lead_90', 'Temp_slope_lag_15', 'Temp_slope_lag_30', 'Temp_slope_lag_45', 'Temp_slope_lag_60', 'Temp_slope_lag_75', 'Temp_slope_lag_90', 'Temp_slope_lead_15', 'Temp_slope_lead_30', 'Temp_slope_lead_45', 'Temp_slope_lead_60', 'Temp_slope_lead_75', 'Temp_slope_lead_90', 'Temp_int_lag_5', 'Temp_int_lead_5', 'Temp_slope_lag_5', 'Temp_slope_lead_5', 'ln_temp_int_lag_15', 'ln_temp_int_lag_30', 'ln_temp_int_lag_45', 'ln_temp_int_lag_60', 'ln_temp_int_lag_75', 'ln_temp_int_lag_90', 'ln_temp_int_lead_15', 'ln_temp_int_lead_30', 'ln_temp_int_lead_45', 'ln_temp_int_lead_60', 'ln_temp_int_lead_75', 'ln_temp_int_lead_90', 'ln_temp_slope_lag_15', 'ln_temp_slope_lag_30', 'ln_temp_slope_lag_45', 'ln_temp_slope_lag_60', 'ln_temp_slope_lag_75', 'ln_temp_slope_lag_90', 'ln_temp_slope_lead_15', 'ln_temp_slope_lead_30', 'ln_temp_slope_lead_45', 'ln_temp_slope_lead_60', 'ln_temp_slope_lead_75', 'ln_temp_slope_lead_90', 'ln_temp_int_lag_5', 'ln_temp_int_lead_5', 'ln_temp_slope_lag_5', 'ln_temp_slope_lead_5', 'Rh_int_lag_15', 'Rh_int_lag_30', 'Rh_int_lag_45', 'Rh_int_lag_60', 'Rh_int_lag_75', 'Rh_int_lag_90', 'Rh_int_lead_15', 'Rh_int_lead_30', 'Rh_int_lead_45', 'Rh_int_lead_60', 'Rh_int_lead_75', 'Rh_int_lead_90', 'Rh_slope_lag_15', 'Rh_slope_lag_30', 'Rh_slope_lag_45', 'Rh_slope_lag_60', 'Rh_slope_lag_75', 'Rh_slope_lag_90', 'Rh_slope_lead_15', 'Rh_slope_lead_30', 'Rh_slope_lead_45', 'Rh_slope_lead_60', 'Rh_slope_lead_75', 'Rh_slope_lead_90', 'Rh_int_lag_5', 'Rh_int_lead_5', 'Rh_slope_lag_5', 'Rh_slope_lead_5', 'ln_rh_int_lag_15', 'ln_rh_int_lag_30', 'ln_rh_int_lag_45', 'ln_rh_int_lag_60', 'ln_rh_int_lag_75', 'ln_rh_int_lag_90', 'ln_rh_int_lead_15', 'ln_rh_int_lead_30', 'ln_rh_int_lead_45', 'ln_rh_int_lead_60', 'ln_rh_int_lead_75', 'ln_rh_int_lead_90', 'ln_rh_slope_lag_15', 'ln_rh_slope_lag_30', 'ln_rh_slope_lag_45', 'ln_rh_slope_lag_60', 'ln_rh_slope_lag_75', 'ln_rh_slope_lag_90', 'ln_rh_slope_lead_15', 'ln_rh_slope_lead_30', 'ln_rh_slope_lead_45', 'ln_rh_slope_lead_60', 'ln_rh_slope_lead_75', 'ln_rh_slope_lead_90', 'ln_rh_int_lag_5', 'ln_rh_int_lead_5', 'ln_rh_slope_lag_5', 'ln_rh_slope_lead_5']\n"
     ]
    }
   ],
   "source": [
    "#ozone terms\n",
    "df_P['O3_sqrt'] = np.sqrt(df_P['e2v03'].astype(float))\n",
    "df_P['O3_sq'] = df_P['e2v03']**2\n",
    "df_P['O3_cu'] = df_P['e2v03']**3\n",
    "df_P['ln_O3'] = np.log(df_P['e2v03'])\n",
    "\n",
    "#temp terms\n",
    "df_P['temp_sqrt'] = np.sqrt(df_P['Temp'].astype(float))\n",
    "df_P['temp_sq'] = df_P['Temp']**2\n",
    "df_P['temp_cu'] = df_P['Temp']**3\n",
    "df_P['ln_temp'] =np.log(df_P['Temp'])\n",
    "\n",
    "#rh terms\n",
    "df_P['rh_sqrt'] = np.sqrt(df_P['Rh'].astype(float))\n",
    "df_P['rh_sq'] = df_P['Rh']**2\n",
    "df_P['rh_cu'] = df_P['Rh']**3\n",
    "df_P['ln_rh'] = np.log(df_P['Rh'])\n",
    "\n",
    "#ozone/temp interactions\n",
    "df_P['03_mult_temp'] = df_P['e2v03']*df_P['Temp']\n",
    "df_P['03_sq_mult_temp_sq'] = ((df_P['e2v03'])**2)*df_P['Temp']**2\n",
    "df_P['ln_03_mult_ln_temp'] = np.log(df_P['Temp'])*np.log(df_P['e2v03'])\n",
    "\n",
    "#ozone/rh interactions\n",
    "df_P['03_mult_rh'] = df_P['e2v03']*df_P['Rh']\n",
    "df_P['03_sq_mult_rh_sq'] = (df_P['e2v03']**2)*df_P['Rh']**2\n",
    "df_P['ln_03_mult_ln_rh'] = np.log(df_P['Rh'])*np.log(df_P['e2v03'])\n",
    "\n",
    "#temp/rh interactions\n",
    "df_P['temp_mult_rh'] = df_P['Temp']*df_P['Rh']\n",
    "df_P['temp_sq_mult_rh_sq'] = (df_P['Temp']**2)*df_P['Rh']**2\n",
    "df_P['ln_temp_mult_ln_rh'] = np.log(df_P['Temp'])*np.log(df_P['Rh'])\n",
    "\n",
    "#ozone/rh/temp interactions\n",
    "df_P['03_mult_rh_&_temp'] = df_P['e2v03']*df_P['Rh']*df_P['Temp']\n",
    "df_P['03_sq_mult_rh_sq_&_temp_sq'] = (df_P['e2v03']**2)*(df_P['Rh']**2)*df_P['Temp']**2\n",
    "df_P['ln_03_mult_ln_rh_&_ln_temp'] = np.log(df_P['Temp'])*np.log(df_P['Rh'])*np.log(df_P['e2v03'])\n",
    "\n",
    "feature_list = ['e2v03', 'ln_O3', 'Temp', 'ln_temp', 'Rh', 'ln_rh']\n",
    "\n",
    "for i in range(0,len(feature_list)):\n",
    "    make_func_caller_find_lag_integral(df_P, 15, 90, 15, feature_list[i])\n",
    "    make_func_caller_find_lead_integral(df_P, 15, 90, 15, feature_list[i])\n",
    "    make_func_caller_find_lag_slope(df_P, 15, 90, 15, feature_list[i])\n",
    "    make_func_caller_find_lead_slope(df_P, 15, 90, 15, feature_list[i])\n",
    "    make_func_caller_find_lag_integral(df_P, 5, 5, 15, feature_list[i])\n",
    "    make_func_caller_find_lead_integral(df_P, 5, 5, 15, feature_list[i])\n",
    "    make_func_caller_find_lag_slope(df_P, 5, 5, 15, feature_list[i])\n",
    "    make_func_caller_find_lead_slope(df_P, 5, 5, 15, feature_list[i])\n",
    "\n",
    "features = list(df_P.columns)\n",
    "print features"
   ]
  },
  {
   "cell_type": "code",
   "execution_count": 177,
   "metadata": {
    "collapsed": false,
    "scrolled": true
   },
   "outputs": [],
   "source": [
    "#Delete the first and last 90 rows of the dataframe to remove all NaNs.\n",
    "df_P = df_P.ix[90:len(df_P['e2v03'])-90]"
   ]
  },
  {
   "cell_type": "code",
   "execution_count": 178,
   "metadata": {
    "collapsed": false
   },
   "outputs": [],
   "source": [
    "#ozone/temp\n",
    "df_P['o3_temp_int_lag_30'] = df_P['e2v03_int_lag_30'] * df_P['Temp_int_lag_30'] \n",
    "df_P['o3_temp_slope_lag_30'] = df_P['e2v03_slope_lag_30'] * df_P['Temp_slope_lag_30']\n",
    "df_P['o3_temp_int_lag_60'] = df_P['e2v03_int_lag_60'] * df_P['Temp_int_lag_60'] \n",
    "df_P['o3_temp_slope_lag_60'] = df_P['e2v03_slope_lag_60'] * df_P['Temp_slope_lag_60'] \n",
    "df_P['o3_temp_int_lag_90'] = df_P['e2v03_int_lag_90'] * df_P['Temp_int_lag_90'] \n",
    "df_P['o3_temp_slope_lag_90'] = df_P['e2v03_slope_lag_90'] * df_P['Temp_slope_lag_90']\n",
    "df_P['o3_temp_int_lag_5'] = df_P['e2v03_int_lag_5'] * df_P['Temp_int_lag_5'] \n",
    "df_P['o3_temp_slope_lag_5'] = df_P['e2v03_slope_lag_5'] * df_P['Temp_slope_lag_5']\n",
    "\n",
    "df_P['ln_o3_temp_int_lag_30'] = df_P['ln_O3_int_lag_30'] * df_P['ln_temp_int_lag_30'] \n",
    "df_P['ln_o3_temp_slope_lag_30'] = df_P['ln_O3_slope_lag_30'] * df_P['ln_temp_slope_lag_30']\n",
    "df_P['ln_o3_temp_int_lag_60'] = df_P['ln_O3_int_lag_60'] * df_P['ln_temp_int_lag_60'] \n",
    "df_P['ln_o3_temp_slope_lag_60'] = df_P['ln_O3_slope_lag_60'] * df_P['ln_temp_slope_lag_60'] \n",
    "df_P['ln_o3_temp_int_lag_90'] = df_P['ln_O3_int_lag_90'] * df_P['ln_temp_int_lag_90'] \n",
    "df_P['ln_o3_temp_slope_lag_90'] = df_P['ln_O3_slope_lag_90'] * df_P['ln_temp_slope_lag_90']\n",
    "df_P['ln_o3_temp_int_lag_5'] = df_P['ln_O3_int_lag_5'] * df_P['ln_temp_int_lag_5'] \n",
    "df_P['ln_o3_temp_slope_lag_5'] = df_P['ln_O3_slope_lag_5'] * df_P['ln_temp_slope_lag_5']\n",
    "\n",
    "df_P['o3_temp_int_lead_30'] = df_P['e2v03_int_lead_30'] * df_P['Temp_int_lead_30'] \n",
    "df_P['o3_temp_slope_lead_30'] = df_P['e2v03_slope_lead_30'] * df_P['Temp_slope_lead_30'] \n",
    "df_P['o3_temp_int_lead_60'] = df_P['e2v03_int_lead_60'] * df_P['Temp_int_lead_60'] \n",
    "df_P['o3_temp_slope_lead_60'] = df_P['e2v03_slope_lead_60'] * df_P['Temp_slope_lead_60'] \n",
    "df_P['o3_temp_int_lead_90'] = df_P['e2v03_int_lead_90'] * df_P['Temp_int_lead_90'] \n",
    "df_P['o3_temp_slope_lead_90'] = df_P['e2v03_slope_lead_90'] * df_P['Temp_slope_lead_90']\n",
    "df_P['o3_temp_int_lead_5'] = df_P['e2v03_int_lead_5'] * df_P['Temp_int_lead_5'] \n",
    "df_P['o3_temp_slope_lead_5'] = df_P['e2v03_slope_lead_5'] * df_P['Temp_slope_lead_5']\n",
    "\n",
    "df_P['ln_o3_temp_int_lead_30'] = df_P['ln_O3_int_lead_30'] * df_P['ln_temp_int_lead_30'] \n",
    "df_P['ln_o3_temp_slope_lead_30'] = df_P['ln_O3_slope_lead_30'] * df_P['ln_temp_slope_lead_30'] \n",
    "df_P['ln_o3_temp_int_lead_60'] = df_P['ln_O3_int_lead_60'] * df_P['ln_temp_int_lead_60'] \n",
    "df_P['ln_o3_temp_slope_lead_60'] = df_P['ln_O3_slope_lead_60'] * df_P['ln_temp_slope_lead_60'] \n",
    "df_P['ln_o3_temp_int_lead_90'] = df_P['ln_O3_int_lead_90'] * df_P['ln_temp_int_lead_90'] \n",
    "df_P['ln_o3_temp_slope_lead_90'] = df_P['ln_O3_slope_lead_90'] * df_P['ln_temp_slope_lead_90']\n",
    "df_P['ln_o3_temp_int_lead_5'] = df_P['ln_O3_int_lead_5'] * df_P['ln_temp_int_lead_5'] \n",
    "df_P['ln_o3_temp_slope_lead_5'] = df_P['ln_O3_slope_lead_5'] * df_P['ln_temp_slope_lead_5']\n",
    "\n",
    "#temp/rh\n",
    "df_P['temp_rh_int_lag_30'] = df_P['Temp_int_lag_30'] * df_P['Rh_int_lag_30'] \n",
    "df_P['temp_rh_slope_lag_30'] = df_P['Temp_slope_lag_30'] * df_P['Rh_slope_lag_30'] \n",
    "df_P['temp_rh_int_lag_60'] = df_P['Temp_int_lag_60'] * df_P['Rh_int_lag_60'] \n",
    "df_P['temp_rh_slope_lag_60'] = df_P['Temp_slope_lag_60'] * df_P['Rh_slope_lag_60'] \n",
    "df_P['temp_rh_int_lag_90'] = df_P['Temp_int_lag_90'] * df_P['Rh_int_lag_90'] \n",
    "df_P['temp_rh_slope_lag_90'] = df_P['Temp_slope_lag_90'] * df_P['Rh_slope_lag_90'] \n",
    "df_P['temp_rh_int_lag_5'] = df_P['Temp_int_lag_5'] * df_P['Rh_int_lag_5'] \n",
    "df_P['temp_rh_slope_lag_5'] = df_P['Temp_slope_lag_5'] * df_P['Rh_slope_lag_5']\n",
    "\n",
    "df_P['ln_temp_rh_int_lag_30'] = df_P['ln_temp_int_lag_30'] * df_P['ln_rh_int_lag_30'] \n",
    "df_P['ln_temp_rh_slope_lag_30'] = df_P['ln_temp_slope_lag_30'] * df_P['ln_rh_slope_lag_30'] \n",
    "df_P['ln_temp_rh_int_lag_60'] = df_P['ln_temp_int_lag_60'] * df_P['ln_rh_int_lag_60'] \n",
    "df_P['ln_temp_rh_slope_lag_60'] = df_P['ln_temp_slope_lag_60'] * df_P['ln_rh_slope_lag_60'] \n",
    "df_P['ln_temp_rh_int_lag_90'] = df_P['ln_temp_int_lag_90'] * df_P['ln_rh_int_lag_90'] \n",
    "df_P['ln_temp_rh_slope_lag_90'] = df_P['ln_temp_slope_lag_90'] * df_P['ln_rh_slope_lag_90'] \n",
    "df_P['ln_temp_rh_int_lag_5'] = df_P['ln_temp_int_lag_5'] * df_P['ln_rh_int_lag_5'] \n",
    "df_P['ln_temp_rh_slope_lag_5'] = df_P['ln_temp_slope_lag_5'] * df_P['ln_rh_slope_lag_5']\n",
    "\n",
    "df_P['temp_rh_int_lead_30'] = df_P['Temp_int_lead_30'] * df_P['Rh_int_lead_30'] \n",
    "df_P['temp_rh_slope_lead_30'] = df_P['Temp_slope_lead_30'] * df_P['Rh_slope_lead_30'] \n",
    "df_P['temp_rh_int_lead_60'] = df_P['Temp_int_lead_60'] * df_P['Rh_int_lead_60'] \n",
    "df_P['temp_rh_slope_lead_60'] = df_P['Temp_slope_lead_60'] * df_P['Rh_slope_lead_60'] \n",
    "df_P['temp_rh_int_lead_90'] = df_P['Temp_int_lead_90'] * df_P['Rh_int_lead_90'] \n",
    "df_P['temp_rh_slope_lead_90'] = df_P['Temp_slope_lead_90'] * df_P['Rh_slope_lead_90']\n",
    "df_P['temp_rh_int_lead_5'] = df_P['Temp_int_lead_5'] * df_P['Rh_int_lead_5'] \n",
    "df_P['temp_rh_slope_lead_5'] = df_P['Temp_slope_lead_5'] * df_P['Rh_slope_lead_5']\n",
    "\n",
    "df_P['ln_temp_rh_int_lead_30'] = df_P['ln_temp_int_lead_30'] * df_P['ln_rh_int_lead_30'] \n",
    "df_P['ln_temp_rh_slope_lead_30'] = df_P['ln_temp_slope_lead_30'] * df_P['ln_rh_slope_lead_30'] \n",
    "df_P['ln_temp_rh_int_lead_60'] = df_P['ln_temp_int_lead_60'] * df_P['ln_rh_int_lead_60'] \n",
    "df_P['ln_temp_rh_slope_lead_60'] = df_P['ln_temp_slope_lead_60'] * df_P['ln_rh_slope_lead_60'] \n",
    "df_P['ln_temp_rh_int_lead_90'] = df_P['ln_temp_int_lead_90'] * df_P['ln_rh_int_lead_90'] \n",
    "df_P['ln_temp_rh_slope_lead_5'] = df_P['ln_temp_slope_lead_5'] * df_P['ln_rh_slope_lead_5']\n",
    "df_P['ln_temp_rh_int_lead_5'] = df_P['ln_temp_slope_lead_5'] * df_P['ln_rh_slope_lead_5']\n",
    "\n",
    "#ozone/rh\n",
    "df_P['o3_rh_int_lag_30'] = df_P['e2v03_int_lag_30'] * df_P['Rh_int_lag_30'] \n",
    "df_P['o3_rh_slope_lag_30'] = df_P['e2v03_slope_lag_30'] * df_P['Rh_slope_lag_30'] \n",
    "df_P['o3_rh_int_lag_60'] = df_P['e2v03_int_lag_60'] * df_P['Rh_int_lag_60'] \n",
    "df_P['o3_rh_slope_lag_60'] = df_P['e2v03_slope_lag_60'] * df_P['Rh_slope_lag_60'] \n",
    "df_P['o3_rh_int_lag_90'] = df_P['e2v03_int_lag_90'] * df_P['Rh_int_lag_90'] \n",
    "df_P['o3_rh_slope_lag_90'] = df_P['e2v03_slope_lag_90'] * df_P['Rh_slope_lag_90'] \n",
    "df_P['o3_rh_int_lag_5'] = df_P['e2v03_int_lag_5'] * df_P['Rh_int_lag_5'] \n",
    "df_P['o3_rh_slope_lag_5'] = df_P['e2v03_slope_lag_5'] * df_P['Rh_slope_lag_5'] \n",
    "\n",
    "df_P['ln_o3_rh_int_lag_30'] = df_P['ln_O3_int_lag_30'] * df_P['ln_rh_int_lag_30'] \n",
    "df_P['ln_o3_rh_slope_lag_30'] = df_P['ln_O3_slope_lag_30'] * df_P['ln_rh_slope_lag_30'] \n",
    "df_P['ln_o3_rh_int_lag_60'] = df_P['ln_O3_int_lag_60'] * df_P['ln_rh_int_lag_60'] \n",
    "df_P['ln_o3_rh_slope_lag_60'] = df_P['ln_O3_slope_lag_60'] * df_P['ln_rh_slope_lag_60'] \n",
    "df_P['ln_o3_rh_int_lag_90'] = df_P['ln_O3_int_lag_90'] * df_P['ln_rh_int_lag_90'] \n",
    "df_P['ln_o3_rh_slope_lag_90'] = df_P['ln_O3_slope_lag_90'] * df_P['ln_rh_slope_lag_90'] \n",
    "df_P['ln_o3_rh_int_lag_5'] = df_P['ln_O3_int_lag_5'] * df_P['ln_rh_int_lag_5'] \n",
    "df_P['ln_o3_rh_slope_lag_5'] = df_P['ln_O3_slope_lag_5'] * df_P['ln_rh_slope_lag_5'] \n",
    "\n",
    "df_P['o3_rh_int_lead_30'] = df_P['e2v03_int_lead_30'] * df_P['Rh_int_lead_30'] \n",
    "df_P['o3_rh_slope_lead_30'] = df_P['e2v03_slope_lead_30'] * df_P['Rh_slope_lead_30'] \n",
    "df_P['o3_rh_int_lead_60'] = df_P['e2v03_int_lead_60'] * df_P['Rh_int_lead_60'] \n",
    "df_P['o3_rh_slope_lead_60'] = df_P['e2v03_slope_lead_60'] * df_P['Rh_slope_lead_60'] \n",
    "df_P['o3_rh_int_lead_90'] = df_P['e2v03_int_lead_90'] * df_P['Rh_int_lead_90'] \n",
    "df_P['o3_rh_slope_lead_90'] = df_P['e2v03_slope_lead_90'] * df_P['Rh_slope_lead_90']\n",
    "df_P['o3_rh_int_lead_5'] = df_P['e2v03_int_lead_5'] * df_P['Rh_int_lead_5'] \n",
    "df_P['o3_rh_slope_lead_5'] = df_P['e2v03_slope_lead_5'] * df_P['Rh_slope_lead_5']\n",
    "\n",
    "df_P['ln_o3_rh_int_lead_30'] = df_P['ln_O3_int_lead_30'] * df_P['ln_rh_int_lead_30'] \n",
    "df_P['ln_o3_rh_slope_lead_30'] = df_P['ln_O3_slope_lead_30'] * df_P['ln_rh_slope_lead_30'] \n",
    "df_P['ln_o3_rh_int_lead_60'] = df_P['ln_O3_int_lead_60'] * df_P['ln_rh_int_lead_60'] \n",
    "df_P['ln_o3_rh_slope_lead_60'] = df_P['ln_O3_slope_lead_60'] * df_P['ln_rh_slope_lead_60'] \n",
    "df_P['ln_o3_rh_int_lead_90'] = df_P['ln_O3_int_lead_90'] * df_P['ln_rh_int_lead_90'] \n",
    "df_P['ln_o3_rh_slope_lead_90'] = df_P['ln_O3_slope_lead_90'] * df_P['ln_rh_slope_lead_90']\n",
    "df_P['ln_o3_rh_int_lead_5'] = df_P['ln_O3_int_lead_5'] * df_P['ln_rh_int_lead_5'] \n",
    "df_P['ln_o3_rh_slope_lead_5'] = df_P['ln_O3_slope_lead_5'] * df_P['ln_rh_slope_lead_5']\n",
    "\n",
    "#ozone/temp/rh\n",
    "df_P['o3_temp_rh_int_lag_30'] = df_P['Temp_int_lag_30'] * df_P['Rh_int_lag_30']*df_P['e2v03_int_lag_30'] \n",
    "df_P['o3_temp_rh_slope_lag_30'] = df_P['Temp_slope_lag_30'] * df_P['Rh_slope_lag_30'] * df_P['e2v03_slope_lag_30'] \n",
    "df_P['o3_temp_rh_int_lag_60'] = df_P['Temp_int_lag_60'] * df_P['Rh_int_lag_60']*df_P['e2v03_int_lag_60'] \n",
    "df_P['o3_temp_rh_slope_lag_60'] = df_P['Temp_slope_lag_60'] * df_P['Rh_slope_lag_60'] * df_P['e2v03_slope_lag_60'] \n",
    "df_P['o3_temp_rh_int_lag_90'] = df_P['Temp_int_lag_90'] * df_P['Rh_int_lag_90'] * df_P['e2v03_int_lag_90']\n",
    "df_P['o3_temp_rh_slope_lag_90'] = df_P['Temp_slope_lag_90'] * df_P['Rh_slope_lag_90'] * df_P['e2v03_slope_lag_90'] \n",
    "df_P['o3_temp_rh_int_lag_5'] = df_P['Temp_int_lag_5'] * df_P['Rh_int_lag_5'] * df_P['e2v03_int_lag_5']\n",
    "df_P['o3_temp_rh_slope_lag_5'] = df_P['Temp_slope_lag_5'] * df_P['Rh_slope_lag_5'] * df_P['e2v03_slope_lag_5'] \n",
    "\n",
    "df_P['ln_o3_temp_rh_int_lag_30'] = df_P['ln_temp_int_lag_30'] * df_P['ln_rh_int_lag_30']*df_P['ln_O3_int_lag_30'] \n",
    "df_P['ln_o3_temp_rh_slope_lag_30'] = df_P['ln_temp_slope_lag_30'] * df_P['ln_rh_slope_lag_30'] * df_P['ln_O3_slope_lag_30'] \n",
    "df_P['ln_o3_temp_rh_int_lag_60'] = df_P['ln_temp_int_lag_60'] * df_P['ln_rh_int_lag_60']*df_P['ln_O3_int_lag_60'] \n",
    "df_P['ln_o3_temp_rh_slope_lag_60'] = df_P['ln_temp_slope_lag_60'] * df_P['ln_rh_slope_lag_60'] * df_P['ln_O3_slope_lag_60'] \n",
    "df_P['ln_o3_temp_rh_int_lag_90'] = df_P['ln_temp_int_lag_90'] * df_P['ln_rh_int_lag_90'] * df_P['ln_O3_int_lag_90']\n",
    "df_P['ln_o3_temp_rh_slope_lag_90'] = df_P['ln_temp_slope_lag_90'] * df_P['ln_rh_slope_lag_90'] * df_P['ln_O3_slope_lag_90'] \n",
    "df_P['ln_o3_temp_rh_int_lag_5'] = df_P['ln_temp_int_lag_5'] * df_P['ln_rh_int_lag_5'] * df_P['ln_O3_int_lag_5']\n",
    "df_P['ln_o3_temp_rh_slope_lag_5'] = df_P['ln_temp_slope_lag_5'] * df_P['ln_rh_slope_lag_5'] * df_P['ln_O3_slope_lag_5'] \n",
    "\n",
    "df_P['o3_temp_rh_int_lead_30'] = df_P['Temp_int_lead_30'] * df_P['Rh_int_lead_30'] * df_P['e2v03_int_lead_30'] \n",
    "df_P['o3_temp_rh_slope_lead_30'] = df_P['Temp_slope_lead_30'] * df_P['Rh_slope_lead_30'] * df_P['e2v03_slope_lead_30']\n",
    "df_P['o3_temp_rh_int_lead_60'] = df_P['Temp_int_lead_60'] * df_P['Rh_int_lead_60'] * df_P['e2v03_int_lead_60'] \n",
    "df_P['o3_temp_rh_slope_lead_60'] = df_P['Temp_slope_lead_60'] * df_P['Rh_slope_lead_60'] * df_P['e2v03_slope_lead_60'] \n",
    "df_P['o3_temp_rh_int_lead_90'] = df_P['Temp_int_lead_90'] * df_P['Rh_int_lead_90'] * df_P['e2v03_int_lead_90']\n",
    "df_P['o3_temp_rh_slope_lead_90'] = df_P['Temp_slope_lead_90'] * df_P['Rh_slope_lead_90'] * df_P['e2v03_slope_lead_90']\n",
    "df_P['o3_temp_rh_int_lead_5'] = df_P['Temp_int_lead_5'] * df_P['Rh_int_lead_5'] * df_P['e2v03_int_lead_5']\n",
    "df_P['o3_temp_rh_slope_lead_5'] = df_P['Temp_slope_lead_5'] * df_P['Rh_slope_lead_5'] * df_P['e2v03_slope_lead_5']\n",
    "\n",
    "df_P['ln_o3_temp_rh_int_lead_30'] = df_P['ln_temp_int_lead_30'] * df_P['ln_rh_int_lead_30'] * df_P['ln_O3_int_lead_30'] \n",
    "df_P['ln_o3_temp_rh_slope_lead_30'] = df_P['ln_temp_slope_lead_30'] * df_P['ln_rh_slope_lead_30'] * df_P['ln_O3_slope_lead_30']\n",
    "df_P['ln_o3_temp_rh_int_lead_60'] = df_P['ln_temp_int_lead_60'] * df_P['ln_rh_int_lead_60'] * df_P['ln_O3_int_lead_60'] \n",
    "df_P['ln_o3_temp_rh_slope_lead_60'] = df_P['ln_temp_slope_lead_60'] * df_P['ln_rh_slope_lead_60'] * df_P['ln_O3_slope_lead_60']\n",
    "df_P['ln_o3_temp_rh_int_lead_90'] = df_P['ln_temp_int_lead_90'] * df_P['ln_rh_int_lead_90'] * df_P['ln_O3_int_lead_90']\n",
    "df_P['ln_o3_temp_rh_slope_lead_90'] = df_P['ln_temp_slope_lead_90'] * df_P['ln_rh_slope_lead_90'] * df_P['ln_O3_slope_lead_90']\n",
    "df_P['ln_o3_temp_rh_int_lead_5'] = df_P['ln_temp_int_lead_5'] * df_P['ln_rh_int_lead_5'] * df_P['ln_O3_int_lead_5']\n",
    "df_P['ln_o3_temp_rh_slope_lead_5'] = df_P['ln_temp_slope_lead_5'] * df_P['ln_rh_slope_lead_5'] * df_P['ln_O3_slope_lead_5']"
   ]
  },
  {
   "cell_type": "code",
   "execution_count": 179,
   "metadata": {
    "collapsed": false
   },
   "outputs": [],
   "source": [
    "df_P.to_csv(path_or_buf = 'data/N8_raw_features.csv')"
   ]
  },
  {
   "cell_type": "code",
   "execution_count": null,
   "metadata": {
    "collapsed": false
   },
   "outputs": [],
   "source": []
  }
 ],
 "metadata": {
  "kernelspec": {
   "display_name": "Python 2",
   "language": "python",
   "name": "python2"
  },
  "language_info": {
   "codemirror_mode": {
    "name": "ipython",
    "version": 2
   },
   "file_extension": ".py",
   "mimetype": "text/x-python",
   "name": "python",
   "nbconvert_exporter": "python",
   "pygments_lexer": "ipython2",
   "version": "2.7.10"
  }
 },
 "nbformat": 4,
 "nbformat_minor": 0
}
