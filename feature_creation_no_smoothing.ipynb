{
 "cells": [
  {
   "cell_type": "code",
   "execution_count": 1,
   "metadata": {
    "collapsed": false
   },
   "outputs": [],
   "source": [
    "import pandas as pd\n",
    "import matplotlib.pyplot as plt\n",
    "import seaborn as sns\n",
    "import numpy as np\n",
    "%matplotlib inline"
   ]
  },
  {
   "cell_type": "code",
   "execution_count": 2,
   "metadata": {
    "collapsed": false
   },
   "outputs": [
    {
     "name": "stdout",
     "output_type": "stream",
     "text": [
      "                       O3_ppb    UnixTime       e2v03       Temp         Rh  \\\n",
      "DATE (MM/DD/YYYY)_MST                                                         \n",
      "7/10/14 20:25              41  1405023930  114.714286  45.800000  11.400000   \n",
      "7/10/14 20:26              39  1405023991  120.428571  45.814286  11.314286   \n",
      "7/10/14 20:27              44  1405024053  119.142857  45.857143  11.300000   \n",
      "7/10/14 20:28              47  1405024110  117.500000  45.900000  11.300000   \n",
      "7/10/14 20:29              44  1405024167  120.285714  45.900000  11.457143   \n",
      "\n",
      "                       Zenith Angle [degrees]  days from start  ref_o3_smooth  \\\n",
      "DATE (MM/DD/YYYY)_MST                                                           \n",
      "7/10/14 20:25                        99.48960                0             41   \n",
      "7/10/14 20:26                        99.63789                0             39   \n",
      "7/10/14 20:27                        99.78580                0             44   \n",
      "7/10/14 20:28                        99.93332                0             47   \n",
      "7/10/14 20:29                       100.08045                0             44   \n",
      "\n",
      "                       pod_o3_smooth  \n",
      "DATE (MM/DD/YYYY)_MST                 \n",
      "7/10/14 20:25             114.714286  \n",
      "7/10/14 20:26             120.428571  \n",
      "7/10/14 20:27             119.142857  \n",
      "7/10/14 20:28             117.500000  \n",
      "7/10/14 20:29             120.285714  \n"
     ]
    }
   ],
   "source": [
    "#df_P = pd.read_csv(filepath_or_buffer = 'D3_pre.csv', parse_dates = [[1,2]], index_col = False)  \n",
    "#df_P = df_P.set_index('YYYY/MM/DD_HH:MM:SS')\n",
    "#df_P.drop(df_P.columns[[0,2,3,4,5,6,9,10,11,12,15,16,17,18,19,20,21,22,23,24,25,26,27,28,29,30,31,32,33,34,35,36,37,38,39,40]], axis=1, inplace=True)\n",
    "df_P = pd.io.parsers.read_csv(filepath_or_buffer = 'data/D0_filt_10mino3.csv',index_col = 0)\n",
    "print df_P[:5]"
   ]
  },
  {
   "cell_type": "code",
   "execution_count": 3,
   "metadata": {
    "collapsed": false
   },
   "outputs": [
    {
     "name": "stdout",
     "output_type": "stream",
     "text": [
      "                       O3_ppb    UnixTime       e2v03       Temp         Rh  \\\n",
      "DATE (MM/DD/YYYY)_MST                                                         \n",
      "7/10/14 20:25              41  1405023930  114.714286  45.800000  11.400000   \n",
      "7/10/14 20:26              39  1405023991  120.428571  45.814286  11.314286   \n",
      "7/10/14 20:27              44  1405024053  119.142857  45.857143  11.300000   \n",
      "7/10/14 20:28              47  1405024110  117.500000  45.900000  11.300000   \n",
      "7/10/14 20:29              44  1405024167  120.285714  45.900000  11.457143   \n",
      "\n",
      "                       Zenith Angle [degrees]  days from start  \n",
      "DATE (MM/DD/YYYY)_MST                                           \n",
      "7/10/14 20:25                        99.48960                0  \n",
      "7/10/14 20:26                        99.63789                0  \n",
      "7/10/14 20:27                        99.78580                0  \n",
      "7/10/14 20:28                        99.93332                0  \n",
      "7/10/14 20:29                       100.08045                0  \n"
     ]
    }
   ],
   "source": [
    "df_P.drop(df_P.columns[[7,8]], axis=1, inplace=True)\n",
    "print df_P[:5]"
   ]
  },
  {
   "cell_type": "markdown",
   "metadata": {},
   "source": [
    "####Define the slope function."
   ]
  },
  {
   "cell_type": "code",
   "execution_count": 4,
   "metadata": {
    "collapsed": true
   },
   "outputs": [],
   "source": [
    "def find_mean_slope_over_time(df_P, int_min, data_col):\n",
    "    df_P['diff'] = df_P[data_col].diff()\n",
    "    \n",
    "    slope = []\n",
    "    for i in range(int_min,len(df_P['diff'])):\n",
    "        top = i-int_min\n",
    "        slope.append(df_P['diff'][top:i].mean())\n",
    "    \n",
    "    for i in range(0,int_min):\n",
    "        slope.insert(i, 'NaN')\n",
    "\n",
    "    return slope"
   ]
  },
  {
   "cell_type": "markdown",
   "metadata": {},
   "source": [
    "####Define functions that create features that represent the area under the temp and humidity curves."
   ]
  },
  {
   "cell_type": "code",
   "execution_count": 12,
   "metadata": {
    "collapsed": false
   },
   "outputs": [],
   "source": [
    "def make_time_integral_features(df_P,int_min, data_col):\n",
    "    area_curve = []\n",
    "\n",
    "    for i in range(int_min,len(df_P[data_col])):\n",
    "        top = i-int_min\n",
    "        area_curve.append(np.trapz(df_P[data_col][top:i]))\n",
    "    \n",
    "    for i in range(0,int_min):\n",
    "        area_curve.insert(i, 'NaN')\n",
    "    \n",
    "    return area_curve"
   ]
  },
  {
   "cell_type": "code",
   "execution_count": null,
   "metadata": {
    "collapsed": true
   },
   "outputs": [],
   "source": [
    "def make_lead_integral_features(df_P,int_min, data_col):\n",
    "    area_curve = []\n",
    "\n",
    "    for i in range(0,len(df_P[data_col])-int_min):\n",
    "        top = i+int_min\n",
    "        area_curve.append(np.trapz(df_P[data_col][i:top]))\n",
    "    \n",
    "    for i in range(int_min, len(df_P[data_col])):\n",
    "        area_curve.insert(i, 'NaN')\n",
    "    \n",
    "    return area_curve"
   ]
  },
  {
   "cell_type": "markdown",
   "metadata": {},
   "source": [
    "###Call the slope functions and add them to the dataframe."
   ]
  },
  {
   "cell_type": "code",
   "execution_count": 13,
   "metadata": {
    "collapsed": false
   },
   "outputs": [],
   "source": [
    "df_P['o3_slope_105'] = find_mean_slope_over_time(df_P, 105,'e2v03')\n",
    "df_P['o3_slope_98'] = find_mean_slope_over_time(df_P, 98,'e2v03')\n",
    "df_P['o3_slope_90'] = find_mean_slope_over_time(df_P, 90,'e2v03')\n",
    "df_P['o3_slope_83'] = find_mean_slope_over_time(df_P, 83,'e2v03')\n",
    "df_P['o3_slope_75'] = find_mean_slope_over_time(df_P, 75,'e2v03')\n",
    "df_P['o3_slope_68'] = find_mean_slope_over_time(df_P, 60,'e2v03')\n",
    "df_P['o3_slope_60'] = find_mean_slope_over_time(df_P, 60,'e2v03')\n",
    "df_P['o3_slope_53'] = find_mean_slope_over_time(df_P, 53,'e2v03')\n",
    "df_P['o3_slope_45'] = find_mean_slope_over_time(df_P, 45,'e2v03')\n",
    "df_P['o3_slope_38'] = find_mean_slope_over_time(df_P, 38,'e2v03')\n",
    "df_P['o3_slope_30'] = find_mean_slope_over_time(df_P, 30,'e2v03')\n",
    "df_P['o3_slope_23'] = find_mean_slope_over_time(df_P, 23,'e2v03')\n",
    "df_P['o3_slope_15'] = find_mean_slope_over_time(df_P, 15,'e2v03')\n",
    "df_P['o3_slope_10'] = find_mean_slope_over_time(df_P, 10,'e2v03')\n",
    "df_P['o3_slope_5'] = find_mean_slope_over_time(df_P, 5,'e2v03')\n",
    "\n",
    "df_P['temp_slope_90'] = find_mean_slope_over_time(df_P, 90,'Temp')\n",
    "df_P['temp_slope_75'] = find_mean_slope_over_time(df_P, 75,'Temp')\n",
    "df_P['temp_slope_60'] = find_mean_slope_over_time(df_P, 60,'Temp')\n",
    "df_P['temp_slope_45'] = find_mean_slope_over_time(df_P, 45,'Temp')\n",
    "df_P['temp_slope_30'] = find_mean_slope_over_time(df_P, 30,'Temp')\n",
    "df_P['temp_slope_15'] = find_mean_slope_over_time(df_P, 15,'Temp')\n",
    "df_P['temp_slope_5'] = find_mean_slope_over_time(df_P, 5,'Temp')\n",
    "\n",
    "df_P['rh_slope_90'] = find_mean_slope_over_time(df_P, 90,'Rh')\n",
    "df_P['rh_slope_75'] = find_mean_slope_over_time(df_P, 75,'Rh')\n",
    "df_P['rh_slope_60'] = find_mean_slope_over_time(df_P, 60,'Rh')\n",
    "df_P['rh_slope_45'] = find_mean_slope_over_time(df_P, 45,'Rh')\n",
    "df_P['rh_slope_30'] = find_mean_slope_over_time(df_P, 30,'Rh')\n",
    "df_P['rh_slope_15'] = find_mean_slope_over_time(df_P, 15,'Rh')\n",
    "df_P['rh_slope_5'] = find_mean_slope_over_time(df_P, 5,'Rh')"
   ]
  },
  {
   "cell_type": "markdown",
   "metadata": {},
   "source": [
    "###Call the integration functions and add them to the dataframe."
   ]
  },
  {
   "cell_type": "code",
   "execution_count": 14,
   "metadata": {
    "collapsed": false,
    "scrolled": true
   },
   "outputs": [],
   "source": [
    "#df_P['rh_int_105'] = make_time_integral_features(df_P,105,'Rh')\n",
    "df_P['rh_int_90'] = make_time_integral_features(df_P,90,'Rh')\n",
    "df_P['rh_int_75'] = make_time_integral_features(df_P,75,'Rh')\n",
    "df_P['rh_int_60'] = make_time_integral_features(df_P,60,'Rh')\n",
    "df_P['rh_int_45'] = make_time_integral_features(df_P,45,'Rh')\n",
    "df_P['rh_int_30'] = make_time_integral_features(df_P,30,'Rh')\n",
    "\n",
    "#df_P['temp_int_105'] = make_time_integral_features(df_P,105,'Temp')\n",
    "df_P['temp_int_90'] = make_time_integral_features(df_P,90,'Temp')\n",
    "df_P['temp_int_75'] = make_time_integral_features(df_P,75,'Temp')\n",
    "df_P['temp_int_60'] = make_time_integral_features(df_P,60,'Temp')\n",
    "df_P['temp_int_45'] = make_time_integral_features(df_P,45,'Temp')\n",
    "df_P['temp_int_30'] = make_time_integral_features(df_P,30,'Temp')\n",
    "\n",
    "df_P['o3_int_90'] = make_time_integral_features(df_P,90,'e2v03')\n",
    "df_P['o3_int_75'] = make_time_integral_features(df_P,75,'e2v03')\n",
    "df_P['o3_int_60'] = make_time_integral_features(df_P,60,'e2v03')\n",
    "df_P['o3_int_45'] = make_time_integral_features(df_P,45,'e2v03')\n",
    "df_P['o3_int_30'] = make_time_integral_features(df_P,30,'e2v03')"
   ]
  },
  {
   "cell_type": "code",
   "execution_count": 8,
   "metadata": {
    "collapsed": false
   },
   "outputs": [],
   "source": [
    "#Delete the first 90 rows of the dataframe to remove all NaNs.\n",
    "df_P = df_P.ix[105:]"
   ]
  },
  {
   "cell_type": "code",
   "execution_count": 9,
   "metadata": {
    "collapsed": false
   },
   "outputs": [],
   "source": [
    "#df_P.drop(df_P.columns[[9]], axis=1, inplace=True)\n",
    "#print df_P[:5]"
   ]
  },
  {
   "cell_type": "code",
   "execution_count": 10,
   "metadata": {
    "collapsed": false
   },
   "outputs": [
    {
     "name": "stdout",
     "output_type": "stream",
     "text": [
      "                       O3_ppb    UnixTime       e2v03       Temp         Rh  \\\n",
      "DATE (MM/DD/YYYY)_MST                                                         \n",
      "7/10/14 22:10              40  1405030229   97.666667  43.616667  11.650000   \n",
      "7/10/14 22:11              38  1405030286  103.000000  43.671429  11.528571   \n",
      "7/10/14 22:12              53  1405030348   97.142857  43.700000  11.442857   \n",
      "7/10/14 22:13              54  1405030409   92.142857  43.757143  11.400000   \n",
      "7/10/14 22:14              54  1405030470   90.857143  43.800000  11.400000   \n",
      "\n",
      "                       Zenith Angle [degrees]  days from start      diff  \\\n",
      "DATE (MM/DD/YYYY)_MST                                                      \n",
      "7/10/14 22:10                       112.46823                0  0.250000   \n",
      "7/10/14 22:11                       112.56154                0 -0.121429   \n",
      "7/10/14 22:12                       112.65418                0 -0.085714   \n",
      "7/10/14 22:13                       112.74614                0 -0.042857   \n",
      "7/10/14 22:14                       112.83742                0  0.000000   \n",
      "\n",
      "                      o3_slope_105 o3_slope_98           ...            \\\n",
      "DATE (MM/DD/YYYY)_MST                                    ...             \n",
      "7/10/14 22:10           -0.2513736  -0.2565598           ...             \n",
      "7/10/14 22:11           -0.1623583 -0.09815355           ...             \n",
      "7/10/14 22:12           -0.1659864 -0.02915452           ...             \n",
      "7/10/14 22:13           -0.2095238 -0.07847425           ...             \n",
      "7/10/14 22:14           -0.2414966  -0.1355685           ...             \n",
      "\n",
      "                      03_mult_rh_cu ln_03_mult_rh temp_mult_rh  \\\n",
      "DATE (MM/DD/YYYY)_MST                                            \n",
      "7/10/14 22:10          1.473048e+09      7.036867   508.134167   \n",
      "7/10/14 22:11          1.674319e+09      7.079557   503.469184   \n",
      "7/10/14 22:12          1.373523e+09      7.013548   500.052857   \n",
      "7/10/14 22:13          1.159043e+09      6.956954   498.831429   \n",
      "7/10/14 22:14          1.111199e+09      6.942902   499.320000   \n",
      "\n",
      "                      temp_mult_rh_sq temp_mult_rh_cu ln_temp_mult_rh  \\\n",
      "DATE (MM/DD/YYYY)_MST                                                   \n",
      "7/10/14 22:10           258200.331373    1.312004e+08        6.230746   \n",
      "7/10/14 22:11           253481.218955    1.276200e+08        6.221523   \n",
      "7/10/14 22:12           250052.859812    1.250396e+08        6.214714   \n",
      "7/10/14 22:13           248832.794163    1.241256e+08        6.212268   \n",
      "7/10/14 22:14           249320.462400    1.244907e+08        6.213247   \n",
      "\n",
      "                      03_mult_rh_&_temp 03_mult_rh_&_temp_sq  \\\n",
      "DATE (MM/DD/YYYY)_MST                                          \n",
      "7/10/14 22:10              49627.770283         2.462916e+09   \n",
      "7/10/14 22:11              51857.325923         2.689182e+09   \n",
      "7/10/14 22:12              48576.563252         2.359682e+09   \n",
      "7/10/14 22:13              45963.753063         2.112667e+09   \n",
      "7/10/14 22:14              45366.788573         2.058146e+09   \n",
      "\n",
      "                      03_mult_rh_&_temp_cu ln_03_mult_rh_&_temp_cu  \n",
      "DATE (MM/DD/YYYY)_MST                                               \n",
      "7/10/14 22:10                 1.222290e+14               32.436918  \n",
      "7/10/14 22:11                 1.394538e+14               32.568754  \n",
      "7/10/14 22:12                 1.146253e+14               32.372689  \n",
      "7/10/14 22:13                 9.710609e+13               32.206825  \n",
      "7/10/14 22:14                 9.337145e+13               32.167607  \n",
      "\n",
      "[5 rows x 92 columns]\n"
     ]
    }
   ],
   "source": [
    "#ozone terms\n",
    "df_P['O3_sq'] = df_P['e2v03']**2\n",
    "df_P['O3_cu'] = df_P['e2v03']**3\n",
    "df_P['ln_O3'] = np.log(df_P['e2v03'])\n",
    "df_P['ln_o3_int_90'] = np.log(df_P['o3_int_90'].astype(int))\n",
    "df_P['ln_o3_int_75'] = np.log(df_P['o3_int_75'].astype(int))\n",
    "df_P['ln_o3_int_60'] = np.log(df_P['o3_int_60'].astype(int))\n",
    "df_P['ln_o3_int_45'] = np.log(df_P['o3_int_45'].astype(int))\n",
    "df_P['ln_o3_int_30'] = np.log(df_P['o3_int_30'].astype(int))\n",
    "\n",
    "#temp terms\n",
    "df_P['temp_sq'] = df_P['Temp']**2\n",
    "df_P['temp_cu'] = df_P['Temp']**3\n",
    "df_P['ln_temp'] = np.log(df_P['Temp'])\n",
    "df_P['ln_temp_int_90'] = np.log(df_P['temp_int_90'].astype(int))\n",
    "df_P['ln_temp_int_75'] = np.log(df_P['temp_int_75'].astype(int))\n",
    "df_P['ln_temp_int_60'] = np.log(df_P['temp_int_60'].astype(int))\n",
    "df_P['ln_temp_int_45'] = np.log(df_P['temp_int_45'].astype(int))\n",
    "df_P['ln_temp_int_30'] = np.log(df_P['temp_int_30'].astype(int))\n",
    "\n",
    "#rh terms\n",
    "df_P['rh_sq'] = df_P['Rh']**2\n",
    "df_P['rh_cu'] = df_P['Rh']**3\n",
    "df_P['ln_rh'] = np.log(df_P['Rh'])\n",
    "df_P['ln_rh_int_90'] = np.log(df_P['rh_int_90'].astype(int))\n",
    "df_P['ln_rh_int_75'] = np.log(df_P['rh_int_75'].astype(int))\n",
    "df_P['ln_rh_int_60'] = np.log(df_P['rh_int_60'].astype(int))\n",
    "df_P['ln_rh_int_45'] = np.log(df_P['rh_int_45'].astype(int))\n",
    "df_P['ln_rh_int_30'] = np.log(df_P['rh_int_30'].astype(int))\n",
    "\n",
    "#ozone/temp interactions\n",
    "df_P['03_mult_temp'] = df_P['e2v03']*df_P['Temp']\n",
    "df_P['03_mult_temp_sq'] = (df_P['e2v03']*df_P['Temp'])**2\n",
    "df_P['03_mult_temp_cu'] = (df_P['e2v03']*df_P['Temp'])**3\n",
    "df_P['ln_03_mult_temp'] = np.log(df_P['03_mult_temp'])\n",
    "\n",
    "\n",
    "#ozone/rh interactions\n",
    "df_P['03_mult_rh'] = df_P['e2v03']*df_P['Rh']\n",
    "df_P['03_mult_rh_sq'] = (df_P['e2v03']*df_P['Rh'])**2\n",
    "df_P['03_mult_rh_cu'] = (df_P['e2v03']*df_P['Rh'])**3\n",
    "df_P['ln_03_mult_rh'] = np.log(df_P['03_mult_rh'])\n",
    "\n",
    "#temp/rh interactions\n",
    "df_P['temp_mult_rh'] = df_P['Temp']*df_P['Rh']\n",
    "df_P['temp_mult_rh_sq'] = (df_P['Temp']*df_P['Rh'])**2\n",
    "df_P['temp_mult_rh_cu'] = (df_P['Temp']*df_P['Rh'])**3\n",
    "df_P['ln_temp_mult_rh'] = np.log(df_P['temp_mult_rh'])\n",
    "\n",
    "\n",
    "#ozone/rh/temp interactions\n",
    "df_P['03_mult_rh_&_temp'] = df_P['e2v03']*df_P['Rh']*df_P['Temp']\n",
    "df_P['03_mult_rh_&_temp_sq'] = (df_P['e2v03']*df_P['Rh']*df_P['Temp'])**2\n",
    "df_P['03_mult_rh_&_temp_cu'] = (df_P['e2v03']*df_P['Rh']*df_P['Temp'])**3\n",
    "df_P['ln_03_mult_rh_&_temp_cu'] = np.log(df_P['03_mult_rh_&_temp_cu'])\n",
    "\n",
    "print df_P[:5]"
   ]
  },
  {
   "cell_type": "code",
   "execution_count": 11,
   "metadata": {
    "collapsed": false
   },
   "outputs": [],
   "source": [
    "df_P.to_csv(path_or_buf = 'data/D0_raw_features.csv')"
   ]
  },
  {
   "cell_type": "code",
   "execution_count": null,
   "metadata": {
    "collapsed": false
   },
   "outputs": [],
   "source": []
  }
 ],
 "metadata": {
  "kernelspec": {
   "display_name": "Python 2",
   "language": "python",
   "name": "python2"
  },
  "language_info": {
   "codemirror_mode": {
    "name": "ipython",
    "version": 2
   },
   "file_extension": ".py",
   "mimetype": "text/x-python",
   "name": "python",
   "nbconvert_exporter": "python",
   "pygments_lexer": "ipython2",
   "version": "2.7.9"
  }
 },
 "nbformat": 4,
 "nbformat_minor": 0
}
