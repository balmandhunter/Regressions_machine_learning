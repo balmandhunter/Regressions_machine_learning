{
 "cells": [
  {
   "cell_type": "code",
   "execution_count": 17,
   "metadata": {
    "collapsed": false
   },
   "outputs": [
    {
     "name": "stdout",
     "output_type": "stream",
     "text": [
      "The autoreload extension is already loaded. To reload it, use:\n",
      "  %reload_ext autoreload\n"
     ]
    }
   ],
   "source": [
    "import pandas as pd\n",
    "import matplotlib.pyplot as plt\n",
    "import seaborn as sns\n",
    "import numpy as np\n",
    "%matplotlib inline\n",
    "%load_ext autoreload\n",
    "%autoreload 2\n",
    "from creation_functions import *"
   ]
  },
  {
   "cell_type": "code",
   "execution_count": 18,
   "metadata": {
    "collapsed": false
   },
   "outputs": [
    {
     "name": "stdout",
     "output_type": "stream",
     "text": [
      "                       O3_ppb      UnixTime      e2v03       Temp         Rh  \\\n",
      "DATE (MM/DD/YYYY)_MST                                                          \n",
      "2014-07-13 02:51:00        39  1.405220e+09  80.666667  25.100000  53.866667   \n",
      "2014-07-13 02:52:00        40  1.405220e+09  80.000000  25.066667  53.833333   \n",
      "2014-07-13 02:53:00        40  1.405220e+09  79.750000  25.000000  53.925000   \n",
      "2014-07-13 02:54:00        39  1.405220e+09  80.333333  24.933333  54.000000   \n",
      "2014-07-13 02:55:00        38  1.405220e+09  80.000000  24.900000  54.033333   \n",
      "\n",
      "                       Zenith Angle [degrees]  days from start  ref_o3_smooth  \\\n",
      "DATE (MM/DD/YYYY)_MST                                                           \n",
      "2014-07-13 02:51:00                 107.47310                0             39   \n",
      "2014-07-13 02:52:00                 107.34985                0             40   \n",
      "2014-07-13 02:53:00                 107.22607                0             40   \n",
      "2014-07-13 02:54:00                 107.10176                0             39   \n",
      "2014-07-13 02:55:00                 106.97693                0             38   \n",
      "\n",
      "                       pod_o3_smooth  \n",
      "DATE (MM/DD/YYYY)_MST                 \n",
      "2014-07-13 02:51:00        80.666667  \n",
      "2014-07-13 02:52:00        80.000000  \n",
      "2014-07-13 02:53:00        79.750000  \n",
      "2014-07-13 02:54:00        80.333333  \n",
      "2014-07-13 02:55:00        80.000000  \n"
     ]
    }
   ],
   "source": [
    "df_P = pd.io.parsers.read_csv(filepath_or_buffer = 'data/D4_filt_10mino3.csv',index_col = 0)\n",
    "print df_P[:5]"
   ]
  },
  {
   "cell_type": "code",
   "execution_count": 19,
   "metadata": {
    "collapsed": false
   },
   "outputs": [
    {
     "name": "stdout",
     "output_type": "stream",
     "text": [
      "                           UnixTime       Temp         Rh  \\\n",
      "DATE (MM/DD/YYYY)_MST                                       \n",
      "2014-07-13 02:51:00    1.405220e+09  25.100000  53.866667   \n",
      "2014-07-13 02:52:00    1.405220e+09  25.066667  53.833333   \n",
      "2014-07-13 02:53:00    1.405220e+09  25.000000  53.925000   \n",
      "2014-07-13 02:54:00    1.405220e+09  24.933333  54.000000   \n",
      "2014-07-13 02:55:00    1.405220e+09  24.900000  54.033333   \n",
      "\n",
      "                       Zenith Angle [degrees]  days from start  ref_o3_smooth  \\\n",
      "DATE (MM/DD/YYYY)_MST                                                           \n",
      "2014-07-13 02:51:00                 107.47310                0             39   \n",
      "2014-07-13 02:52:00                 107.34985                0             40   \n",
      "2014-07-13 02:53:00                 107.22607                0             40   \n",
      "2014-07-13 02:54:00                 107.10176                0             39   \n",
      "2014-07-13 02:55:00                 106.97693                0             38   \n",
      "\n",
      "                       pod_o3_smooth  \n",
      "DATE (MM/DD/YYYY)_MST                 \n",
      "2014-07-13 02:51:00        80.666667  \n",
      "2014-07-13 02:52:00        80.000000  \n",
      "2014-07-13 02:53:00        79.750000  \n",
      "2014-07-13 02:54:00        80.333333  \n",
      "2014-07-13 02:55:00        80.000000  \n"
     ]
    }
   ],
   "source": [
    "df_P.drop(df_P.columns[[0,2]], axis=1, inplace=True)\n",
    "print df_P[:5]"
   ]
  },
  {
   "cell_type": "markdown",
   "metadata": {},
   "source": [
    "###Call the slope functions and add them to the dataframe."
   ]
  },
  {
   "cell_type": "code",
   "execution_count": 20,
   "metadata": {
    "collapsed": false
   },
   "outputs": [
    {
     "name": "stdout",
     "output_type": "stream",
     "text": [
      "['UnixTime', 'Temp', 'Rh', 'Zenith Angle [degrees]', 'days from start', 'ref_o3_smooth', 'pod_o3_smooth', 'O3_sqrt', 'O3_sq', 'O3_cu', 'ln_O3', 'temp_sqrt', 'temp_sq', 'temp_cu', 'ln_temp', 'rh_sqrt', 'rh_sq', 'rh_cu', 'ln_rh', '03_mult_temp', '03_sq_mult_temp_sq', 'ln_03_mult_ln_temp', '03_mult_rh', '03_sq_mult_rh_sq', 'ln_03_mult_ln_rh', 'temp_mult_rh', 'temp_sq_mult_rh_sq', 'ln_temp_mult_ln_rh', '03_mult_rh_&_temp', '03_sq_mult_rh_sq_&_temp_sq', 'ln_03_mult_ln_rh_&_ln_temp', 'pod_o3_smooth_int_lag_15', 'pod_o3_smooth_int_lag_30', 'pod_o3_smooth_int_lag_45', 'pod_o3_smooth_int_lag_60', 'pod_o3_smooth_int_lag_75', 'pod_o3_smooth_int_lag_90', 'pod_o3_smooth_int_lead_15', 'pod_o3_smooth_int_lead_30', 'pod_o3_smooth_int_lead_45', 'pod_o3_smooth_int_lead_60', 'pod_o3_smooth_int_lead_75', 'pod_o3_smooth_int_lead_90', 'diff', 'pod_o3_smooth_slope_lag_15', 'pod_o3_smooth_slope_lag_30', 'pod_o3_smooth_slope_lag_45', 'pod_o3_smooth_slope_lag_60', 'pod_o3_smooth_slope_lag_75', 'pod_o3_smooth_slope_lag_90', 'pod_o3_smooth_slope_lead_15', 'pod_o3_smooth_slope_lead_30', 'pod_o3_smooth_slope_lead_45', 'pod_o3_smooth_slope_lead_60', 'pod_o3_smooth_slope_lead_75', 'pod_o3_smooth_slope_lead_90', 'pod_o3_smooth_int_lag_5', 'pod_o3_smooth_int_lead_5', 'pod_o3_smooth_slope_lag_5', 'pod_o3_smooth_slope_lead_5', 'ln_O3_int_lag_15', 'ln_O3_int_lag_30', 'ln_O3_int_lag_45', 'ln_O3_int_lag_60', 'ln_O3_int_lag_75', 'ln_O3_int_lag_90', 'ln_O3_int_lead_15', 'ln_O3_int_lead_30', 'ln_O3_int_lead_45', 'ln_O3_int_lead_60', 'ln_O3_int_lead_75', 'ln_O3_int_lead_90', 'ln_O3_slope_lag_15', 'ln_O3_slope_lag_30', 'ln_O3_slope_lag_45', 'ln_O3_slope_lag_60', 'ln_O3_slope_lag_75', 'ln_O3_slope_lag_90', 'ln_O3_slope_lead_15', 'ln_O3_slope_lead_30', 'ln_O3_slope_lead_45', 'ln_O3_slope_lead_60', 'ln_O3_slope_lead_75', 'ln_O3_slope_lead_90', 'ln_O3_int_lag_5', 'ln_O3_int_lead_5', 'ln_O3_slope_lag_5', 'ln_O3_slope_lead_5', 'Temp_int_lag_15', 'Temp_int_lag_30', 'Temp_int_lag_45', 'Temp_int_lag_60', 'Temp_int_lag_75', 'Temp_int_lag_90', 'Temp_int_lead_15', 'Temp_int_lead_30', 'Temp_int_lead_45', 'Temp_int_lead_60', 'Temp_int_lead_75', 'Temp_int_lead_90', 'Temp_slope_lag_15', 'Temp_slope_lag_30', 'Temp_slope_lag_45', 'Temp_slope_lag_60', 'Temp_slope_lag_75', 'Temp_slope_lag_90', 'Temp_slope_lead_15', 'Temp_slope_lead_30', 'Temp_slope_lead_45', 'Temp_slope_lead_60', 'Temp_slope_lead_75', 'Temp_slope_lead_90', 'Temp_int_lag_5', 'Temp_int_lead_5', 'Temp_slope_lag_5', 'Temp_slope_lead_5', 'ln_temp_int_lag_15', 'ln_temp_int_lag_30', 'ln_temp_int_lag_45', 'ln_temp_int_lag_60', 'ln_temp_int_lag_75', 'ln_temp_int_lag_90', 'ln_temp_int_lead_15', 'ln_temp_int_lead_30', 'ln_temp_int_lead_45', 'ln_temp_int_lead_60', 'ln_temp_int_lead_75', 'ln_temp_int_lead_90', 'ln_temp_slope_lag_15', 'ln_temp_slope_lag_30', 'ln_temp_slope_lag_45', 'ln_temp_slope_lag_60', 'ln_temp_slope_lag_75', 'ln_temp_slope_lag_90', 'ln_temp_slope_lead_15', 'ln_temp_slope_lead_30', 'ln_temp_slope_lead_45', 'ln_temp_slope_lead_60', 'ln_temp_slope_lead_75', 'ln_temp_slope_lead_90', 'ln_temp_int_lag_5', 'ln_temp_int_lead_5', 'ln_temp_slope_lag_5', 'ln_temp_slope_lead_5', 'Rh_int_lag_15', 'Rh_int_lag_30', 'Rh_int_lag_45', 'Rh_int_lag_60', 'Rh_int_lag_75', 'Rh_int_lag_90', 'Rh_int_lead_15', 'Rh_int_lead_30', 'Rh_int_lead_45', 'Rh_int_lead_60', 'Rh_int_lead_75', 'Rh_int_lead_90', 'Rh_slope_lag_15', 'Rh_slope_lag_30', 'Rh_slope_lag_45', 'Rh_slope_lag_60', 'Rh_slope_lag_75', 'Rh_slope_lag_90', 'Rh_slope_lead_15', 'Rh_slope_lead_30', 'Rh_slope_lead_45', 'Rh_slope_lead_60', 'Rh_slope_lead_75', 'Rh_slope_lead_90', 'Rh_int_lag_5', 'Rh_int_lead_5', 'Rh_slope_lag_5', 'Rh_slope_lead_5', 'ln_rh_int_lag_15', 'ln_rh_int_lag_30', 'ln_rh_int_lag_45', 'ln_rh_int_lag_60', 'ln_rh_int_lag_75', 'ln_rh_int_lag_90', 'ln_rh_int_lead_15', 'ln_rh_int_lead_30', 'ln_rh_int_lead_45', 'ln_rh_int_lead_60', 'ln_rh_int_lead_75', 'ln_rh_int_lead_90', 'ln_rh_slope_lag_15', 'ln_rh_slope_lag_30', 'ln_rh_slope_lag_45', 'ln_rh_slope_lag_60', 'ln_rh_slope_lag_75', 'ln_rh_slope_lag_90', 'ln_rh_slope_lead_15', 'ln_rh_slope_lead_30', 'ln_rh_slope_lead_45', 'ln_rh_slope_lead_60', 'ln_rh_slope_lead_75', 'ln_rh_slope_lead_90', 'ln_rh_int_lag_5', 'ln_rh_int_lead_5', 'ln_rh_slope_lag_5', 'ln_rh_slope_lead_5']\n"
     ]
    }
   ],
   "source": [
    "#ozone terms\n",
    "df_P['O3_sqrt'] = np.sqrt(df_P['pod_o3_smooth'].astype(float))\n",
    "df_P['O3_sq'] = df_P['pod_o3_smooth']**2\n",
    "df_P['O3_cu'] = df_P['pod_o3_smooth']**3\n",
    "df_P['ln_O3'] = np.log(df_P['pod_o3_smooth'])\n",
    "\n",
    "#temp terms\n",
    "df_P['temp_sqrt'] = np.sqrt(df_P['Temp'].astype(float))\n",
    "df_P['temp_sq'] = df_P['Temp']**2\n",
    "df_P['temp_cu'] = df_P['Temp']**3\n",
    "df_P['ln_temp'] =np.log(df_P['Temp'])\n",
    "\n",
    "#rh terms\n",
    "df_P['rh_sqrt'] = np.sqrt(df_P['Rh'].astype(float))\n",
    "df_P['rh_sq'] = df_P['Rh']**2\n",
    "df_P['rh_cu'] = df_P['Rh']**3\n",
    "df_P['ln_rh'] = np.log(df_P['Rh'])\n",
    "\n",
    "#ozone/temp interactions\n",
    "df_P['03_mult_temp'] = df_P['pod_o3_smooth']*df_P['Temp']\n",
    "df_P['03_sq_mult_temp_sq'] = ((df_P['pod_o3_smooth'])**2)*df_P['Temp']**2\n",
    "df_P['ln_03_mult_ln_temp'] = np.log(df_P['Temp'])*np.log(df_P['pod_o3_smooth'])\n",
    "\n",
    "#ozone/rh interactions\n",
    "df_P['03_mult_rh'] = df_P['pod_o3_smooth']*df_P['Rh']\n",
    "df_P['03_sq_mult_rh_sq'] = (df_P['pod_o3_smooth']**2)*df_P['Rh']**2\n",
    "df_P['ln_03_mult_ln_rh'] = np.log(df_P['Rh'])*np.log(df_P['pod_o3_smooth'])\n",
    "\n",
    "#temp/rh interactions\n",
    "df_P['temp_mult_rh'] = df_P['Temp']*df_P['Rh']\n",
    "df_P['temp_sq_mult_rh_sq'] = (df_P['Temp']**2)*df_P['Rh']**2\n",
    "df_P['ln_temp_mult_ln_rh'] = np.log(df_P['Temp'])*np.log(df_P['Rh'])\n",
    "\n",
    "#ozone/rh/temp interactions\n",
    "df_P['03_mult_rh_&_temp'] = df_P['pod_o3_smooth']*df_P['Rh']*df_P['Temp']\n",
    "df_P['03_sq_mult_rh_sq_&_temp_sq'] = (df_P['pod_o3_smooth']**2)*(df_P['Rh']**2)*df_P['Temp']**2\n",
    "df_P['ln_03_mult_ln_rh_&_ln_temp'] = np.log(df_P['Temp'])*np.log(df_P['Rh'])*np.log(df_P['pod_o3_smooth'])\n",
    "\n",
    "feature_list = ['pod_o3_smooth', 'ln_O3', 'Temp', 'ln_temp', 'Rh', 'ln_rh']\n",
    "\n",
    "for i in range(0,len(feature_list)):\n",
    "    make_func_caller_find_lag_integral(df_P, 15, 90, 15, feature_list[i])\n",
    "    make_func_caller_find_lead_integral(df_P, 15, 90, 15, feature_list[i])\n",
    "    make_func_caller_find_lag_slope(df_P, 15, 90, 15, feature_list[i])\n",
    "    make_func_caller_find_lead_slope(df_P, 15, 90, 15, feature_list[i])\n",
    "    make_func_caller_find_lag_integral(df_P, 5, 5, 15, feature_list[i])\n",
    "    make_func_caller_find_lead_integral(df_P, 5, 5, 15, feature_list[i])\n",
    "    make_func_caller_find_lag_slope(df_P, 5, 5, 15, feature_list[i])\n",
    "    make_func_caller_find_lead_slope(df_P, 5, 5, 15, feature_list[i])\n",
    "\n",
    "features = list(df_P.columns)\n",
    "print features"
   ]
  },
  {
   "cell_type": "code",
   "execution_count": 21,
   "metadata": {
    "collapsed": true
   },
   "outputs": [],
   "source": [
    "#Delete the first and last 90 rows of the dataframe to remove all NaNs.\n",
    "df_P = df_P.ix[90:len(df_P['pod_o3_smooth'])-90]"
   ]
  },
  {
   "cell_type": "code",
   "execution_count": 22,
   "metadata": {
    "collapsed": false
   },
   "outputs": [],
   "source": [
    "#ozone/temp\n",
    "df_P['o3_temp_int_lag_30'] = df_P['pod_o3_smooth_int_lag_30'] * df_P['Temp_int_lag_30'] \n",
    "df_P['o3_temp_slope_lag_30'] = df_P['pod_o3_smooth_slope_lag_30'] * df_P['Temp_slope_lag_30']\n",
    "df_P['o3_temp_int_lag_60'] = df_P['pod_o3_smooth_int_lag_60'] * df_P['Temp_int_lag_60'] \n",
    "df_P['o3_temp_slope_lag_60'] = df_P['pod_o3_smooth_slope_lag_60'] * df_P['Temp_slope_lag_60'] \n",
    "df_P['o3_temp_int_lag_90'] = df_P['pod_o3_smooth_int_lag_90'] * df_P['Temp_int_lag_90'] \n",
    "df_P['o3_temp_slope_lag_90'] = df_P['pod_o3_smooth_slope_lag_90'] * df_P['Temp_slope_lag_90']\n",
    "df_P['o3_temp_int_lag_5'] = df_P['pod_o3_smooth_int_lag_5'] * df_P['Temp_int_lag_5'] \n",
    "df_P['o3_temp_slope_lag_5'] = df_P['pod_o3_smooth_slope_lag_5'] * df_P['Temp_slope_lag_5']\n",
    "\n",
    "df_P['ln_o3_temp_int_lag_30'] = df_P['ln_O3_int_lag_30'] * df_P['ln_temp_int_lag_30'] \n",
    "df_P['ln_o3_temp_slope_lag_30'] = df_P['ln_O3_slope_lag_30'] * df_P['ln_temp_slope_lag_30']\n",
    "df_P['ln_o3_temp_int_lag_60'] = df_P['ln_O3_int_lag_60'] * df_P['ln_temp_int_lag_60'] \n",
    "df_P['ln_o3_temp_slope_lag_60'] = df_P['ln_O3_slope_lag_60'] * df_P['ln_temp_slope_lag_60'] \n",
    "df_P['ln_o3_temp_int_lag_90'] = df_P['ln_O3_int_lag_90'] * df_P['ln_temp_int_lag_90'] \n",
    "df_P['ln_o3_temp_slope_lag_90'] = df_P['ln_O3_slope_lag_90'] * df_P['ln_temp_slope_lag_90']\n",
    "df_P['ln_o3_temp_int_lag_5'] = df_P['ln_O3_int_lag_5'] * df_P['ln_temp_int_lag_5'] \n",
    "df_P['ln_o3_temp_slope_lag_5'] = df_P['ln_O3_slope_lag_5'] * df_P['ln_temp_slope_lag_5']\n",
    "\n",
    "df_P['o3_temp_int_lead_30'] = df_P['pod_o3_smooth_int_lead_30'] * df_P['Temp_int_lead_30'] \n",
    "df_P['o3_temp_slope_lead_30'] = df_P['pod_o3_smooth_slope_lead_30'] * df_P['Temp_slope_lead_30'] \n",
    "df_P['o3_temp_int_lead_60'] = df_P['pod_o3_smooth_int_lead_60'] * df_P['Temp_int_lead_60'] \n",
    "df_P['o3_temp_slope_lead_60'] = df_P['pod_o3_smooth_slope_lead_60'] * df_P['Temp_slope_lead_60'] \n",
    "df_P['o3_temp_int_lead_90'] = df_P['pod_o3_smooth_int_lead_90'] * df_P['Temp_int_lead_90'] \n",
    "df_P['o3_temp_slope_lead_90'] = df_P['pod_o3_smooth_slope_lead_90'] * df_P['Temp_slope_lead_90']\n",
    "df_P['o3_temp_int_lead_5'] = df_P['pod_o3_smooth_int_lead_5'] * df_P['Temp_int_lead_5'] \n",
    "df_P['o3_temp_slope_lead_5'] = df_P['pod_o3_smooth_slope_lead_5'] * df_P['Temp_slope_lead_5']\n",
    "\n",
    "df_P['ln_o3_temp_int_lead_30'] = df_P['ln_O3_int_lead_30'] * df_P['ln_temp_int_lead_30'] \n",
    "df_P['ln_o3_temp_slope_lead_30'] = df_P['ln_O3_slope_lead_30'] * df_P['ln_temp_slope_lead_30'] \n",
    "df_P['ln_o3_temp_int_lead_60'] = df_P['ln_O3_int_lead_60'] * df_P['ln_temp_int_lead_60'] \n",
    "df_P['ln_o3_temp_slope_lead_60'] = df_P['ln_O3_slope_lead_60'] * df_P['ln_temp_slope_lead_60'] \n",
    "df_P['ln_o3_temp_int_lead_90'] = df_P['ln_O3_int_lead_90'] * df_P['ln_temp_int_lead_90'] \n",
    "df_P['ln_o3_temp_slope_lead_90'] = df_P['ln_O3_slope_lead_90'] * df_P['ln_temp_slope_lead_90']\n",
    "df_P['ln_o3_temp_int_lead_5'] = df_P['ln_O3_int_lead_5'] * df_P['ln_temp_int_lead_5'] \n",
    "df_P['ln_o3_temp_slope_lead_5'] = df_P['ln_O3_slope_lead_5'] * df_P['ln_temp_slope_lead_5']\n",
    "\n",
    "#temp/rh\n",
    "df_P['temp_rh_int_lag_30'] = df_P['Temp_int_lag_30'] * df_P['Rh_int_lag_30'] \n",
    "df_P['temp_rh_slope_lag_30'] = df_P['Temp_slope_lag_30'] * df_P['Rh_slope_lag_30'] \n",
    "df_P['temp_rh_int_lag_60'] = df_P['Temp_int_lag_60'] * df_P['Rh_int_lag_60'] \n",
    "df_P['temp_rh_slope_lag_60'] = df_P['Temp_slope_lag_60'] * df_P['Rh_slope_lag_60'] \n",
    "df_P['temp_rh_int_lag_90'] = df_P['Temp_int_lag_90'] * df_P['Rh_int_lag_90'] \n",
    "df_P['temp_rh_slope_lag_90'] = df_P['Temp_slope_lag_90'] * df_P['Rh_slope_lag_90'] \n",
    "df_P['temp_rh_int_lag_5'] = df_P['Temp_int_lag_5'] * df_P['Rh_int_lag_5'] \n",
    "df_P['temp_rh_slope_lag_5'] = df_P['Temp_slope_lag_5'] * df_P['Rh_slope_lag_5']\n",
    "\n",
    "df_P['ln_temp_rh_int_lag_30'] = df_P['ln_temp_int_lag_30'] * df_P['ln_rh_int_lag_30'] \n",
    "df_P['ln_temp_rh_slope_lag_30'] = df_P['ln_temp_slope_lag_30'] * df_P['ln_rh_slope_lag_30'] \n",
    "df_P['ln_temp_rh_int_lag_60'] = df_P['ln_temp_int_lag_60'] * df_P['ln_rh_int_lag_60'] \n",
    "df_P['ln_temp_rh_slope_lag_60'] = df_P['ln_temp_slope_lag_60'] * df_P['ln_rh_slope_lag_60'] \n",
    "df_P['ln_temp_rh_int_lag_90'] = df_P['ln_temp_int_lag_90'] * df_P['ln_rh_int_lag_90'] \n",
    "df_P['ln_temp_rh_slope_lag_90'] = df_P['ln_temp_slope_lag_90'] * df_P['ln_rh_slope_lag_90'] \n",
    "df_P['ln_temp_rh_int_lag_5'] = df_P['ln_temp_int_lag_5'] * df_P['ln_rh_int_lag_5'] \n",
    "df_P['ln_temp_rh_slope_lag_5'] = df_P['ln_temp_slope_lag_5'] * df_P['ln_rh_slope_lag_5']\n",
    "\n",
    "df_P['temp_rh_int_lead_30'] = df_P['Temp_int_lead_30'] * df_P['Rh_int_lead_30'] \n",
    "df_P['temp_rh_slope_lead_30'] = df_P['Temp_slope_lead_30'] * df_P['Rh_slope_lead_30'] \n",
    "df_P['temp_rh_int_lead_60'] = df_P['Temp_int_lead_60'] * df_P['Rh_int_lead_60'] \n",
    "df_P['temp_rh_slope_lead_60'] = df_P['Temp_slope_lead_60'] * df_P['Rh_slope_lead_60'] \n",
    "df_P['temp_rh_int_lead_90'] = df_P['Temp_int_lead_90'] * df_P['Rh_int_lead_90'] \n",
    "df_P['temp_rh_slope_lead_90'] = df_P['Temp_slope_lead_90'] * df_P['Rh_slope_lead_90']\n",
    "df_P['temp_rh_int_lead_5'] = df_P['Temp_int_lead_5'] * df_P['Rh_int_lead_5'] \n",
    "df_P['temp_rh_slope_lead_5'] = df_P['Temp_slope_lead_5'] * df_P['Rh_slope_lead_5']\n",
    "\n",
    "df_P['ln_temp_rh_int_lead_30'] = df_P['ln_temp_int_lead_30'] * df_P['ln_rh_int_lead_30'] \n",
    "df_P['ln_temp_rh_slope_lead_30'] = df_P['ln_temp_slope_lead_30'] * df_P['ln_rh_slope_lead_30'] \n",
    "df_P['ln_temp_rh_int_lead_60'] = df_P['ln_temp_int_lead_60'] * df_P['ln_rh_int_lead_60'] \n",
    "df_P['ln_temp_rh_slope_lead_60'] = df_P['ln_temp_slope_lead_60'] * df_P['ln_rh_slope_lead_60'] \n",
    "df_P['ln_temp_rh_int_lead_90'] = df_P['ln_temp_int_lead_90'] * df_P['ln_rh_int_lead_90'] \n",
    "df_P['ln_temp_rh_slope_lead_5'] = df_P['ln_temp_slope_lead_5'] * df_P['ln_rh_slope_lead_5']\n",
    "df_P['ln_temp_rh_int_lead_5'] = df_P['ln_temp_slope_lead_5'] * df_P['ln_rh_slope_lead_5']\n",
    "\n",
    "#ozone/rh\n",
    "df_P['o3_rh_int_lag_30'] = df_P['pod_o3_smooth_int_lag_30'] * df_P['Rh_int_lag_30'] \n",
    "df_P['o3_rh_slope_lag_30'] = df_P['pod_o3_smooth_slope_lag_30'] * df_P['Rh_slope_lag_30'] \n",
    "df_P['o3_rh_int_lag_60'] = df_P['pod_o3_smooth_int_lag_60'] * df_P['Rh_int_lag_60'] \n",
    "df_P['o3_rh_slope_lag_60'] = df_P['pod_o3_smooth_slope_lag_60'] * df_P['Rh_slope_lag_60'] \n",
    "df_P['o3_rh_int_lag_90'] = df_P['pod_o3_smooth_int_lag_90'] * df_P['Rh_int_lag_90'] \n",
    "df_P['o3_rh_slope_lag_90'] = df_P['pod_o3_smooth_slope_lag_90'] * df_P['Rh_slope_lag_90'] \n",
    "df_P['o3_rh_int_lag_5'] = df_P['pod_o3_smooth_int_lag_5'] * df_P['Rh_int_lag_5'] \n",
    "df_P['o3_rh_slope_lag_5'] = df_P['pod_o3_smooth_slope_lag_5'] * df_P['Rh_slope_lag_5'] \n",
    "\n",
    "df_P['ln_o3_rh_int_lag_30'] = df_P['ln_O3_int_lag_30'] * df_P['ln_rh_int_lag_30'] \n",
    "df_P['ln_o3_rh_slope_lag_30'] = df_P['ln_O3_slope_lag_30'] * df_P['ln_rh_slope_lag_30'] \n",
    "df_P['ln_o3_rh_int_lag_60'] = df_P['ln_O3_int_lag_60'] * df_P['ln_rh_int_lag_60'] \n",
    "df_P['ln_o3_rh_slope_lag_60'] = df_P['ln_O3_slope_lag_60'] * df_P['ln_rh_slope_lag_60'] \n",
    "df_P['ln_o3_rh_int_lag_90'] = df_P['ln_O3_int_lag_90'] * df_P['ln_rh_int_lag_90'] \n",
    "df_P['ln_o3_rh_slope_lag_90'] = df_P['ln_O3_slope_lag_90'] * df_P['ln_rh_slope_lag_90'] \n",
    "df_P['ln_o3_rh_int_lag_5'] = df_P['ln_O3_int_lag_5'] * df_P['ln_rh_int_lag_5'] \n",
    "df_P['ln_o3_rh_slope_lag_5'] = df_P['ln_O3_slope_lag_5'] * df_P['ln_rh_slope_lag_5'] \n",
    "\n",
    "df_P['o3_rh_int_lead_30'] = df_P['pod_o3_smooth_int_lead_30'] * df_P['Rh_int_lead_30'] \n",
    "df_P['o3_rh_slope_lead_30'] = df_P['pod_o3_smooth_slope_lead_30'] * df_P['Rh_slope_lead_30'] \n",
    "df_P['o3_rh_int_lead_60'] = df_P['pod_o3_smooth_int_lead_60'] * df_P['Rh_int_lead_60'] \n",
    "df_P['o3_rh_slope_lead_60'] = df_P['pod_o3_smooth_slope_lead_60'] * df_P['Rh_slope_lead_60'] \n",
    "df_P['o3_rh_int_lead_90'] = df_P['pod_o3_smooth_int_lead_90'] * df_P['Rh_int_lead_90'] \n",
    "df_P['o3_rh_slope_lead_90'] = df_P['pod_o3_smooth_slope_lead_90'] * df_P['Rh_slope_lead_90']\n",
    "df_P['o3_rh_int_lead_5'] = df_P['pod_o3_smooth_int_lead_5'] * df_P['Rh_int_lead_5'] \n",
    "df_P['o3_rh_slope_lead_5'] = df_P['pod_o3_smooth_slope_lead_5'] * df_P['Rh_slope_lead_5']\n",
    "\n",
    "df_P['ln_o3_rh_int_lead_30'] = df_P['ln_O3_int_lead_30'] * df_P['ln_rh_int_lead_30'] \n",
    "df_P['ln_o3_rh_slope_lead_30'] = df_P['ln_O3_slope_lead_30'] * df_P['ln_rh_slope_lead_30'] \n",
    "df_P['ln_o3_rh_int_lead_60'] = df_P['ln_O3_int_lead_60'] * df_P['ln_rh_int_lead_60'] \n",
    "df_P['ln_o3_rh_slope_lead_60'] = df_P['ln_O3_slope_lead_60'] * df_P['ln_rh_slope_lead_60'] \n",
    "df_P['ln_o3_rh_int_lead_90'] = df_P['ln_O3_int_lead_90'] * df_P['ln_rh_int_lead_90'] \n",
    "df_P['ln_o3_rh_slope_lead_90'] = df_P['ln_O3_slope_lead_90'] * df_P['ln_rh_slope_lead_90']\n",
    "df_P['ln_o3_rh_int_lead_5'] = df_P['ln_O3_int_lead_5'] * df_P['ln_rh_int_lead_5'] \n",
    "df_P['ln_o3_rh_slope_lead_5'] = df_P['ln_O3_slope_lead_5'] * df_P['ln_rh_slope_lead_5']\n",
    "\n",
    "#ozone/temp/rh\n",
    "df_P['o3_temp_rh_int_lag_30'] = df_P['Temp_int_lag_30'] * df_P['Rh_int_lag_30']*df_P['pod_o3_smooth_int_lag_30'] \n",
    "df_P['o3_temp_rh_slope_lag_30'] = df_P['Temp_slope_lag_30'] * df_P['Rh_slope_lag_30'] * df_P['pod_o3_smooth_slope_lag_30'] \n",
    "df_P['o3_temp_rh_int_lag_60'] = df_P['Temp_int_lag_60'] * df_P['Rh_int_lag_60']*df_P['pod_o3_smooth_int_lag_60'] \n",
    "df_P['o3_temp_rh_slope_lag_60'] = df_P['Temp_slope_lag_60'] * df_P['Rh_slope_lag_60'] * df_P['pod_o3_smooth_slope_lag_60'] \n",
    "df_P['o3_temp_rh_int_lag_90'] = df_P['Temp_int_lag_90'] * df_P['Rh_int_lag_90'] * df_P['pod_o3_smooth_int_lag_90']\n",
    "df_P['o3_temp_rh_slope_lag_90'] = df_P['Temp_slope_lag_90'] * df_P['Rh_slope_lag_90'] * df_P['pod_o3_smooth_slope_lag_90'] \n",
    "df_P['o3_temp_rh_int_lag_5'] = df_P['Temp_int_lag_5'] * df_P['Rh_int_lag_5'] * df_P['pod_o3_smooth_int_lag_5']\n",
    "df_P['o3_temp_rh_slope_lag_5'] = df_P['Temp_slope_lag_5'] * df_P['Rh_slope_lag_5'] * df_P['pod_o3_smooth_slope_lag_5'] \n",
    "\n",
    "df_P['ln_o3_temp_rh_int_lag_30'] = df_P['ln_temp_int_lag_30'] * df_P['ln_rh_int_lag_30']*df_P['ln_O3_int_lag_30'] \n",
    "df_P['ln_o3_temp_rh_slope_lag_30'] = df_P['ln_temp_slope_lag_30'] * df_P['ln_rh_slope_lag_30'] * df_P['ln_O3_slope_lag_30'] \n",
    "df_P['ln_o3_temp_rh_int_lag_60'] = df_P['ln_temp_int_lag_60'] * df_P['ln_rh_int_lag_60']*df_P['ln_O3_int_lag_60'] \n",
    "df_P['ln_o3_temp_rh_slope_lag_60'] = df_P['ln_temp_slope_lag_60'] * df_P['ln_rh_slope_lag_60'] * df_P['ln_O3_slope_lag_60'] \n",
    "df_P['ln_o3_temp_rh_int_lag_90'] = df_P['ln_temp_int_lag_90'] * df_P['ln_rh_int_lag_90'] * df_P['ln_O3_int_lag_90']\n",
    "df_P['ln_o3_temp_rh_slope_lag_90'] = df_P['ln_temp_slope_lag_90'] * df_P['ln_rh_slope_lag_90'] * df_P['ln_O3_slope_lag_90'] \n",
    "df_P['ln_o3_temp_rh_int_lag_5'] = df_P['ln_temp_int_lag_5'] * df_P['ln_rh_int_lag_5'] * df_P['ln_O3_int_lag_5']\n",
    "df_P['ln_o3_temp_rh_slope_lag_5'] = df_P['ln_temp_slope_lag_5'] * df_P['ln_rh_slope_lag_5'] * df_P['ln_O3_slope_lag_5'] \n",
    "\n",
    "df_P['o3_temp_rh_int_lead_30'] = df_P['Temp_int_lead_30'] * df_P['Rh_int_lead_30'] * df_P['pod_o3_smooth_int_lead_30'] \n",
    "df_P['o3_temp_rh_slope_lead_30'] = df_P['Temp_slope_lead_30'] * df_P['Rh_slope_lead_30'] * df_P['pod_o3_smooth_slope_lead_30']\n",
    "df_P['o3_temp_rh_int_lead_60'] = df_P['Temp_int_lead_60'] * df_P['Rh_int_lead_60'] * df_P['pod_o3_smooth_int_lead_60'] \n",
    "df_P['o3_temp_rh_slope_lead_60'] = df_P['Temp_slope_lead_60'] * df_P['Rh_slope_lead_60'] * df_P['pod_o3_smooth_slope_lead_60'] \n",
    "df_P['o3_temp_rh_int_lead_90'] = df_P['Temp_int_lead_90'] * df_P['Rh_int_lead_90'] * df_P['pod_o3_smooth_int_lead_90']\n",
    "df_P['o3_temp_rh_slope_lead_90'] = df_P['Temp_slope_lead_90'] * df_P['Rh_slope_lead_90'] * df_P['pod_o3_smooth_slope_lead_90']\n",
    "df_P['o3_temp_rh_int_lead_5'] = df_P['Temp_int_lead_5'] * df_P['Rh_int_lead_5'] * df_P['pod_o3_smooth_int_lead_5']\n",
    "df_P['o3_temp_rh_slope_lead_5'] = df_P['Temp_slope_lead_5'] * df_P['Rh_slope_lead_5'] * df_P['pod_o3_smooth_slope_lead_5']\n",
    "\n",
    "df_P['ln_o3_temp_rh_int_lead_30'] = df_P['ln_temp_int_lead_30'] * df_P['ln_rh_int_lead_30'] * df_P['ln_O3_int_lead_30'] \n",
    "df_P['ln_o3_temp_rh_slope_lead_30'] = df_P['ln_temp_slope_lead_30'] * df_P['ln_rh_slope_lead_30'] * df_P['ln_O3_slope_lead_30']\n",
    "df_P['ln_o3_temp_rh_int_lead_60'] = df_P['ln_temp_int_lead_60'] * df_P['ln_rh_int_lead_60'] * df_P['ln_O3_int_lead_60'] \n",
    "df_P['ln_o3_temp_rh_slope_lead_60'] = df_P['ln_temp_slope_lead_60'] * df_P['ln_rh_slope_lead_60'] * df_P['ln_O3_slope_lead_60']\n",
    "df_P['ln_o3_temp_rh_int_lead_90'] = df_P['ln_temp_int_lead_90'] * df_P['ln_rh_int_lead_90'] * df_P['ln_O3_int_lead_90']\n",
    "df_P['ln_o3_temp_rh_slope_lead_90'] = df_P['ln_temp_slope_lead_90'] * df_P['ln_rh_slope_lead_90'] * df_P['ln_O3_slope_lead_90']\n",
    "df_P['ln_o3_temp_rh_int_lead_5'] = df_P['ln_temp_int_lead_5'] * df_P['ln_rh_int_lead_5'] * df_P['ln_O3_int_lead_5']\n",
    "df_P['ln_o3_temp_rh_slope_lead_5'] = df_P['ln_temp_slope_lead_5'] * df_P['ln_rh_slope_lead_5'] * df_P['ln_O3_slope_lead_5']"
   ]
  },
  {
   "cell_type": "markdown",
   "metadata": {},
   "source": [
    "##Save to a file. "
   ]
  },
  {
   "cell_type": "code",
   "execution_count": 23,
   "metadata": {
    "collapsed": false
   },
   "outputs": [],
   "source": [
    "df_P.to_csv(path_or_buf = 'data/D4_smooth_features.csv')"
   ]
  },
  {
   "cell_type": "code",
   "execution_count": null,
   "metadata": {
    "collapsed": false
   },
   "outputs": [],
   "source": []
  }
 ],
 "metadata": {
  "kernelspec": {
   "display_name": "Python 2",
   "language": "python",
   "name": "python2"
  },
  "language_info": {
   "codemirror_mode": {
    "name": "ipython",
    "version": 2
   },
   "file_extension": ".py",
   "mimetype": "text/x-python",
   "name": "python",
   "nbconvert_exporter": "python",
   "pygments_lexer": "ipython2",
   "version": "2.7.10"
  }
 },
 "nbformat": 4,
 "nbformat_minor": 0
}
