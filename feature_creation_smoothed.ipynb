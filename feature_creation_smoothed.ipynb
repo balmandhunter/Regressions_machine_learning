{
 "cells": [
  {
   "cell_type": "code",
   "execution_count": 10,
   "metadata": {
    "collapsed": false
   },
   "outputs": [],
   "source": [
    "import pandas as pd\n",
    "import matplotlib.pyplot as plt\n",
    "import seaborn as sns\n",
    "import numpy as np\n",
    "%matplotlib inline"
   ]
  },
  {
   "cell_type": "code",
   "execution_count": 11,
   "metadata": {
    "collapsed": false
   },
   "outputs": [
    {
     "name": "stdout",
     "output_type": "stream",
     "text": [
      "                       O3_ppb      UnixTime       e2v03       Temp         Rh  \\\n",
      "DATE (MM/DD/YYYY)_MST                                                           \n",
      "2014-07-10 20:25:00        41  1.405024e+09  114.714286  45.800000  11.400000   \n",
      "2014-07-10 20:26:00        39  1.405024e+09  120.428571  45.814286  11.314286   \n",
      "2014-07-10 20:27:00        44  1.405024e+09  119.142857  45.857143  11.300000   \n",
      "2014-07-10 20:28:00        47  1.405024e+09  117.500000  45.900000  11.300000   \n",
      "2014-07-10 20:29:00        44  1.405024e+09  120.285714  45.900000  11.457143   \n",
      "\n",
      "                       Zenith Angle [degrees]  days from start  ref_o3_smooth  \\\n",
      "DATE (MM/DD/YYYY)_MST                                                           \n",
      "2014-07-10 20:25:00                  99.48960                0             41   \n",
      "2014-07-10 20:26:00                  99.63789                0             39   \n",
      "2014-07-10 20:27:00                  99.78580                0             44   \n",
      "2014-07-10 20:28:00                  99.93332                0             47   \n",
      "2014-07-10 20:29:00                 100.08045                0             44   \n",
      "\n",
      "                       pod_o3_smooth  \n",
      "DATE (MM/DD/YYYY)_MST                 \n",
      "2014-07-10 20:25:00       114.714286  \n",
      "2014-07-10 20:26:00       120.428571  \n",
      "2014-07-10 20:27:00       119.142857  \n",
      "2014-07-10 20:28:00       117.500000  \n",
      "2014-07-10 20:29:00       120.285714  \n"
     ]
    }
   ],
   "source": [
    "#df_P = pd.read_csv(filepath_or_buffer = 'D3_pre.csv', parse_dates = [[1,2]], index_col = False)  \n",
    "#df_P = df_P.set_index('YYYY/MM/DD_HH:MM:SS')\n",
    "#df_P.drop(df_P.columns[[0,2,3,4,5,6,9,10,11,12,15,16,17,18,19,20,21,22,23,24,25,26,27,28,29,30,31,32,33,34,35,36,37,38,39,40]], axis=1, inplace=True)\n",
    "df_P = pd.io.parsers.read_csv(filepath_or_buffer = 'D0_filt_10mino3.csv',index_col = 0)\n",
    "print df_P[:5]"
   ]
  },
  {
   "cell_type": "code",
   "execution_count": 12,
   "metadata": {
    "collapsed": false
   },
   "outputs": [
    {
     "name": "stdout",
     "output_type": "stream",
     "text": [
      "                           UnixTime       Temp         Rh  \\\n",
      "DATE (MM/DD/YYYY)_MST                                       \n",
      "2014-07-10 20:25:00    1.405024e+09  45.800000  11.400000   \n",
      "2014-07-10 20:26:00    1.405024e+09  45.814286  11.314286   \n",
      "2014-07-10 20:27:00    1.405024e+09  45.857143  11.300000   \n",
      "2014-07-10 20:28:00    1.405024e+09  45.900000  11.300000   \n",
      "2014-07-10 20:29:00    1.405024e+09  45.900000  11.457143   \n",
      "\n",
      "                       Zenith Angle [degrees]  days from start  ref_o3_smooth  \\\n",
      "DATE (MM/DD/YYYY)_MST                                                           \n",
      "2014-07-10 20:25:00                  99.48960                0             41   \n",
      "2014-07-10 20:26:00                  99.63789                0             39   \n",
      "2014-07-10 20:27:00                  99.78580                0             44   \n",
      "2014-07-10 20:28:00                  99.93332                0             47   \n",
      "2014-07-10 20:29:00                 100.08045                0             44   \n",
      "\n",
      "                       pod_o3_smooth  \n",
      "DATE (MM/DD/YYYY)_MST                 \n",
      "2014-07-10 20:25:00       114.714286  \n",
      "2014-07-10 20:26:00       120.428571  \n",
      "2014-07-10 20:27:00       119.142857  \n",
      "2014-07-10 20:28:00       117.500000  \n",
      "2014-07-10 20:29:00       120.285714  \n"
     ]
    }
   ],
   "source": [
    "df_P.drop(df_P.columns[[0,2]], axis=1, inplace=True)\n",
    "print df_P[:5]"
   ]
  },
  {
   "cell_type": "markdown",
   "metadata": {},
   "source": [
    "####Define the slope function."
   ]
  },
  {
   "cell_type": "code",
   "execution_count": 13,
   "metadata": {
    "collapsed": true
   },
   "outputs": [],
   "source": [
    "def find_mean_slope_over_time(df_P, int_min, data_col):\n",
    "    df_P['diff'] = df_P[data_col].diff()\n",
    "    \n",
    "    slope = []\n",
    "    for i in range(int_min,len(df_P['diff'])):\n",
    "        top = i-int_min\n",
    "        slope.append(df_P['diff'][top:i].mean())\n",
    "    \n",
    "    for i in range(0,int_min):\n",
    "        slope.insert(i, 'NaN')\n",
    "\n",
    "    return slope"
   ]
  },
  {
   "cell_type": "markdown",
   "metadata": {},
   "source": [
    "####Define functions that create features that represent the area under the temp and humidity curves."
   ]
  },
  {
   "cell_type": "code",
   "execution_count": 14,
   "metadata": {
    "collapsed": false
   },
   "outputs": [],
   "source": [
    "def make_time_integral_features(df_P,int_min, data_col):\n",
    "    int_min = 90\n",
    "    area_curve = []\n",
    "\n",
    "    for i in range(int_min,len(df_P[data_col])):\n",
    "        top = i-int_min\n",
    "        area_curve.append(np.trapz(df_P[data_col][top:i]))\n",
    "    \n",
    "    for i in range(0,int_min):\n",
    "        area_curve.insert(i, 'NaN')\n",
    "    \n",
    "    return area_curve"
   ]
  },
  {
   "cell_type": "markdown",
   "metadata": {},
   "source": [
    "###Call the slope functions and add them to the dataframe."
   ]
  },
  {
   "cell_type": "code",
   "execution_count": 15,
   "metadata": {
    "collapsed": false
   },
   "outputs": [],
   "source": [
    "df_P['o3_slope_90'] = find_mean_slope_over_time(df_P, 90,'pod_o3_smooth')\n",
    "df_P['o3_slope_75'] = find_mean_slope_over_time(df_P, 75,'pod_o3_smooth')\n",
    "df_P['o3_slope_60'] = find_mean_slope_over_time(df_P, 60,'pod_o3_smooth')\n",
    "df_P['o3_slope_45'] = find_mean_slope_over_time(df_P, 45,'pod_o3_smooth')\n",
    "df_P['o3_slope_30'] = find_mean_slope_over_time(df_P, 30,'pod_o3_smooth')\n",
    "df_P['o3_slope_15'] = find_mean_slope_over_time(df_P, 15,'pod_o3_smooth')\n",
    "df_P['o3_slope_5'] = find_mean_slope_over_time(df_P, 5,'pod_o3_smooth')\n",
    "\n",
    "df_P['temp_slope_90'] = find_mean_slope_over_time(df_P, 90,'Temp')\n",
    "df_P['temp_slope_75'] = find_mean_slope_over_time(df_P, 75,'Temp')\n",
    "df_P['temp_slope_60'] = find_mean_slope_over_time(df_P, 60,'Temp')\n",
    "df_P['temp_slope_45'] = find_mean_slope_over_time(df_P, 45,'Temp')\n",
    "df_P['temp_slope_30'] = find_mean_slope_over_time(df_P, 30,'Temp')\n",
    "df_P['temp_slope_15'] = find_mean_slope_over_time(df_P, 15,'Temp')\n",
    "df_P['temp_slope_5'] = find_mean_slope_over_time(df_P, 5,'Temp')\n",
    "\n",
    "df_P['rh_slope_90'] = find_mean_slope_over_time(df_P, 90,'Rh')\n",
    "df_P['rh_slope_75'] = find_mean_slope_over_time(df_P, 75,'Rh')\n",
    "df_P['rh_slope_60'] = find_mean_slope_over_time(df_P, 60,'Rh')\n",
    "df_P['rh_slope_45'] = find_mean_slope_over_time(df_P, 45,'Rh')\n",
    "df_P['rh_slope_30'] = find_mean_slope_over_time(df_P, 30,'Rh')\n",
    "df_P['rh_slope_15'] = find_mean_slope_over_time(df_P, 15,'Rh')\n",
    "df_P['rh_slope_5'] = find_mean_slope_over_time(df_P, 5,'Rh')"
   ]
  },
  {
   "cell_type": "markdown",
   "metadata": {},
   "source": [
    "###Call the integration functions and add them to the dataframe."
   ]
  },
  {
   "cell_type": "code",
   "execution_count": 16,
   "metadata": {
    "collapsed": false,
    "scrolled": true
   },
   "outputs": [],
   "source": [
    "#df_P['rh_int_105'] = make_time_integral_features(df_P,105,'Rh')\n",
    "df_P['rh_int_90'] = make_time_integral_features(df_P,90,'Rh')\n",
    "df_P['rh_int_75'] = make_time_integral_features(df_P,75,'Rh')\n",
    "df_P['rh_int_60'] = make_time_integral_features(df_P,60,'Rh')\n",
    "df_P['rh_int_45'] = make_time_integral_features(df_P,45,'Rh')\n",
    "df_P['rh_int_30'] = make_time_integral_features(df_P,30,'Rh')\n",
    "\n",
    "#df_P['temp_int_105'] = make_time_integral_features(df_P,105,'Temp')\n",
    "df_P['temp_int_90'] = make_time_integral_features(df_P,90,'Temp')\n",
    "df_P['temp_int_75'] = make_time_integral_features(df_P,75,'Temp')\n",
    "df_P['temp_int_60'] = make_time_integral_features(df_P,60,'Temp')\n",
    "df_P['temp_int_45'] = make_time_integral_features(df_P,45,'Temp')\n",
    "df_P['temp_int_30'] = make_time_integral_features(df_P,30,'Temp')\n",
    "\n",
    "df_P['o3_int_90'] = make_time_integral_features(df_P,90,'pod_o3_smooth')\n",
    "df_P['o3_int_75'] = make_time_integral_features(df_P,75,'pod_o3_smooth')\n",
    "df_P['o3_int_60'] = make_time_integral_features(df_P,60,'pod_o3_smooth')\n",
    "df_P['o3_int_45'] = make_time_integral_features(df_P,45,'pod_o3_smooth')\n",
    "df_P['o3_int_30'] = make_time_integral_features(df_P,30,'pod_o3_smooth')"
   ]
  },
  {
   "cell_type": "code",
   "execution_count": 17,
   "metadata": {
    "collapsed": false
   },
   "outputs": [],
   "source": [
    "#Delete the first 90 rows of the dataframe to remove all NaNs.\n",
    "df_P = df_P.ix[90:]"
   ]
  },
  {
   "cell_type": "code",
   "execution_count": 18,
   "metadata": {
    "collapsed": false
   },
   "outputs": [
    {
     "name": "stdout",
     "output_type": "stream",
     "text": [
      "                           UnixTime       Temp         Rh  \\\n",
      "DATE (MM/DD/YYYY)_MST                                       \n",
      "2014-07-10 21:55:00    1.405029e+09  43.200000  11.971429   \n",
      "2014-07-10 21:56:00    1.405029e+09  43.200000  11.800000   \n",
      "2014-07-10 21:57:00    1.405029e+09  43.214286  11.700000   \n",
      "2014-07-10 21:58:00    1.405030e+09  43.257143  11.742857   \n",
      "2014-07-10 21:59:00    1.405030e+09  43.228571  11.757143   \n",
      "\n",
      "                       Zenith Angle [degrees]  days from start  ref_o3_smooth  \\\n",
      "DATE (MM/DD/YYYY)_MST                                                           \n",
      "2014-07-10 21:55:00                 110.98962                0             52   \n",
      "2014-07-10 21:56:00                 111.09270                0             55   \n",
      "2014-07-10 21:57:00                 111.19515                0             59   \n",
      "2014-07-10 21:58:00                 111.29696                0             56   \n",
      "2014-07-10 21:59:00                 111.39814                0             51   \n",
      "\n",
      "                       pod_o3_smooth      diff o3_slope_90 o3_slope_75  \\\n",
      "DATE (MM/DD/YYYY)_MST                                                    \n",
      "2014-07-10 21:55:00        94.857143 -0.014286  -0.2648475  -0.1942857   \n",
      "2014-07-10 21:56:00        91.000000 -0.171429  -0.2206349  -0.1552381   \n",
      "2014-07-10 21:57:00        87.000000 -0.100000  -0.3269841  -0.2266667   \n",
      "2014-07-10 21:58:00        87.142857  0.042857  -0.3571429  -0.2838095   \n",
      "2014-07-10 21:59:00        92.142857  0.014286  -0.3373016  -0.2514286   \n",
      "\n",
      "                                ...           03_mult_rh_cu ln_03_mult_rh  \\\n",
      "DATE (MM/DD/YYYY)_MST           ...                                         \n",
      "2014-07-10 21:55:00             ...            1.464361e+09      7.034895   \n",
      "2014-07-10 21:56:00             ...            1.238141e+09      6.978959   \n",
      "2014-07-10 21:57:00             ...            1.054667e+09      6.925497   \n",
      "2014-07-10 21:58:00             ...            1.071561e+09      6.930794   \n",
      "2014-07-10 21:59:00             ...            1.271424e+09      6.987801   \n",
      "\n",
      "                      temp_mult_rh temp_mult_rh_sq temp_mult_rh_cu  \\\n",
      "DATE (MM/DD/YYYY)_MST                                                \n",
      "2014-07-10 21:55:00     517.165714   267460.376033    1.383213e+08   \n",
      "2014-07-10 21:56:00     509.760000   259855.257600    1.324638e+08   \n",
      "2014-07-10 21:57:00     505.607143   255638.582908    1.292527e+08   \n",
      "2014-07-10 21:58:00     507.962449   258025.849573    1.310674e+08   \n",
      "2014-07-10 21:59:00     508.244490   258312.461408    1.312859e+08   \n",
      "\n",
      "                      ln_temp_mult_rh 03_mult_rh_&_temp 03_mult_rh_&_temp_sq  \\\n",
      "DATE (MM/DD/YYYY)_MST                                                          \n",
      "2014-07-10 21:55:00          6.248363      49056.862041         2.406576e+09   \n",
      "2014-07-10 21:56:00          6.233940      46388.160000         2.151861e+09   \n",
      "2014-07-10 21:57:00          6.225760      43987.821429         1.934928e+09   \n",
      "2014-07-10 21:58:00          6.230408      44265.299125         1.959417e+09   \n",
      "2014-07-10 21:59:00          6.230963      46831.099417         2.193152e+09   \n",
      "\n",
      "                      03_mult_rh_&_temp_cu ln_03_mult_rh_&_temp_cu  \n",
      "DATE (MM/DD/YYYY)_MST                                               \n",
      "2014-07-10 21:55:00           1.180591e+14               32.402206  \n",
      "2014-07-10 21:56:00           9.982089e+13               32.234399  \n",
      "2014-07-10 21:57:00           8.511329e+13               32.075004  \n",
      "2014-07-10 21:58:00           8.673417e+13               32.093869  \n",
      "2014-07-10 21:59:00           1.027077e+14               32.262908  \n",
      "\n",
      "[5 rows x 71 columns]\n"
     ]
    }
   ],
   "source": [
    "#ozone terms\n",
    "df_P['O3_sq'] = df_P['pod_o3_smooth']**2\n",
    "df_P['O3_cu'] = df_P['pod_o3_smooth']**3\n",
    "df_P['ln_O3'] = np.log(df_P['pod_o3_smooth'])\n",
    "\n",
    "#temp terms\n",
    "df_P['temp_sq'] = df_P['Temp']**2\n",
    "df_P['temp_cu'] = df_P['Temp']**3\n",
    "df_P['ln_temp'] = np.log(df_P['Temp'])\n",
    "df_P['ln_temp_int_90'] = np.log(df_P['temp_int_90'].astype(int))\n",
    "\n",
    "#rh terms\n",
    "df_P['rh_sq'] = df_P['Rh']**2\n",
    "df_P['rh_cu'] = df_P['Rh']**3\n",
    "df_P['ln_rh'] = np.log(df_P['Rh'])\n",
    "df_P['ln_rh_int_90'] = np.log(df_P['rh_int_90'].astype(int))\n",
    "\n",
    "#ozone/temp interactions\n",
    "df_P['03_mult_temp'] = df_P['pod_o3_smooth']*df_P['Temp']\n",
    "df_P['03_mult_temp_sq'] = (df_P['pod_o3_smooth']*df_P['Temp'])**2\n",
    "df_P['03_mult_temp_cu'] = (df_P['pod_o3_smooth']*df_P['Temp'])**3\n",
    "df_P['ln_03_mult_temp'] = np.log(df_P['03_mult_temp'])\n",
    "\n",
    "#ozone/rh interactions\n",
    "df_P['03_mult_rh'] = df_P['pod_o3_smooth']*df_P['Rh']\n",
    "df_P['03_mult_rh_sq'] = (df_P['pod_o3_smooth']*df_P['Rh'])**2\n",
    "df_P['03_mult_rh_cu'] = (df_P['pod_o3_smooth']*df_P['Rh'])**3\n",
    "df_P['ln_03_mult_rh'] = np.log(df_P['03_mult_rh'])\n",
    "\n",
    "#temp/rh interactions\n",
    "df_P['temp_mult_rh'] = df_P['Temp']*df_P['Rh']\n",
    "df_P['temp_mult_rh_sq'] = (df_P['Temp']*df_P['Rh'])**2\n",
    "df_P['temp_mult_rh_cu'] = (df_P['Temp']*df_P['Rh'])**3\n",
    "df_P['ln_temp_mult_rh'] = np.log(df_P['temp_mult_rh'])\n",
    "\n",
    "\n",
    "#ozone/rh/temp interactions\n",
    "df_P['03_mult_rh_&_temp'] = df_P['pod_o3_smooth']*df_P['Rh']*df_P['Temp']\n",
    "df_P['03_mult_rh_&_temp_sq'] = (df_P['pod_o3_smooth']*df_P['Rh']*df_P['Temp'])**2\n",
    "df_P['03_mult_rh_&_temp_cu'] = (df_P['pod_o3_smooth']*df_P['Rh']*df_P['Temp'])**3\n",
    "df_P['ln_03_mult_rh_&_temp_cu'] = np.log(df_P['03_mult_rh_&_temp_cu'])\n",
    "\n",
    "print df_P[:5]"
   ]
  },
  {
   "cell_type": "code",
   "execution_count": 19,
   "metadata": {
    "collapsed": false
   },
   "outputs": [],
   "source": [
    "df_P.to_csv(path_or_buf = 'D0_smooth_features.csv')"
   ]
  },
  {
   "cell_type": "code",
   "execution_count": null,
   "metadata": {
    "collapsed": false
   },
   "outputs": [],
   "source": []
  }
 ],
 "metadata": {
  "kernelspec": {
   "display_name": "Python 2",
   "language": "python",
   "name": "python2"
  },
  "language_info": {
   "codemirror_mode": {
    "name": "ipython",
    "version": 2
   },
   "file_extension": ".py",
   "mimetype": "text/x-python",
   "name": "python",
   "nbconvert_exporter": "python",
   "pygments_lexer": "ipython2",
   "version": "2.7.8"
  }
 },
 "nbformat": 4,
 "nbformat_minor": 0
}
