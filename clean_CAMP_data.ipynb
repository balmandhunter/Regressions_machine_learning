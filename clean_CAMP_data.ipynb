{
 "cells": [
  {
   "cell_type": "code",
   "execution_count": 8,
   "metadata": {
    "collapsed": false
   },
   "outputs": [],
   "source": [
    "import pandas as pd\n",
    "import matplotlib.pyplot as plt\n",
    "import seaborn as sns\n",
    "import numpy as np\n",
    "%matplotlib inline"
   ]
  },
  {
   "cell_type": "markdown",
   "metadata": {},
   "source": [
    "###Import the data."
   ]
  },
  {
   "cell_type": "code",
   "execution_count": 11,
   "metadata": {
    "collapsed": false
   },
   "outputs": [
    {
     "name": "stdout",
     "output_type": "stream",
     "text": [
      "                       UnixTime  e2v03  Temp    Rh\n",
      "YYYY/MM/DD_HH:MM:SS                               \n",
      "2014-07-07 21:08:01  1404767281    101  44.6  10.0\n",
      "2014-07-07 21:08:22  1404767302    101  44.7  10.0\n",
      "2014-07-07 21:08:43  1404767323    101  44.6  10.0\n",
      "2014-07-07 21:09:04  1404767344    101  44.7  10.1\n",
      "2014-07-07 21:09:24  1404767364    101  44.7  10.2\n"
     ]
    }
   ],
   "source": [
    "df_P = pd.read_csv(filepath_or_buffer = 'D3_all.csv', parse_dates = [[1,2]], index_col = False)  \n",
    "df_P = df_P.set_index('YYYY/MM/DD_HH:MM:SS')\n",
    "df_P.drop(df_P.columns[[0,2,3,4,5,6,8,9,10,11,12,15,16,17,18,19,20,21,22,23,24,25,26,27,28,29,30,31,32,33,34,35,36,37,38,39,40]], axis=1, inplace=True)\n",
    "\n",
    "#df_P = pd.io.parsers.read_csv(filepath_or_buffer = 'D3_all.csv', parse_dates = [0], index_col = 0)\n",
    "print df_P[:5]"
   ]
  },
  {
   "cell_type": "code",
   "execution_count": null,
   "metadata": {
    "collapsed": false
   },
   "outputs": [],
   "source": [
    "df_P.drop(df_P.columns[[4]], axis=1, inplace=True)\n",
    "\n",
    "#df_P = pd.io.parsers.read_csv(filepath_or_buffer = 'D3_new_features.csv', parse_dates = [0], index_col = 0)\n",
    "print df_P[:5]"
   ]
  },
  {
   "cell_type": "markdown",
   "metadata": {},
   "source": [
    "#If you have already written a new file after cleaning a row, import it before cleaning the next row."
   ]
  },
  {
   "cell_type": "code",
   "execution_count": 3,
   "metadata": {
    "collapsed": false
   },
   "outputs": [],
   "source": [
    "df_P = pd.io.parsers.read_csv(filepath_or_buffer = 'clean_CAMP.csv',index_col = 0)"
   ]
  },
  {
   "cell_type": "markdown",
   "metadata": {},
   "source": [
    "#Start here if this is the first run through the file."
   ]
  },
  {
   "cell_type": "markdown",
   "metadata": {},
   "source": [
    "####Enter the column number you'd like to evaluate."
   ]
  },
  {
   "cell_type": "code",
   "execution_count": 30,
   "metadata": {
    "collapsed": false
   },
   "outputs": [],
   "source": [
    "#col = raw_input('Enter the column you would like to inspect: ')\n",
    "col = 'Rh'"
   ]
  },
  {
   "cell_type": "markdown",
   "metadata": {},
   "source": [
    "####Define a function, called unique_column_values, that displays every unique value in the selected column."
   ]
  },
  {
   "cell_type": "code",
   "execution_count": 31,
   "metadata": {
    "collapsed": false
   },
   "outputs": [],
   "source": [
    "def unique_column_values(df,column_name):\n",
    "\n",
    "    #df.keys generates a list containing all of the column names\n",
    "    column_names = df.keys()\n",
    "    #look at every unique value in each column sto make sure they look reasonable\n",
    "    #column_num is the number of the column that the user picks\n",
    "    print column_name, df[column_name].unique()"
   ]
  },
  {
   "cell_type": "markdown",
   "metadata": {},
   "source": [
    "\n",
    "####Call the unique_column_values function for column of the data that you want to evaluate. Look at the data and make sure there aren't any obvious outliers.\n"
   ]
  },
  {
   "cell_type": "code",
   "execution_count": 32,
   "metadata": {
    "collapsed": false
   },
   "outputs": [
    {
     "name": "stdout",
     "output_type": "stream",
     "text": [
      "Rh [ 10.   10.1  10.2  10.3  10.4  10.6  10.5  10.7  10.8  10.9  11.   11.1\n",
      "  11.2  11.3  11.4  11.5  11.6  11.7  11.8  11.9  12.1  12.2  12.6  12.9\n",
      "  13.   13.1  13.2  13.3  13.4  13.5  13.6  13.7  12.8  12.7  20.2  19.6\n",
      "  19.3  19.   18.8  18.2  18.6  19.1  18.   17.9  18.3  19.4  19.8  18.5\n",
      "  17.7  17.4  17.6  17.3  17.8  18.1  17.5  17.2  17.1  17.   16.9  16.6\n",
      "  16.4  16.3  16.   15.9  15.8  15.7  15.6  16.7  16.8  16.2  16.1  16.5\n",
      "  18.4  18.7  18.9  19.2  19.5  19.7  19.9  20.   20.1  20.4  20.5  21.\n",
      "  21.6  22.1  22.6  22.4  22.7  23.1  23.2  23.4  23.6  23.9  24.1  24.3\n",
      "  24.4  24.   22.8  22.3  22.   21.7  21.5  21.8  22.2  22.9  23.   23.3\n",
      "  24.2  24.5  24.8  24.9  25.2  25.4  25.5  25.8  25.9  26.1  26.2  26.4\n",
      "  26.5  26.6  26.8  27.   27.1  27.2  27.3  27.4  27.5  27.6  27.7  27.8\n",
      "  27.9  28.   28.1  28.2  28.3  28.4  28.5  28.6  28.7  28.8  28.9  29.\n",
      "  29.1  29.2  29.4  29.5  29.6  29.7  29.8  29.9  30.   30.3  30.5  30.6\n",
      "  30.7  30.9  31.2  31.6  31.9  32.2  31.7  31.8  32.5  34.7  37.   38.5\n",
      "  39.1  39.8  40.5  41.4  41.5  40.3  40.1  41.2  42.9  43.   42.5  42.4\n",
      "  43.7  44.7  44.6  44.9  44.8  45.1  45.5  46.   46.2  46.6  46.7  47.1\n",
      "  47.6  48.5  49.3  49.1  49.2  49.4  50.   49.8  49.9  50.3  50.6  51.4\n",
      "  52.4  53.   53.3  53.7  53.2  53.6  53.1  54.3  55.   55.1  55.2  55.3\n",
      "  56.   56.3  56.7  56.6  55.8  55.6  56.5  57.1  57.4  57.6  57.7  56.8\n",
      "  56.9  58.1  58.2  58.3  57.8  57.9  58.8  58.7  58.6  59.1  59.3  59.\n",
      "  57.   57.3  58.   58.4  59.2  59.4  59.6  58.9  59.5  59.8  60.2  60.9\n",
      "  59.7  60.4  60.1  59.9  60.   60.5  60.6  60.3  61.2  61.1  61.   58.5\n",
      "  57.5  57.2  56.4  55.5  56.1  55.9  56.2  54.9  54.6  54.7  54.8  54.5\n",
      "  54.2  54.1  54.   54.4  53.8  53.4  53.5  52.9  52.8  53.9  55.4  61.5\n",
      "  61.3  61.4  61.8  62.   62.3  62.6  62.7  62.9  63.   63.5  63.8  64.1\n",
      "  64.5  64.7  64.9  65.2  65.5  65.7  66.2  66.4  66.7  66.8  67.   67.2\n",
      "  67.4  67.6  67.7  67.9  68.2  68.7  69.   69.1  69.3  69.4  69.6  69.7\n",
      "  69.5  69.2  69.8  69.9  70.2  70.3  70.5  70.4  70.6  70.   70.1  70.7\n",
      "  70.8  70.9  68.9  68.8  68.6  68.5  68.3  68.4  68.1  68.   67.8  67.5\n",
      "  67.3  66.9  67.1  66.3  66.5  66.6  66.   65.9  65.8  65.6  65.3  65.4\n",
      "  65.1  64.6  64.2  64.3  64.4  64.8  65.   64.   63.9  63.4  63.2  63.3\n",
      "  63.1  63.6  63.7  62.5  62.4  62.1  62.2  62.8  61.9  61.6  61.7  60.7\n",
      "  55.7  52.7  52.6  52.2  52.1  52.   51.8  51.9  52.3  52.5  51.7  51.1\n",
      "  51.   50.9  51.2  50.7  50.8  49.7  49.   49.5  48.9  48.8  48.6  48.7\n",
      "  49.6  50.1  50.2  50.4  50.5  48.2  48.1  47.8  47.9  47.3  47.   47.4\n",
      "  47.2  47.5  46.9  46.4  46.5  46.8  46.3  45.8  45.4  45.2  45.   44.5\n",
      "  44.4  44.3  44.2  44.1  43.9  43.8  43.6  43.5  43.4  43.3  43.2  43.1\n",
      "  42.8  42.7  42.6  42.3  42.2  42.1  41.8  41.   40.7  40.9  40.4  40.2\n",
      "  40.   39.7  39.5  39.6  40.6  39.9  39.4  39.2  38.8  38.6  38.4  38.3\n",
      "  38.2  38.   37.9  37.8  37.6  38.1  37.5  37.4  37.2  37.1  36.9  36.8\n",
      "  37.3  36.7  36.6  36.3  36.   35.8  35.9  35.4  35.2  35.1  35.   35.3\n",
      "  34.9  34.8  34.6  34.4  34.3  34.2  34.   33.9  33.8  33.7  34.1  33.\n",
      "  33.6  33.3  33.2  32.9  32.8  32.7  32.6  32.4  32.3  32.1  31.5  31.3\n",
      "  31.1  31.4  30.8  31.   30.4  30.2  30.1  29.3  26.9  32.   33.1  33.4\n",
      "  33.5  34.5  35.5  35.7  35.6  36.1  36.2  36.4  36.5  37.7  38.7  38.9\n",
      "  39.   39.3  40.8  41.3  41.6  42.   41.7  41.9  44.   45.7  45.6  45.3\n",
      "  45.9  46.1  48.3  48.4  48.   51.3  51.5  51.6  26.7  26.3  26.   25.7\n",
      "  25.6  25.3  25.   24.7  24.6  23.8  23.7  23.5  22.5  21.9  21.4  21.3\n",
      "  21.2  21.1  20.9  20.8  20.6  20.7  20.3  15.5  15.2  15.1  15.3  15.4\n",
      "  15.   14.9  14.8  14.7  14.6  14.5  14.4  14.3  14.1  14.2  13.9  13.8\n",
      "  14.   12.5  12.   12.4  12.3  25.1  41.1  47.7  60.8  66.1]\n"
     ]
    }
   ],
   "source": [
    "unique_column_values(df_P,col)"
   ]
  },
  {
   "cell_type": "markdown",
   "metadata": {},
   "source": [
    "####Define a function, column_plot, that gives you a plot of all of the data on one column. Look for outliers."
   ]
  },
  {
   "cell_type": "code",
   "execution_count": 33,
   "metadata": {
    "collapsed": false
   },
   "outputs": [],
   "source": [
    "def column_plot(df,column_name):\n",
    "\n",
    "    #df.keys generates a list containing all of the column names\n",
    "    column_names = df.keys()\n",
    "    print column_names\n",
    "    #look at every unique value in each column sto make sure they look reasonable\n",
    "    #column_num is the number of the column that the user picks\n",
    "    df[column_name].plot(marker = '.',figsize = (20,10),legend = True)\n",
    "    #, xlim=['2014-08-19 00:00:00', '2014-08-21 00:00:00']"
   ]
  },
  {
   "cell_type": "markdown",
   "metadata": {},
   "source": [
    "####Call the function, column_plot, using the column of the data that you want to plot."
   ]
  },
  {
   "cell_type": "code",
   "execution_count": 34,
   "metadata": {
    "collapsed": false
   },
   "outputs": [
    {
     "name": "stdout",
     "output_type": "stream",
     "text": [
      "Index([u'UnixTime', u'e2v03', u'Temp', u'Rh'], dtype='object')\n"
     ]
    },
    {
     "data": {
      "image/png": "[encoded data removed]",
      "text/plain": [
       "<matplotlib.figure.Figure at 0x1094ca390>"
      ]
     },
     "metadata": {},
     "output_type": "display_data"
    }
   ],
   "source": [
    "column_plot(df_P,col)"
   ]
  },
  {
   "cell_type": "markdown",
   "metadata": {},
   "source": [
    "#You can stop here and move on the the next column if you don't see any outliers!!!!"
   ]
  },
  {
   "cell_type": "markdown",
   "metadata": {},
   "source": [
    "####Define a function, remove_data_above, that removes data above a specified value."
   ]
  },
  {
   "cell_type": "code",
   "execution_count": 17,
   "metadata": {
    "collapsed": false
   },
   "outputs": [],
   "source": [
    "def remove_data_above(df,column_name,n):\n",
    "\n",
    "    #df.keys generates a list containing all of the column names\n",
    "    column_names = df.keys()\n",
    "    #remove values below/above n from the matrix\n",
    "    df = df[df[column_name] < n]\n",
    "    #print unique values to make sure the bad ones got removed\n",
    "    print column_name, df[column_name].unique()\n",
    "    #return the dataframe, so that it can be used to change df_K\n",
    "    return df"
   ]
  },
  {
   "cell_type": "markdown",
   "metadata": {},
   "source": [
    "####Define a function, remove_data_below, that removes data below a specified value."
   ]
  },
  {
   "cell_type": "code",
   "execution_count": 34,
   "metadata": {
    "collapsed": false
   },
   "outputs": [],
   "source": [
    "def remove_data_below(df,column_name,n):\n",
    "\n",
    "    #df.keys generates a list containing all of the column names\n",
    "    column_names = df.keys()\n",
    "    #remove values below/above n from the matrix\n",
    "    df = df[df[column_name] > n]\n",
    "    #print unique values to make sure the bad ones got removed\n",
    "    print column_name, df[column_name].unique()\n",
    "    #return the dataframe, so that it can be used to change df_K\n",
    "    return df"
   ]
  },
  {
   "cell_type": "markdown",
   "metadata": {},
   "source": [
    "####Call the function, remove_data_above, to remove data above a certain value, by entering (df_K,col,value)."
   ]
  },
  {
   "cell_type": "code",
   "execution_count": 23,
   "metadata": {
    "collapsed": false
   },
   "outputs": [
    {
     "name": "stdout",
     "output_type": "stream",
     "text": [
      "e2v03 [101 100 102 103 104 106 105 107 108  99 109 111 112  98  97  96  95 110\n",
      "  94  93 115  92  91  90  89  88  87  86  85 113 114 122 126 127 124 120\n",
      " 118 121 116  83  80  79  77  78  81  84  82 130 134 131 117 119 123 125\n",
      " 129 128 132 133  76  75  74  73  72  71  70  69  67  66  65  68  64  63\n",
      "  62  61  60  59  58  57  56  55 135 136 137 138 139 140 141 142 143 144\n",
      " 145 147 146 148 152 153 150 149 175 166 160 156 173 176 164 154 161 151\n",
      " 165 168 155 157 162 159  54  53  52  51  50  49  48  47  46  45  44  43\n",
      " 158 163]\n"
     ]
    }
   ],
   "source": [
    "df_P = remove_data_above(df_P,col,180)"
   ]
  },
  {
   "cell_type": "markdown",
   "metadata": {},
   "source": [
    "####Call the function, remove_data_below, to remove data below a certain value, by entering (df_K,col,value)."
   ]
  },
  {
   "cell_type": "code",
   "execution_count": 59,
   "metadata": {
    "collapsed": false
   },
   "outputs": [
    {
     "name": "stdout",
     "output_type": "stream",
     "text": [
      "Temp [ 40.2  40.1  40.3  40.4  40.5  40.6  40.8  40.9  41.   41.2  41.1  41.3\n",
      "  41.4  41.5  41.6  41.7  41.8  41.9  42.   42.1  40.7  40.   39.9  39.8\n",
      "  39.7  39.6  39.5  39.4  39.3  39.2  39.1  39.   38.9  38.8  38.7  38.6\n",
      "  38.5  38.4  38.3  38.2  38.1  38.   37.9  37.8  37.7  37.6  37.5  37.4\n",
      "  37.3  37.2  37.1  37.   36.9  36.8  36.7  36.6  36.5  36.4  36.3  36.2\n",
      "  36.1  36.   35.9  35.8  35.7  35.6  35.5  35.4  35.3  35.2  35.1  35.\n",
      "  34.9  34.8  34.7  34.6  34.5  34.4  34.3  34.2  34.1  34.   33.9  33.8\n",
      "  33.7  33.6  33.5  33.4  33.3  33.2  33.1  33.   32.9  32.8  32.7  32.6\n",
      "  32.5  32.4  32.3  32.2  32.1  32.   31.9  31.8  31.7  31.6  31.5  31.4\n",
      "  31.3  31.2  31.1  31.   30.9  30.8  30.7  30.6  30.5  30.4  30.3  30.2\n",
      "  30.1  30.   29.9  29.8  29.7  29.6  29.5  29.4  29.3  29.2  29.1  29.\n",
      "  28.9  28.8  28.7  28.6  28.5  28.4  28.3  28.2  28.1  28.   27.9  27.8\n",
      "  27.7  27.6  27.5  27.4  27.3  27.2  27.1  27.   26.9  26.8  26.7  26.6\n",
      "  26.5  26.4  26.3  26.2  26.1  26.   25.9  25.8  25.7  25.6  25.5  25.4\n",
      "  25.3  25.2  25.1  25.   24.9  24.8  24.7  24.6  24.5  24.4  24.3  24.2\n",
      "  24.1  24.   23.9  23.8  23.7  23.6  23.5  23.4  23.3  23.2  23.1  23.\n",
      "  22.9  22.8  22.7  22.6  22.5  22.4  22.3  22.2  22.1  22.   21.9  21.8\n",
      "  21.7  21.6  21.5  21.4  21.3  21.2  21.1  21.   20.9  20.8  20.7  20.6\n",
      "  20.5  20.4  20.3  20.2  20.1  20.   19.9  19.8  19.7  19.6  19.5  19.4\n",
      "  19.3  19.2  42.2  42.3  42.4  42.5  42.6  42.7  42.8  42.9  43.   43.1\n",
      "  43.2  43.3  43.4  43.5  43.6  43.7  43.8  43.9  44.   44.1  44.2  44.3\n",
      "  44.4  44.5  44.6  44.7  44.8  44.9  45.   45.1  45.2  45.3  45.4  45.5\n",
      "  45.6  45.7  45.8  45.9  19.1  19.   18.9  18.8  18.7  18.6  18.5  18.4\n",
      "  18.3  18.2  18.1  18.   17.9  17.8  17.7  17.6  17.5  17.4  17.3  17.2\n",
      "  17.1  17.   16.9  16.8  16.7  16.6  16.5  16.4  16.3  16.2  16.1  16.\n",
      "  15.9  15.8  15.7  15.6  15.5  15.4  15.3  15.2  15.1  15.   14.9  14.8\n",
      "  14.7  14.6  14.5  14.4  14.3]\n"
     ]
    }
   ],
   "source": [
    "df_P = remove_data_below(df_P,col,0)"
   ]
  },
  {
   "cell_type": "markdown",
   "metadata": {},
   "source": [
    "####Replot the data to see how well the cleaning worked."
   ]
  },
  {
   "cell_type": "code",
   "execution_count": 341,
   "metadata": {
    "collapsed": false
   },
   "outputs": [
    {
     "name": "stdout",
     "output_type": "stream",
     "text": [
      "Index([u'UnixTime', u'e2v03', u'Temp', u'Rh', u'Wind'], dtype='object')\n"
     ]
    },
    {
     "data": {
      "image/png": "[encoded data removed]",
      "text/plain": [
       "<matplotlib.figure.Figure at 0x10cf370d0>"
      ]
     },
     "metadata": {},
     "output_type": "display_data"
    }
   ],
   "source": [
    "column_plot(df_P,col)"
   ]
  },
  {
   "cell_type": "markdown",
   "metadata": {},
   "source": [
    "#Go back and clean the data again if necessary."
   ]
  },
  {
   "cell_type": "markdown",
   "metadata": {},
   "source": [
    "###Otherwise, write the new dataframe to a file. Do this after cleaning each row, so that if you make a mistake with a row, you don't have to reclean all of the other rows."
   ]
  },
  {
   "cell_type": "code",
   "execution_count": 35,
   "metadata": {
    "collapsed": false
   },
   "outputs": [],
   "source": [
    "df_P.to_csv(path_or_buf = 'D3_clean.csv')"
   ]
  },
  {
   "cell_type": "code",
   "execution_count": null,
   "metadata": {
    "collapsed": false
   },
   "outputs": [],
   "source": []
  }
 ],
 "metadata": {
  "kernelspec": {
   "display_name": "Python 2",
   "language": "python",
   "name": "python2"
  },
  "language_info": {
   "codemirror_mode": {
    "name": "ipython",
    "version": 2
   },
   "file_extension": ".py",
   "mimetype": "text/x-python",
   "name": "python",
   "nbconvert_exporter": "python",
   "pygments_lexer": "ipython2",
   "version": "2.7.10"
  }
 },
 "nbformat": 4,
 "nbformat_minor": 0
}
