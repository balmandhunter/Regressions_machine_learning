{
 "cells": [
  {
   "cell_type": "code",
   "execution_count": 123,
   "metadata": {
    "collapsed": false
   },
   "outputs": [],
   "source": [
    "import pandas as pd\n",
    "import matplotlib.pyplot as plt\n",
    "import seaborn as sns\n",
    "import numpy as np\n",
    "%matplotlib inline"
   ]
  },
  {
   "cell_type": "code",
   "execution_count": 124,
   "metadata": {
    "collapsed": false
   },
   "outputs": [
    {
     "name": "stdout",
     "output_type": "stream",
     "text": [
      "                       O3_ppb      UnixTime      e2v03       Temp         Rh  \\\n",
      "DATE (MM/DD/YYYY)_MST                                                          \n",
      "2014-07-11 02:00:00        39  1.405044e+09  93.115385  34.188462  24.403846   \n",
      "2014-07-11 02:01:00        36  1.405044e+09  80.600000  34.120000  24.380000   \n",
      "2014-07-11 02:02:00        35  1.405044e+09  75.920000  34.100000  24.444000   \n",
      "2014-07-11 02:03:00        36  1.405044e+09  81.346154  34.100000  24.361538   \n",
      "2014-07-11 02:04:00        36  1.405044e+09  83.240000  34.080000  24.632000   \n",
      "\n",
      "                       Zenith Angle [degrees]  days from start  ref_o3_smooth  \\\n",
      "DATE (MM/DD/YYYY)_MST                                                           \n",
      "2014-07-11 02:00:00                 112.71042                0             39   \n",
      "2014-07-11 02:01:00                 112.61820                0             36   \n",
      "2014-07-11 02:02:00                 112.52530                0             35   \n",
      "2014-07-11 02:03:00                 112.43173                0             36   \n",
      "2014-07-11 02:04:00                 112.33748                0             36   \n",
      "\n",
      "                       pod_o3_smooth  \n",
      "DATE (MM/DD/YYYY)_MST                 \n",
      "2014-07-11 02:00:00        93.115385  \n",
      "2014-07-11 02:01:00        80.600000  \n",
      "2014-07-11 02:02:00        75.920000  \n",
      "2014-07-11 02:03:00        81.346154  \n",
      "2014-07-11 02:04:00        83.240000  \n"
     ]
    }
   ],
   "source": [
    "#df_P = pd.read_csv(filepath_or_buffer = 'D3_pre.csv', parse_dates = [[1,2]], index_col = False)  \n",
    "#df_P = df_P.set_index('YYYY/MM/DD_HH:MM:SS')\n",
    "#df_P.drop(df_P.columns[[0,2,3,4,5,6,9,10,11,12,15,16,17,18,19,20,21,22,23,24,25,26,27,28,29,30,31,32,33,34,35,36,37,38,39,40]], axis=1, inplace=True)\n",
    "df_P = pd.io.parsers.read_csv(filepath_or_buffer = 'F6_filt_10mino3.csv',index_col = 0)\n",
    "print df_P[:5]"
   ]
  },
  {
   "cell_type": "markdown",
   "metadata": {},
   "source": [
    "####Define functions that create features, which represent the area under the temp and humidity curves."
   ]
  },
  {
   "cell_type": "code",
   "execution_count": 125,
   "metadata": {
    "collapsed": false
   },
   "outputs": [],
   "source": [
    "def make_temp_time_integral_features(df_P,int_min):\n",
    "    int_min = 90\n",
    "    area_curve = []\n",
    "\n",
    "    for i in range(int_min,len(df_P.Temp)):\n",
    "        top = i-int_min\n",
    "        area_curve.append(np.trapz(df_P.Temp[top:i]))\n",
    "    \n",
    "    for i in range(0,int_min):\n",
    "        area_curve.insert(i, 'NaN')\n",
    "    \n",
    "    return area_curve"
   ]
  },
  {
   "cell_type": "code",
   "execution_count": 126,
   "metadata": {
    "collapsed": false
   },
   "outputs": [],
   "source": [
    "def make_rh_time_integral_features(df_P,int_min):\n",
    "    int_min = 90\n",
    "    area_curve = []\n",
    "\n",
    "    for i in range(int_min,len(df_P.Rh)):\n",
    "        top = i-int_min\n",
    "        area_curve.append(np.trapz(df_P.Rh[top:i]))\n",
    "    \n",
    "    #insert NaNs into the beginning of the file, where \n",
    "    for i in range(0,int_min):\n",
    "        area_curve.insert(i, 'NaN')\n",
    "    \n",
    "    return area_curve"
   ]
  },
  {
   "cell_type": "markdown",
   "metadata": {},
   "source": [
    "###Call the integration functions and add them to the dataframe."
   ]
  },
  {
   "cell_type": "code",
   "execution_count": 127,
   "metadata": {
    "collapsed": false
   },
   "outputs": [],
   "source": [
    "df_P['rh_int_90'] = make_rh_time_integral_features(df_P,90)\n",
    "df_P['rh_int_75'] = make_rh_time_integral_features(df_P,75)\n",
    "df_P['rh_int_60'] = make_rh_time_integral_features(df_P,60)\n",
    "df_P['rh_int_45'] = make_rh_time_integral_features(df_P,45)\n",
    "df_P['rh_int_30'] = make_rh_time_integral_features(df_P,30)\n",
    "\n",
    "df_P['temp_int_90'] = make_temp_time_integral_features(df_P,90)\n",
    "df_P['temp_int_75'] = make_temp_time_integral_features(df_P,75)\n",
    "df_P['temp_int_60'] = make_temp_time_integral_features(df_P,60)\n",
    "df_P['temp_int_45'] = make_temp_time_integral_features(df_P,45)\n",
    "df_P['temp_int_30'] = make_temp_time_integral_features(df_P,30)"
   ]
  },
  {
   "cell_type": "code",
   "execution_count": 128,
   "metadata": {
    "collapsed": false
   },
   "outputs": [],
   "source": [
    "#Delete the first 90 rows of the dataframe to remove all NaNs.\n",
    "df_P = df_P.ix[90:]\n"
   ]
  },
  {
   "cell_type": "code",
   "execution_count": 129,
   "metadata": {
    "collapsed": false
   },
   "outputs": [],
   "source": [
    "#df_P.drop(df_P.columns[[9]], axis=1, inplace=True)\n",
    "#print df_P[:5]"
   ]
  },
  {
   "cell_type": "code",
   "execution_count": 130,
   "metadata": {
    "collapsed": false
   },
   "outputs": [
    {
     "name": "stdout",
     "output_type": "stream",
     "text": [
      "                       O3_ppb      UnixTime      e2v03    Temp         Rh  \\\n",
      "DATE (MM/DD/YYYY)_MST                                                       \n",
      "2014-07-11 03:30:00        31  1.405049e+09  71.560000  32.200  25.232000   \n",
      "2014-07-11 03:31:00        30  1.405049e+09  64.200000  32.200  24.976000   \n",
      "2014-07-11 03:32:00        29  1.405050e+09  61.960000  32.200  24.996000   \n",
      "2014-07-11 03:33:00        26  1.405050e+09  59.640000  32.132  25.128000   \n",
      "2014-07-11 03:34:00        22  1.405050e+09  55.423077  32.100  25.242308   \n",
      "\n",
      "                       Zenith Angle [degrees]  days from start  ref_o3_smooth  \\\n",
      "DATE (MM/DD/YYYY)_MST                                                           \n",
      "2014-07-11 03:30:00                 102.04297                0             31   \n",
      "2014-07-11 03:31:00                 101.90141                0             30   \n",
      "2014-07-11 03:32:00                 101.75942                0             29   \n",
      "2014-07-11 03:33:00                 101.61701                0             26   \n",
      "2014-07-11 03:34:00                 101.47419                0             22   \n",
      "\n",
      "                       pod_o3_smooth rh_int_90           ...             \\\n",
      "DATE (MM/DD/YYYY)_MST                                    ...              \n",
      "2014-07-11 03:30:00        71.560000  2246.348           ...              \n",
      "2014-07-11 03:31:00        64.200000  2247.148           ...              \n",
      "2014-07-11 03:32:00        61.960000   2247.84           ...              \n",
      "2014-07-11 03:33:00        59.640000  2248.423           ...              \n",
      "2014-07-11 03:34:00        55.423077  2248.988           ...              \n",
      "\n",
      "                      03_mult_rh_cu ln_03_mult_rh temp_mult_rh  \\\n",
      "DATE (MM/DD/YYYY)_MST                                            \n",
      "2014-07-11 03:30:00    5.886620e+09      7.498649   812.470400   \n",
      "2014-07-11 03:31:00    4.122624e+09      7.379919   804.227200   \n",
      "2014-07-11 03:32:00    3.714888e+09      7.345205   804.871200   \n",
      "2014-07-11 03:33:00    3.365787e+09      7.312309   807.412896   \n",
      "2014-07-11 03:34:00    2.738162e+09      7.243518   810.278077   \n",
      "\n",
      "                      temp_mult_rh_sq temp_mult_rh_cu ln_temp_mult_rh  \\\n",
      "DATE (MM/DD/YYYY)_MST                                                   \n",
      "2014-07-11 03:30:00     660108.150876    5.363183e+08        6.700079   \n",
      "2014-07-11 03:31:00     646781.389220    5.201592e+08        6.689882   \n",
      "2014-07-11 03:32:00     647817.648589    5.214098e+08        6.690682   \n",
      "2014-07-11 03:33:00     651915.584627    5.263651e+08        6.693835   \n",
      "2014-07-11 03:34:00     656550.561942    5.319885e+08        6.697377   \n",
      "\n",
      "                      03_mult_rh_&_temp 03_mult_rh_&_temp_sq  \\\n",
      "DATE (MM/DD/YYYY)_MST                                          \n",
      "2014-07-11 03:30:00        58140.381824         3.380304e+09   \n",
      "2014-07-11 03:31:00        51631.386240         2.665800e+09   \n",
      "2014-07-11 03:32:00        49869.819552         2.486999e+09   \n",
      "2014-07-11 03:33:00        48154.105117         2.318818e+09   \n",
      "2014-07-11 03:34:00        44908.104186         2.016738e+09   \n",
      "\n",
      "                      03_mult_rh_&_temp_cu  ln_03_mult_rh_&_temp_cu  \n",
      "DATE (MM/DD/YYYY)_MST                                                \n",
      "2014-07-11 03:30:00           1.965322e+14                32.911847  \n",
      "2014-07-11 03:31:00           1.376390e+14                32.555655  \n",
      "2014-07-11 03:32:00           1.240262e+14                32.451514  \n",
      "2014-07-11 03:33:00           1.116606e+14                32.346485  \n",
      "2014-07-11 03:34:00           9.056787e+13                32.137121  \n",
      "\n",
      "[5 rows x 46 columns]\n"
     ]
    }
   ],
   "source": [
    "#ozone terms\n",
    "df_P['O3_sq'] = df_P['e2v03']**2\n",
    "df_P['O3_cu'] = df_P['e2v03']**3\n",
    "df_P['ln_O3'] = np.log(df_P['e2v03'])\n",
    "\n",
    "#temp terms\n",
    "df_P['temp_sq'] = df_P['Temp']**2\n",
    "df_P['temp_cu'] = df_P['Temp']**3\n",
    "df_P['ln_temp'] = np.log(df_P['Temp'])\n",
    "df_P['ln_temp_int_90'] = np.log(df_P['temp_int_90'].astype(int))\n",
    "\n",
    "#rh terms\n",
    "df_P['rh_sq'] = df_P['Rh']**2\n",
    "df_P['rh_cu'] = df_P['Rh']**3\n",
    "df_P['ln_rh'] = np.log(df_P['Rh'])\n",
    "df_P['ln_rh_int_90'] = np.log(df_P['rh_int_90'].astype(int))\n",
    "\n",
    "#ozone/temp interactions\n",
    "df_P['03_mult_temp'] = df_P['e2v03']*df_P['Temp']\n",
    "df_P['03_mult_temp_sq'] = (df_P['e2v03']*df_P['Temp'])**2\n",
    "df_P['03_mult_temp_cu'] = (df_P['e2v03']*df_P['Temp'])**3\n",
    "df_P['ln_03_mult_temp'] = np.log(df_P['03_mult_temp'])\n",
    "\n",
    "#ozone/rh interactions\n",
    "df_P['03_mult_rh'] = df_P['e2v03']*df_P['Rh']\n",
    "df_P['03_mult_rh_sq'] = (df_P['e2v03']*df_P['Rh'])**2\n",
    "df_P['03_mult_rh_cu'] = (df_P['e2v03']*df_P['Rh'])**3\n",
    "df_P['ln_03_mult_rh'] = np.log(df_P['03_mult_rh'])\n",
    "\n",
    "#temp/rh interactions\n",
    "df_P['temp_mult_rh'] = df_P['Temp']*df_P['Rh']\n",
    "df_P['temp_mult_rh_sq'] = (df_P['Temp']*df_P['Rh'])**2\n",
    "df_P['temp_mult_rh_cu'] = (df_P['Temp']*df_P['Rh'])**3\n",
    "df_P['ln_temp_mult_rh'] = np.log(df_P['temp_mult_rh'])\n",
    "\n",
    "\n",
    "#ozone/rh/temp interactions\n",
    "df_P['03_mult_rh_&_temp'] = df_P['e2v03']*df_P['Rh']*df_P['Temp']\n",
    "df_P['03_mult_rh_&_temp_sq'] = (df_P['e2v03']*df_P['Rh']*df_P['Temp'])**2\n",
    "df_P['03_mult_rh_&_temp_cu'] = (df_P['e2v03']*df_P['Rh']*df_P['Temp'])**3\n",
    "df_P['ln_03_mult_rh_&_temp_cu'] = np.log(df_P['03_mult_rh_&_temp_cu'])\n",
    "\n",
    "print df_P[:5]"
   ]
  },
  {
   "cell_type": "code",
   "execution_count": 131,
   "metadata": {
    "collapsed": false
   },
   "outputs": [],
   "source": [
    "df_P.to_csv(path_or_buf = 'F6_clean_features.csv')"
   ]
  },
  {
   "cell_type": "code",
   "execution_count": null,
   "metadata": {
    "collapsed": false
   },
   "outputs": [],
   "source": []
  }
 ],
 "metadata": {
  "kernelspec": {
   "display_name": "Python 2",
   "language": "python",
   "name": "python2"
  },
  "language_info": {
   "codemirror_mode": {
    "name": "ipython",
    "version": 2
   },
   "file_extension": ".py",
   "mimetype": "text/x-python",
   "name": "python",
   "nbconvert_exporter": "python",
   "pygments_lexer": "ipython2",
   "version": "2.7.8"
  }
 },
 "nbformat": 4,
 "nbformat_minor": 0
}
